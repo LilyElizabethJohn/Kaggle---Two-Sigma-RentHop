{
 "cells": [
  {
   "cell_type": "markdown",
   "metadata": {},
   "source": [
    "# RentHop - Model 1\n",
    "\n",
    "\"\"\"\n",
    "Author - Lily Elizabeth John\n",
    "Date - 04/19/2017\n",
    "Project - Kaggle - Renthop - Women Who Code - Workshop\n",
    "Project Description : To predict interest level (Low, Medium, high) for listings. The dataset was provided by Two Sigma and Renthop.\n",
    "\"\"\""
   ]
  },
  {
   "cell_type": "markdown",
   "metadata": {},
   "source": [
    "### Import Libraries"
   ]
  },
  {
   "cell_type": "code",
   "execution_count": 78,
   "metadata": {
    "collapsed": true
   },
   "outputs": [],
   "source": [
    "#Import libraries\n",
    "import numpy as np\n",
    "import pandas as pd\n",
    "import seaborn as sns\n",
    "import matplotlib.pyplot as plt\n",
    "%matplotlib inline\n",
    "sns.set_style(\"whitegrid\")\n",
    "\n",
    "#Import metrics libraries\n",
    "from sklearn.metrics import accuracy_score\n",
    "from sklearn.cross_validation import cross_val_score\n",
    "from sklearn.metrics import roc_auc_score\n",
    "from sklearn.metrics import confusion_matrix\n",
    "from sklearn.metrics import log_loss\n",
    "from sklearn.metrics import classification_report\n",
    "\n",
    "#Import CV libraries\n",
    "from sklearn.cross_validation import train_test_split\n",
    "from sklearn.cross_validation import KFold\n",
    "from sklearn.preprocessing import Imputer\n",
    "\n",
    "#Import Clustering Libraries\n",
    "from sklearn.cluster import KMeans\n",
    "from sklearn.decomposition import PCA\n",
    "from sklearn.preprocessing import scale\n",
    "\n",
    "#Import model libraries\n",
    "from sklearn.linear_model import LogisticRegressionCV\n",
    "from sklearn.svm import SVC\n",
    "from sklearn.tree import DecisionTreeClassifier\n",
    "from sklearn.tree import export_graphviz\n",
    "from sklearn.ensemble import RandomForestClassifier\n",
    "from sklearn.neighbors import KNeighborsClassifier\n",
    "from sklearn.grid_search import GridSearchCV"
   ]
  },
  {
   "cell_type": "markdown",
   "metadata": {},
   "source": [
    "## Read Data"
   ]
  },
  {
   "cell_type": "code",
   "execution_count": 3,
   "metadata": {
    "collapsed": true
   },
   "outputs": [],
   "source": [
    "#Read Data\n",
    "train_df=pd.read_json(\"C:/Users/ljohn/Documents/2017/Personal/WWC - Kaggle/Exploring Train.JSON/train.json\")\n",
    "test_df=pd.read_json(\"C:/Users/ljohn/Documents/2017/Personal/WWC - Kaggle/Exploring Train.JSON/test.json\")"
   ]
  },
  {
   "cell_type": "code",
   "execution_count": 4,
   "metadata": {},
   "outputs": [
    {
     "data": {
      "text/plain": [
       "(49352, 15)"
      ]
     },
     "execution_count": 4,
     "metadata": {},
     "output_type": "execute_result"
    }
   ],
   "source": [
    "train_df.shape"
   ]
  },
  {
   "cell_type": "code",
   "execution_count": 5,
   "metadata": {},
   "outputs": [
    {
     "data": {
      "text/plain": [
       "low       34284\n",
       "medium    11229\n",
       "high       3839\n",
       "Name: interest_level, dtype: int64"
      ]
     },
     "execution_count": 5,
     "metadata": {},
     "output_type": "execute_result"
    }
   ],
   "source": [
    "train_df['interest_level'].value_counts()"
   ]
  },
  {
   "cell_type": "code",
   "execution_count": 6,
   "metadata": {},
   "outputs": [
    {
     "data": {
      "text/plain": [
       "(74659, 14)"
      ]
     },
     "execution_count": 6,
     "metadata": {},
     "output_type": "execute_result"
    }
   ],
   "source": [
    "test_df.shape"
   ]
  },
  {
   "cell_type": "markdown",
   "metadata": {},
   "source": [
    "## Exclude Price Outliers"
   ]
  },
  {
   "cell_type": "code",
   "execution_count": 7,
   "metadata": {
    "collapsed": true
   },
   "outputs": [],
   "source": [
    "#Exclude price outliers from training data\n",
    "ulimit = np.percentile(train_df.price.values, 99)\n",
    "train_df=train_df[train_df['price']<ulimit]"
   ]
  },
  {
   "cell_type": "code",
   "execution_count": 8,
   "metadata": {
    "collapsed": true
   },
   "outputs": [],
   "source": [
    "#Exclude Latitude longitude outliers from training data\n",
    "outlier_mask = ( (train_df.latitude < 40.6) | (train_df.latitude > 40.9) | \n",
    "                 (train_df.longitude < -74.1) | (train_df.longitude > -73.8) )\n",
    "train_df = train_df.drop(train_df.index[outlier_mask], axis=0)"
   ]
  },
  {
   "cell_type": "markdown",
   "metadata": {},
   "source": [
    "## Combine Train and Test datasets to perform feature engineering"
   ]
  },
  {
   "cell_type": "code",
   "execution_count": 9,
   "metadata": {},
   "outputs": [
    {
     "data": {
      "text/plain": [
       "(123265, 16)"
      ]
     },
     "execution_count": 9,
     "metadata": {},
     "output_type": "execute_result"
    }
   ],
   "source": [
    "#Combine test and train dataset for feature engineering\n",
    "train_df['test']=False\n",
    "test_df['test']=True\n",
    "\n",
    "cdf=train_df.append(test_df).reset_index(drop=True)\n",
    "cdf.shape"
   ]
  },
  {
   "cell_type": "code",
   "execution_count": 10,
   "metadata": {},
   "outputs": [
    {
     "name": "stdout",
     "output_type": "stream",
     "text": [
      "<class 'pandas.core.frame.DataFrame'>\n",
      "RangeIndex: 123265 entries, 0 to 123264\n",
      "Data columns (total 16 columns):\n",
      "bathrooms          123265 non-null float64\n",
      "bedrooms           123265 non-null int64\n",
      "building_id        123265 non-null object\n",
      "created            123265 non-null object\n",
      "description        123265 non-null object\n",
      "display_address    123265 non-null object\n",
      "features           123265 non-null object\n",
      "interest_level     48606 non-null object\n",
      "latitude           123265 non-null float64\n",
      "listing_id         123265 non-null int64\n",
      "longitude          123265 non-null float64\n",
      "manager_id         123265 non-null object\n",
      "photos             123265 non-null object\n",
      "price              123265 non-null int64\n",
      "street_address     123265 non-null object\n",
      "test               123265 non-null bool\n",
      "dtypes: bool(1), float64(3), int64(3), object(9)\n",
      "memory usage: 14.2+ MB\n"
     ]
    }
   ],
   "source": [
    "cdf.info()"
   ]
  },
  {
   "cell_type": "markdown",
   "metadata": {},
   "source": [
    "## Extract lat and long for Unsupervised Learning using clusters"
   ]
  },
  {
   "cell_type": "code",
   "execution_count": 11,
   "metadata": {
    "collapsed": true
   },
   "outputs": [],
   "source": [
    "x=cdf[['latitude','longitude']]"
   ]
  },
  {
   "cell_type": "code",
   "execution_count": 12,
   "metadata": {},
   "outputs": [
    {
     "name": "stdout",
     "output_type": "stream",
     "text": [
      "<class 'pandas.core.frame.DataFrame'>\n",
      "RangeIndex: 123265 entries, 0 to 123264\n",
      "Data columns (total 2 columns):\n",
      "latitude     123265 non-null float64\n",
      "longitude    123265 non-null float64\n",
      "dtypes: float64(2)\n",
      "memory usage: 1.9 MB\n"
     ]
    }
   ],
   "source": [
    "x.info()"
   ]
  },
  {
   "cell_type": "code",
   "execution_count": 120,
   "metadata": {
    "collapsed": true
   },
   "outputs": [],
   "source": [
    "#Identify 100 geographical clusters\n",
    "n_clusters=100"
   ]
  },
  {
   "cell_type": "code",
   "execution_count": 14,
   "metadata": {},
   "outputs": [
    {
     "data": {
      "text/plain": [
       "array([30, 19, 60, ..., 21, 11, 30])"
      ]
     },
     "execution_count": 14,
     "metadata": {},
     "output_type": "execute_result"
    }
   ],
   "source": [
    "kmeans = KMeans(n_clusters).fit(x)\n",
    "kmeans.labels_"
   ]
  },
  {
   "cell_type": "code",
   "execution_count": 15,
   "metadata": {},
   "outputs": [
    {
     "data": {
      "text/plain": [
       "(123265,)"
      ]
     },
     "execution_count": 15,
     "metadata": {},
     "output_type": "execute_result"
    }
   ],
   "source": [
    "kmeans.labels_.shape"
   ]
  },
  {
   "cell_type": "code",
   "execution_count": 16,
   "metadata": {},
   "outputs": [
    {
     "data": {
      "text/plain": [
       "(123265, 16)"
      ]
     },
     "execution_count": 16,
     "metadata": {},
     "output_type": "execute_result"
    }
   ],
   "source": [
    "cdf.shape"
   ]
  },
  {
   "cell_type": "code",
   "execution_count": 17,
   "metadata": {
    "collapsed": true
   },
   "outputs": [],
   "source": [
    "cdf['labels']=kmeans.labels_"
   ]
  },
  {
   "cell_type": "code",
   "execution_count": 18,
   "metadata": {},
   "outputs": [
    {
     "name": "stdout",
     "output_type": "stream",
     "text": [
      "<class 'pandas.core.frame.DataFrame'>\n",
      "RangeIndex: 123265 entries, 0 to 123264\n",
      "Data columns (total 17 columns):\n",
      "bathrooms          123265 non-null float64\n",
      "bedrooms           123265 non-null int64\n",
      "building_id        123265 non-null object\n",
      "created            123265 non-null object\n",
      "description        123265 non-null object\n",
      "display_address    123265 non-null object\n",
      "features           123265 non-null object\n",
      "interest_level     48606 non-null object\n",
      "latitude           123265 non-null float64\n",
      "listing_id         123265 non-null int64\n",
      "longitude          123265 non-null float64\n",
      "manager_id         123265 non-null object\n",
      "photos             123265 non-null object\n",
      "price              123265 non-null int64\n",
      "street_address     123265 non-null object\n",
      "test               123265 non-null bool\n",
      "labels             123265 non-null int32\n",
      "dtypes: bool(1), float64(3), int32(1), int64(3), object(9)\n",
      "memory usage: 14.7+ MB\n"
     ]
    }
   ],
   "source": [
    "cdf.info()"
   ]
  },
  {
   "cell_type": "code",
   "execution_count": 122,
   "metadata": {
    "collapsed": true
   },
   "outputs": [],
   "source": [
    "#Exclude lat long outliers from test dataset just to be able to plot clusters,\n",
    "#But retain in combined dataframe since we cannot exclude test data \n",
    "outlier_mask = ( (cdf.latitude < 40.6) | (cdf.latitude > 40.9) | \n",
    "                 (cdf.longitude < -74.1) | (cdf.longitude > -73.8) )\n",
    "cluster_plot_df = cdf.drop(cdf.index[outlier_mask], axis=0)"
   ]
  },
  {
   "cell_type": "code",
   "execution_count": 20,
   "metadata": {},
   "outputs": [
    {
     "name": "stdout",
     "output_type": "stream",
     "text": [
      "<class 'pandas.core.frame.DataFrame'>\n",
      "Int64Index: 122860 entries, 0 to 123264\n",
      "Data columns (total 17 columns):\n",
      "bathrooms          122860 non-null float64\n",
      "bedrooms           122860 non-null int64\n",
      "building_id        122860 non-null object\n",
      "created            122860 non-null object\n",
      "description        122860 non-null object\n",
      "display_address    122860 non-null object\n",
      "features           122860 non-null object\n",
      "interest_level     48606 non-null object\n",
      "latitude           122860 non-null float64\n",
      "listing_id         122860 non-null int64\n",
      "longitude          122860 non-null float64\n",
      "manager_id         122860 non-null object\n",
      "photos             122860 non-null object\n",
      "price              122860 non-null int64\n",
      "street_address     122860 non-null object\n",
      "test               122860 non-null bool\n",
      "labels             122860 non-null int32\n",
      "dtypes: bool(1), float64(3), int32(1), int64(3), object(9)\n",
      "memory usage: 15.6+ MB\n"
     ]
    }
   ],
   "source": [
    "cluster_plot_df.info()"
   ]
  },
  {
   "cell_type": "markdown",
   "metadata": {},
   "source": [
    "## Plot Clusters"
   ]
  },
  {
   "cell_type": "code",
   "execution_count": 21,
   "metadata": {},
   "outputs": [
    {
     "data": {
      "text/plain": [
       "<seaborn.axisgrid.FacetGrid at 0x28a62ef0>"
      ]
     },
     "execution_count": 21,
     "metadata": {},
     "output_type": "execute_result"
    },
    {
     "data": {
      "image/png": "[encoded data removed]",
      "text/plain": [
       "<matplotlib.figure.Figure at 0x28a62320>"
      ]
     },
     "metadata": {},
     "output_type": "display_data"
    }
   ],
   "source": [
    "sns.lmplot(x='longitude', y='latitude', data=cluster_plot_df, hue='labels', fit_reg=False, \n",
    "           scatter_kws={'alpha':0.6, 's':7}, size=10,legend=False)"
   ]
  },
  {
   "cell_type": "markdown",
   "metadata": {},
   "source": [
    "## Calculate avg price per cluster to add to features"
   ]
  },
  {
   "cell_type": "code",
   "execution_count": 22,
   "metadata": {
    "collapsed": true
   },
   "outputs": [],
   "source": [
    "#Aggregate Values by Cluster Label\n",
    "label_avg_df=pd.DataFrame(cdf['price'].groupby(cdf['labels']).mean().reset_index())"
   ]
  },
  {
   "cell_type": "code",
   "execution_count": 23,
   "metadata": {},
   "outputs": [
    {
     "data": {
      "text/html": [
       "<div>\n",
       "<table border=\"1\" class=\"dataframe\">\n",
       "  <thead>\n",
       "    <tr style=\"text-align: right;\">\n",
       "      <th></th>\n",
       "      <th>labels</th>\n",
       "      <th>price</th>\n",
       "    </tr>\n",
       "  </thead>\n",
       "  <tbody>\n",
       "    <tr>\n",
       "      <th>0</th>\n",
       "      <td>0</td>\n",
       "      <td>3775.876518</td>\n",
       "    </tr>\n",
       "    <tr>\n",
       "      <th>1</th>\n",
       "      <td>1</td>\n",
       "      <td>2947.586207</td>\n",
       "    </tr>\n",
       "    <tr>\n",
       "      <th>2</th>\n",
       "      <td>2</td>\n",
       "      <td>2425.000000</td>\n",
       "    </tr>\n",
       "    <tr>\n",
       "      <th>3</th>\n",
       "      <td>3</td>\n",
       "      <td>500.000000</td>\n",
       "    </tr>\n",
       "    <tr>\n",
       "      <th>4</th>\n",
       "      <td>4</td>\n",
       "      <td>2200.000000</td>\n",
       "    </tr>\n",
       "  </tbody>\n",
       "</table>\n",
       "</div>"
      ],
      "text/plain": [
       "   labels        price\n",
       "0       0  3775.876518\n",
       "1       1  2947.586207\n",
       "2       2  2425.000000\n",
       "3       3   500.000000\n",
       "4       4  2200.000000"
      ]
     },
     "execution_count": 23,
     "metadata": {},
     "output_type": "execute_result"
    }
   ],
   "source": [
    "label_avg_df.head()"
   ]
  },
  {
   "cell_type": "code",
   "execution_count": 24,
   "metadata": {
    "collapsed": true
   },
   "outputs": [],
   "source": [
    "label_avg_df.columns=['labels','avg_price']"
   ]
  },
  {
   "cell_type": "code",
   "execution_count": 25,
   "metadata": {
    "collapsed": true
   },
   "outputs": [],
   "source": [
    "cdf = pd.merge(cdf, label_avg_df, on='labels')"
   ]
  },
  {
   "cell_type": "code",
   "execution_count": 26,
   "metadata": {},
   "outputs": [
    {
     "name": "stdout",
     "output_type": "stream",
     "text": [
      "<class 'pandas.core.frame.DataFrame'>\n",
      "Int64Index: 123265 entries, 0 to 123264\n",
      "Data columns (total 18 columns):\n",
      "bathrooms          123265 non-null float64\n",
      "bedrooms           123265 non-null int64\n",
      "building_id        123265 non-null object\n",
      "created            123265 non-null object\n",
      "description        123265 non-null object\n",
      "display_address    123265 non-null object\n",
      "features           123265 non-null object\n",
      "interest_level     48606 non-null object\n",
      "latitude           123265 non-null float64\n",
      "listing_id         123265 non-null int64\n",
      "longitude          123265 non-null float64\n",
      "manager_id         123265 non-null object\n",
      "photos             123265 non-null object\n",
      "price              123265 non-null int64\n",
      "street_address     123265 non-null object\n",
      "test               123265 non-null bool\n",
      "labels             123265 non-null int32\n",
      "avg_price          123265 non-null float64\n",
      "dtypes: bool(1), float64(4), int32(1), int64(3), object(9)\n",
      "memory usage: 16.6+ MB\n"
     ]
    }
   ],
   "source": [
    "cdf.info()"
   ]
  },
  {
   "cell_type": "code",
   "execution_count": 27,
   "metadata": {},
   "outputs": [
    {
     "data": {
      "text/html": [
       "<div>\n",
       "<table border=\"1\" class=\"dataframe\">\n",
       "  <thead>\n",
       "    <tr style=\"text-align: right;\">\n",
       "      <th></th>\n",
       "      <th>0</th>\n",
       "      <th>1</th>\n",
       "    </tr>\n",
       "  </thead>\n",
       "  <tbody>\n",
       "    <tr>\n",
       "      <th>bathrooms</th>\n",
       "      <td>1.5</td>\n",
       "      <td>1</td>\n",
       "    </tr>\n",
       "    <tr>\n",
       "      <th>bedrooms</th>\n",
       "      <td>3</td>\n",
       "      <td>1</td>\n",
       "    </tr>\n",
       "    <tr>\n",
       "      <th>building_id</th>\n",
       "      <td>53a5b119ba8f7b61d4e010512e0dfc85</td>\n",
       "      <td>0</td>\n",
       "    </tr>\n",
       "    <tr>\n",
       "      <th>created</th>\n",
       "      <td>2016-06-24 07:54:24</td>\n",
       "      <td>2016-04-18 03:31:04</td>\n",
       "    </tr>\n",
       "    <tr>\n",
       "      <th>description</th>\n",
       "      <td>A Brand New 3 Bedroom 1.5 bath ApartmentEnjoy ...</td>\n",
       "      <td>GUT Renovated Greenpoint 1 bedroom with brand ...</td>\n",
       "    </tr>\n",
       "    <tr>\n",
       "      <th>display_address</th>\n",
       "      <td>Metropolitan Avenue</td>\n",
       "      <td>Meeker Avenue</td>\n",
       "    </tr>\n",
       "    <tr>\n",
       "      <th>features</th>\n",
       "      <td>[]</td>\n",
       "      <td>[New Construction]</td>\n",
       "    </tr>\n",
       "    <tr>\n",
       "      <th>interest_level</th>\n",
       "      <td>medium</td>\n",
       "      <td>low</td>\n",
       "    </tr>\n",
       "    <tr>\n",
       "      <th>latitude</th>\n",
       "      <td>40.7145</td>\n",
       "      <td>40.7216</td>\n",
       "    </tr>\n",
       "    <tr>\n",
       "      <th>listing_id</th>\n",
       "      <td>7211212</td>\n",
       "      <td>6890059</td>\n",
       "    </tr>\n",
       "    <tr>\n",
       "      <th>longitude</th>\n",
       "      <td>-73.9425</td>\n",
       "      <td>-73.9423</td>\n",
       "    </tr>\n",
       "    <tr>\n",
       "      <th>manager_id</th>\n",
       "      <td>5ba989232d0489da1b5f2c45f6688adc</td>\n",
       "      <td>5ba989232d0489da1b5f2c45f6688adc</td>\n",
       "    </tr>\n",
       "    <tr>\n",
       "      <th>photos</th>\n",
       "      <td>[https://photos.renthop.com/2/7211212_1ed4542e...</td>\n",
       "      <td>[https://photos.renthop.com/2/6890059_a3109b80...</td>\n",
       "    </tr>\n",
       "    <tr>\n",
       "      <th>price</th>\n",
       "      <td>3000</td>\n",
       "      <td>2250</td>\n",
       "    </tr>\n",
       "    <tr>\n",
       "      <th>street_address</th>\n",
       "      <td>792 Metropolitan Avenue</td>\n",
       "      <td>585 Meeker Avenue</td>\n",
       "    </tr>\n",
       "    <tr>\n",
       "      <th>test</th>\n",
       "      <td>False</td>\n",
       "      <td>False</td>\n",
       "    </tr>\n",
       "    <tr>\n",
       "      <th>labels</th>\n",
       "      <td>30</td>\n",
       "      <td>30</td>\n",
       "    </tr>\n",
       "    <tr>\n",
       "      <th>avg_price</th>\n",
       "      <td>2858.1</td>\n",
       "      <td>2858.1</td>\n",
       "    </tr>\n",
       "  </tbody>\n",
       "</table>\n",
       "</div>"
      ],
      "text/plain": [
       "                                                                 0  \\\n",
       "bathrooms                                                      1.5   \n",
       "bedrooms                                                         3   \n",
       "building_id                       53a5b119ba8f7b61d4e010512e0dfc85   \n",
       "created                                        2016-06-24 07:54:24   \n",
       "description      A Brand New 3 Bedroom 1.5 bath ApartmentEnjoy ...   \n",
       "display_address                                Metropolitan Avenue   \n",
       "features                                                        []   \n",
       "interest_level                                              medium   \n",
       "latitude                                                   40.7145   \n",
       "listing_id                                                 7211212   \n",
       "longitude                                                 -73.9425   \n",
       "manager_id                        5ba989232d0489da1b5f2c45f6688adc   \n",
       "photos           [https://photos.renthop.com/2/7211212_1ed4542e...   \n",
       "price                                                         3000   \n",
       "street_address                             792 Metropolitan Avenue   \n",
       "test                                                         False   \n",
       "labels                                                          30   \n",
       "avg_price                                                   2858.1   \n",
       "\n",
       "                                                                 1  \n",
       "bathrooms                                                        1  \n",
       "bedrooms                                                         1  \n",
       "building_id                                                      0  \n",
       "created                                        2016-04-18 03:31:04  \n",
       "description      GUT Renovated Greenpoint 1 bedroom with brand ...  \n",
       "display_address                                      Meeker Avenue  \n",
       "features                                        [New Construction]  \n",
       "interest_level                                                 low  \n",
       "latitude                                                   40.7216  \n",
       "listing_id                                                 6890059  \n",
       "longitude                                                 -73.9423  \n",
       "manager_id                        5ba989232d0489da1b5f2c45f6688adc  \n",
       "photos           [https://photos.renthop.com/2/6890059_a3109b80...  \n",
       "price                                                         2250  \n",
       "street_address                                   585 Meeker Avenue  \n",
       "test                                                         False  \n",
       "labels                                                          30  \n",
       "avg_price                                                   2858.1  "
      ]
     },
     "execution_count": 27,
     "metadata": {},
     "output_type": "execute_result"
    }
   ],
   "source": [
    "cdf.head(2).T"
   ]
  },
  {
   "cell_type": "markdown",
   "metadata": {},
   "source": [
    "## Add features from Created date, and NLP fields"
   ]
  },
  {
   "cell_type": "code",
   "execution_count": 28,
   "metadata": {
    "collapsed": true
   },
   "outputs": [],
   "source": [
    "#Adding Features\n",
    "cdf['created']=pd.to_datetime(cdf['created'])\n",
    "cdf['month']=cdf['created'].dt.month\n",
    "cdf['weekday']=cdf['created'].dt.weekday\n",
    "cdf[\"num_photos\"] = cdf[\"photos\"].apply(len)\n",
    "cdf[\"num_features\"] = cdf[\"features\"].apply(len)\n",
    "cdf[\"words_in_description\"] = cdf[\"description\"].apply(len)"
   ]
  },
  {
   "cell_type": "code",
   "execution_count": 29,
   "metadata": {},
   "outputs": [
    {
     "data": {
      "text/html": [
       "<div>\n",
       "<table border=\"1\" class=\"dataframe\">\n",
       "  <thead>\n",
       "    <tr style=\"text-align: right;\">\n",
       "      <th></th>\n",
       "      <th>month_4</th>\n",
       "      <th>month_5</th>\n",
       "      <th>month_6</th>\n",
       "      <th>weekday_0</th>\n",
       "      <th>weekday_1</th>\n",
       "      <th>weekday_2</th>\n",
       "      <th>weekday_3</th>\n",
       "      <th>weekday_4</th>\n",
       "      <th>weekday_5</th>\n",
       "      <th>weekday_6</th>\n",
       "    </tr>\n",
       "  </thead>\n",
       "  <tbody>\n",
       "    <tr>\n",
       "      <th>0</th>\n",
       "      <td>0</td>\n",
       "      <td>0</td>\n",
       "      <td>1</td>\n",
       "      <td>0</td>\n",
       "      <td>0</td>\n",
       "      <td>0</td>\n",
       "      <td>0</td>\n",
       "      <td>1</td>\n",
       "      <td>0</td>\n",
       "      <td>0</td>\n",
       "    </tr>\n",
       "    <tr>\n",
       "      <th>1</th>\n",
       "      <td>1</td>\n",
       "      <td>0</td>\n",
       "      <td>0</td>\n",
       "      <td>1</td>\n",
       "      <td>0</td>\n",
       "      <td>0</td>\n",
       "      <td>0</td>\n",
       "      <td>0</td>\n",
       "      <td>0</td>\n",
       "      <td>0</td>\n",
       "    </tr>\n",
       "    <tr>\n",
       "      <th>2</th>\n",
       "      <td>1</td>\n",
       "      <td>0</td>\n",
       "      <td>0</td>\n",
       "      <td>0</td>\n",
       "      <td>0</td>\n",
       "      <td>0</td>\n",
       "      <td>0</td>\n",
       "      <td>1</td>\n",
       "      <td>0</td>\n",
       "      <td>0</td>\n",
       "    </tr>\n",
       "    <tr>\n",
       "      <th>3</th>\n",
       "      <td>0</td>\n",
       "      <td>0</td>\n",
       "      <td>1</td>\n",
       "      <td>0</td>\n",
       "      <td>0</td>\n",
       "      <td>0</td>\n",
       "      <td>1</td>\n",
       "      <td>0</td>\n",
       "      <td>0</td>\n",
       "      <td>0</td>\n",
       "    </tr>\n",
       "    <tr>\n",
       "      <th>4</th>\n",
       "      <td>1</td>\n",
       "      <td>0</td>\n",
       "      <td>0</td>\n",
       "      <td>1</td>\n",
       "      <td>0</td>\n",
       "      <td>0</td>\n",
       "      <td>0</td>\n",
       "      <td>0</td>\n",
       "      <td>0</td>\n",
       "      <td>0</td>\n",
       "    </tr>\n",
       "  </tbody>\n",
       "</table>\n",
       "</div>"
      ],
      "text/plain": [
       "   month_4  month_5  month_6  weekday_0  weekday_1  weekday_2  weekday_3  \\\n",
       "0        0        0        1          0          0          0          0   \n",
       "1        1        0        0          1          0          0          0   \n",
       "2        1        0        0          0          0          0          0   \n",
       "3        0        0        1          0          0          0          1   \n",
       "4        1        0        0          1          0          0          0   \n",
       "\n",
       "   weekday_4  weekday_5  weekday_6  \n",
       "0          1          0          0  \n",
       "1          0          0          0  \n",
       "2          1          0          0  \n",
       "3          0          0          0  \n",
       "4          0          0          0  "
      ]
     },
     "execution_count": 29,
     "metadata": {},
     "output_type": "execute_result"
    }
   ],
   "source": [
    "#Recode variables Month, Weekday\n",
    "cdf['month']=cdf['month'].astype('str')\n",
    "cdf['weekday']=cdf['weekday'].astype('str')\n",
    "df=pd.get_dummies(cdf[['month','weekday']])\n",
    "df.head()"
   ]
  },
  {
   "cell_type": "code",
   "execution_count": 30,
   "metadata": {
    "collapsed": true
   },
   "outputs": [],
   "source": [
    "cdf = cdf.merge(df,left_index=True, right_index=True)"
   ]
  },
  {
   "cell_type": "code",
   "execution_count": 31,
   "metadata": {},
   "outputs": [
    {
     "name": "stdout",
     "output_type": "stream",
     "text": [
      "<class 'pandas.core.frame.DataFrame'>\n",
      "Int64Index: 123265 entries, 0 to 123264\n",
      "Data columns (total 33 columns):\n",
      "bathrooms               123265 non-null float64\n",
      "bedrooms                123265 non-null int64\n",
      "building_id             123265 non-null object\n",
      "created                 123265 non-null datetime64[ns]\n",
      "description             123265 non-null object\n",
      "display_address         123265 non-null object\n",
      "features                123265 non-null object\n",
      "interest_level          48606 non-null object\n",
      "latitude                123265 non-null float64\n",
      "listing_id              123265 non-null int64\n",
      "longitude               123265 non-null float64\n",
      "manager_id              123265 non-null object\n",
      "photos                  123265 non-null object\n",
      "price                   123265 non-null int64\n",
      "street_address          123265 non-null object\n",
      "test                    123265 non-null bool\n",
      "labels                  123265 non-null int32\n",
      "avg_price               123265 non-null float64\n",
      "month                   123265 non-null object\n",
      "weekday                 123265 non-null object\n",
      "num_photos              123265 non-null int64\n",
      "num_features            123265 non-null int64\n",
      "words_in_description    123265 non-null int64\n",
      "month_4                 123265 non-null uint8\n",
      "month_5                 123265 non-null uint8\n",
      "month_6                 123265 non-null uint8\n",
      "weekday_0               123265 non-null uint8\n",
      "weekday_1               123265 non-null uint8\n",
      "weekday_2               123265 non-null uint8\n",
      "weekday_3               123265 non-null uint8\n",
      "weekday_4               123265 non-null uint8\n",
      "weekday_5               123265 non-null uint8\n",
      "weekday_6               123265 non-null uint8\n",
      "dtypes: bool(1), datetime64[ns](1), float64(4), int32(1), int64(6), object(10), uint8(10)\n",
      "memory usage: 22.5+ MB\n"
     ]
    }
   ],
   "source": [
    "cdf.info()"
   ]
  },
  {
   "cell_type": "markdown",
   "metadata": {},
   "source": [
    "## Derive features from numerical fields like Price per room and deviation of price from average price in cluster"
   ]
  },
  {
   "cell_type": "code",
   "execution_count": 32,
   "metadata": {
    "collapsed": true
   },
   "outputs": [],
   "source": [
    "#More Features\n",
    "cdf['price_per_bed']=cdf['price']/cdf['bedrooms']\n",
    "cdf['price_per_bath']=cdf['price']/cdf['bathrooms']\n",
    "cdf['total_rooms']=cdf['bedrooms']+cdf['bathrooms']\n",
    "cdf['price_per_room']=cdf['price']/cdf['total_rooms']\n",
    "cdf['price_in_cluster']=cdf['price']-cdf['avg_price']"
   ]
  },
  {
   "cell_type": "markdown",
   "metadata": {},
   "source": [
    "## Identify multi unit buildings by listing count per building"
   ]
  },
  {
   "cell_type": "code",
   "execution_count": 33,
   "metadata": {
    "collapsed": true
   },
   "outputs": [],
   "source": [
    "#Is it a building with multiple units\n",
    "building_count_df=pd.DataFrame(cdf.groupby(cdf['building_id']).size().reset_index())"
   ]
  },
  {
   "cell_type": "code",
   "execution_count": 34,
   "metadata": {},
   "outputs": [
    {
     "data": {
      "text/html": [
       "<div>\n",
       "<table border=\"1\" class=\"dataframe\">\n",
       "  <thead>\n",
       "    <tr style=\"text-align: right;\">\n",
       "      <th></th>\n",
       "      <th>building_id</th>\n",
       "      <th>0</th>\n",
       "    </tr>\n",
       "  </thead>\n",
       "  <tbody>\n",
       "    <tr>\n",
       "      <th>0</th>\n",
       "      <td>0</td>\n",
       "      <td>20563</td>\n",
       "    </tr>\n",
       "    <tr>\n",
       "      <th>1</th>\n",
       "      <td>00005cb939f9986300d987652c933e15</td>\n",
       "      <td>1</td>\n",
       "    </tr>\n",
       "    <tr>\n",
       "      <th>2</th>\n",
       "      <td>00024d77a43f0606f926e2312513845c</td>\n",
       "      <td>7</td>\n",
       "    </tr>\n",
       "    <tr>\n",
       "      <th>3</th>\n",
       "      <td>000ae4b7db298401cdae2b0ba1ea8146</td>\n",
       "      <td>2</td>\n",
       "    </tr>\n",
       "    <tr>\n",
       "      <th>4</th>\n",
       "      <td>0012f1955391bca600ec301035b97b65</td>\n",
       "      <td>1</td>\n",
       "    </tr>\n",
       "  </tbody>\n",
       "</table>\n",
       "</div>"
      ],
      "text/plain": [
       "                        building_id      0\n",
       "0                                 0  20563\n",
       "1  00005cb939f9986300d987652c933e15      1\n",
       "2  00024d77a43f0606f926e2312513845c      7\n",
       "3  000ae4b7db298401cdae2b0ba1ea8146      2\n",
       "4  0012f1955391bca600ec301035b97b65      1"
      ]
     },
     "execution_count": 34,
     "metadata": {},
     "output_type": "execute_result"
    }
   ],
   "source": [
    "building_count_df.head()"
   ]
  },
  {
   "cell_type": "code",
   "execution_count": 35,
   "metadata": {},
   "outputs": [
    {
     "data": {
      "text/html": [
       "<div>\n",
       "<table border=\"1\" class=\"dataframe\">\n",
       "  <thead>\n",
       "    <tr style=\"text-align: right;\">\n",
       "      <th></th>\n",
       "      <th>building_id</th>\n",
       "      <th>unit_count</th>\n",
       "    </tr>\n",
       "  </thead>\n",
       "  <tbody>\n",
       "    <tr>\n",
       "      <th>0</th>\n",
       "      <td>0</td>\n",
       "      <td>20563</td>\n",
       "    </tr>\n",
       "    <tr>\n",
       "      <th>1</th>\n",
       "      <td>00005cb939f9986300d987652c933e15</td>\n",
       "      <td>1</td>\n",
       "    </tr>\n",
       "    <tr>\n",
       "      <th>2</th>\n",
       "      <td>00024d77a43f0606f926e2312513845c</td>\n",
       "      <td>7</td>\n",
       "    </tr>\n",
       "    <tr>\n",
       "      <th>3</th>\n",
       "      <td>000ae4b7db298401cdae2b0ba1ea8146</td>\n",
       "      <td>2</td>\n",
       "    </tr>\n",
       "    <tr>\n",
       "      <th>4</th>\n",
       "      <td>0012f1955391bca600ec301035b97b65</td>\n",
       "      <td>1</td>\n",
       "    </tr>\n",
       "  </tbody>\n",
       "</table>\n",
       "</div>"
      ],
      "text/plain": [
       "                        building_id  unit_count\n",
       "0                                 0       20563\n",
       "1  00005cb939f9986300d987652c933e15           1\n",
       "2  00024d77a43f0606f926e2312513845c           7\n",
       "3  000ae4b7db298401cdae2b0ba1ea8146           2\n",
       "4  0012f1955391bca600ec301035b97b65           1"
      ]
     },
     "execution_count": 35,
     "metadata": {},
     "output_type": "execute_result"
    }
   ],
   "source": [
    "building_count_df.columns=['building_id','unit_count']\n",
    "building_count_df.head()"
   ]
  },
  {
   "cell_type": "code",
   "execution_count": 36,
   "metadata": {
    "collapsed": true
   },
   "outputs": [],
   "source": [
    "cdf = pd.merge(cdf, building_count_df, on='building_id')"
   ]
  },
  {
   "cell_type": "code",
   "execution_count": 37,
   "metadata": {},
   "outputs": [
    {
     "name": "stdout",
     "output_type": "stream",
     "text": [
      "<class 'pandas.core.frame.DataFrame'>\n",
      "Int64Index: 123265 entries, 0 to 123264\n",
      "Data columns (total 39 columns):\n",
      "bathrooms               123265 non-null float64\n",
      "bedrooms                123265 non-null int64\n",
      "building_id             123265 non-null object\n",
      "created                 123265 non-null datetime64[ns]\n",
      "description             123265 non-null object\n",
      "display_address         123265 non-null object\n",
      "features                123265 non-null object\n",
      "interest_level          48606 non-null object\n",
      "latitude                123265 non-null float64\n",
      "listing_id              123265 non-null int64\n",
      "longitude               123265 non-null float64\n",
      "manager_id              123265 non-null object\n",
      "photos                  123265 non-null object\n",
      "price                   123265 non-null int64\n",
      "street_address          123265 non-null object\n",
      "test                    123265 non-null bool\n",
      "labels                  123265 non-null int32\n",
      "avg_price               123265 non-null float64\n",
      "month                   123265 non-null object\n",
      "weekday                 123265 non-null object\n",
      "num_photos              123265 non-null int64\n",
      "num_features            123265 non-null int64\n",
      "words_in_description    123265 non-null int64\n",
      "month_4                 123265 non-null uint8\n",
      "month_5                 123265 non-null uint8\n",
      "month_6                 123265 non-null uint8\n",
      "weekday_0               123265 non-null uint8\n",
      "weekday_1               123265 non-null uint8\n",
      "weekday_2               123265 non-null uint8\n",
      "weekday_3               123265 non-null uint8\n",
      "weekday_4               123265 non-null uint8\n",
      "weekday_5               123265 non-null uint8\n",
      "weekday_6               123265 non-null uint8\n",
      "price_per_bed           123265 non-null float64\n",
      "price_per_bath          123265 non-null float64\n",
      "total_rooms             123265 non-null float64\n",
      "price_per_room          123265 non-null float64\n",
      "price_in_cluster        123265 non-null float64\n",
      "unit_count              123265 non-null int64\n",
      "dtypes: bool(1), datetime64[ns](1), float64(9), int32(1), int64(7), object(10), uint8(10)\n",
      "memory usage: 28.1+ MB\n"
     ]
    }
   ],
   "source": [
    "cdf.info()"
   ]
  },
  {
   "cell_type": "markdown",
   "metadata": {},
   "source": [
    "## Identify properties represented by high profile managers"
   ]
  },
  {
   "cell_type": "code",
   "execution_count": 38,
   "metadata": {
    "collapsed": true
   },
   "outputs": [],
   "source": [
    "#Does the manager have multiple listings\n",
    "manager_count_df=pd.DataFrame(cdf.groupby(cdf['manager_id']).size().reset_index())"
   ]
  },
  {
   "cell_type": "code",
   "execution_count": 39,
   "metadata": {},
   "outputs": [
    {
     "data": {
      "text/html": [
       "<div>\n",
       "<table border=\"1\" class=\"dataframe\">\n",
       "  <thead>\n",
       "    <tr style=\"text-align: right;\">\n",
       "      <th></th>\n",
       "      <th>manager_id</th>\n",
       "      <th>manager_popularity</th>\n",
       "    </tr>\n",
       "  </thead>\n",
       "  <tbody>\n",
       "    <tr>\n",
       "      <th>0</th>\n",
       "      <td>0000abd7518b94c35a90d64b56fbf3e6</td>\n",
       "      <td>35</td>\n",
       "    </tr>\n",
       "    <tr>\n",
       "      <th>1</th>\n",
       "      <td>001ce808ce1720e24a9510e014c69707</td>\n",
       "      <td>28</td>\n",
       "    </tr>\n",
       "    <tr>\n",
       "      <th>2</th>\n",
       "      <td>003fc4e9a70053082f131b1054966aaf</td>\n",
       "      <td>4</td>\n",
       "    </tr>\n",
       "    <tr>\n",
       "      <th>3</th>\n",
       "      <td>00607a02f6efd9c6c7c588826e471ee9</td>\n",
       "      <td>11</td>\n",
       "    </tr>\n",
       "    <tr>\n",
       "      <th>4</th>\n",
       "      <td>00995ff28d79127ed2dca8320e9e7d09</td>\n",
       "      <td>9</td>\n",
       "    </tr>\n",
       "  </tbody>\n",
       "</table>\n",
       "</div>"
      ],
      "text/plain": [
       "                         manager_id  manager_popularity\n",
       "0  0000abd7518b94c35a90d64b56fbf3e6                  35\n",
       "1  001ce808ce1720e24a9510e014c69707                  28\n",
       "2  003fc4e9a70053082f131b1054966aaf                   4\n",
       "3  00607a02f6efd9c6c7c588826e471ee9                  11\n",
       "4  00995ff28d79127ed2dca8320e9e7d09                   9"
      ]
     },
     "execution_count": 39,
     "metadata": {},
     "output_type": "execute_result"
    }
   ],
   "source": [
    "manager_count_df.columns=['manager_id','manager_popularity']\n",
    "manager_count_df.head()"
   ]
  },
  {
   "cell_type": "code",
   "execution_count": 40,
   "metadata": {
    "collapsed": true
   },
   "outputs": [],
   "source": [
    "cdf = pd.merge(cdf, manager_count_df, on='manager_id')"
   ]
  },
  {
   "cell_type": "code",
   "execution_count": 41,
   "metadata": {
    "scrolled": true
   },
   "outputs": [
    {
     "name": "stdout",
     "output_type": "stream",
     "text": [
      "<class 'pandas.core.frame.DataFrame'>\n",
      "Int64Index: 123265 entries, 0 to 123264\n",
      "Data columns (total 40 columns):\n",
      "bathrooms               123265 non-null float64\n",
      "bedrooms                123265 non-null int64\n",
      "building_id             123265 non-null object\n",
      "created                 123265 non-null datetime64[ns]\n",
      "description             123265 non-null object\n",
      "display_address         123265 non-null object\n",
      "features                123265 non-null object\n",
      "interest_level          48606 non-null object\n",
      "latitude                123265 non-null float64\n",
      "listing_id              123265 non-null int64\n",
      "longitude               123265 non-null float64\n",
      "manager_id              123265 non-null object\n",
      "photos                  123265 non-null object\n",
      "price                   123265 non-null int64\n",
      "street_address          123265 non-null object\n",
      "test                    123265 non-null bool\n",
      "labels                  123265 non-null int32\n",
      "avg_price               123265 non-null float64\n",
      "month                   123265 non-null object\n",
      "weekday                 123265 non-null object\n",
      "num_photos              123265 non-null int64\n",
      "num_features            123265 non-null int64\n",
      "words_in_description    123265 non-null int64\n",
      "month_4                 123265 non-null uint8\n",
      "month_5                 123265 non-null uint8\n",
      "month_6                 123265 non-null uint8\n",
      "weekday_0               123265 non-null uint8\n",
      "weekday_1               123265 non-null uint8\n",
      "weekday_2               123265 non-null uint8\n",
      "weekday_3               123265 non-null uint8\n",
      "weekday_4               123265 non-null uint8\n",
      "weekday_5               123265 non-null uint8\n",
      "weekday_6               123265 non-null uint8\n",
      "price_per_bed           123265 non-null float64\n",
      "price_per_bath          123265 non-null float64\n",
      "total_rooms             123265 non-null float64\n",
      "price_per_room          123265 non-null float64\n",
      "price_in_cluster        123265 non-null float64\n",
      "unit_count              123265 non-null int64\n",
      "manager_popularity      123265 non-null int64\n",
      "dtypes: bool(1), datetime64[ns](1), float64(9), int32(1), int64(8), object(10), uint8(10)\n",
      "memory usage: 29.0+ MB\n"
     ]
    }
   ],
   "source": [
    "cdf.info()"
   ]
  },
  {
   "cell_type": "markdown",
   "metadata": {},
   "source": [
    "## Extract features from Features field"
   ]
  },
  {
   "cell_type": "code",
   "execution_count": 42,
   "metadata": {
    "collapsed": true
   },
   "outputs": [],
   "source": [
    "def feat(name, df, series):\n",
    "    feature = pd.Series(0, df.index, name=name)\n",
    "    for row, word in enumerate(series):\n",
    "        if name in word:\n",
    "            feature.iloc[row] = 1\n",
    "    df[name] = feature\n",
    "    return(df)"
   ]
  },
  {
   "cell_type": "code",
   "execution_count": 43,
   "metadata": {
    "collapsed": true
   },
   "outputs": [],
   "source": [
    "cdf = feat('Elevator', cdf, cdf.features)\n",
    "cdf = feat('Dogs Allowed', cdf, cdf.features)\n",
    "cdf = feat('Cats Allowed', cdf, cdf.features)\n",
    "cdf = feat('laundry', cdf, cdf.features)\n",
    "cdf = feat('stainless', cdf, cdf.features)\n",
    "cdf = feat('hardwood', cdf, cdf.features)\n",
    "cdf = feat('new', cdf, cdf.features)\n",
    "cdf = feat('appliances', cdf, cdf.features)\n",
    "cdf = feat('renovated', cdf, cdf.features)"
   ]
  },
  {
   "cell_type": "code",
   "execution_count": 44,
   "metadata": {},
   "outputs": [
    {
     "name": "stdout",
     "output_type": "stream",
     "text": [
      "<class 'pandas.core.frame.DataFrame'>\n",
      "Int64Index: 123265 entries, 0 to 123264\n",
      "Data columns (total 49 columns):\n",
      "bathrooms               123265 non-null float64\n",
      "bedrooms                123265 non-null int64\n",
      "building_id             123265 non-null object\n",
      "created                 123265 non-null datetime64[ns]\n",
      "description             123265 non-null object\n",
      "display_address         123265 non-null object\n",
      "features                123265 non-null object\n",
      "interest_level          48606 non-null object\n",
      "latitude                123265 non-null float64\n",
      "listing_id              123265 non-null int64\n",
      "longitude               123265 non-null float64\n",
      "manager_id              123265 non-null object\n",
      "photos                  123265 non-null object\n",
      "price                   123265 non-null int64\n",
      "street_address          123265 non-null object\n",
      "test                    123265 non-null bool\n",
      "labels                  123265 non-null int32\n",
      "avg_price               123265 non-null float64\n",
      "month                   123265 non-null object\n",
      "weekday                 123265 non-null object\n",
      "num_photos              123265 non-null int64\n",
      "num_features            123265 non-null int64\n",
      "words_in_description    123265 non-null int64\n",
      "month_4                 123265 non-null uint8\n",
      "month_5                 123265 non-null uint8\n",
      "month_6                 123265 non-null uint8\n",
      "weekday_0               123265 non-null uint8\n",
      "weekday_1               123265 non-null uint8\n",
      "weekday_2               123265 non-null uint8\n",
      "weekday_3               123265 non-null uint8\n",
      "weekday_4               123265 non-null uint8\n",
      "weekday_5               123265 non-null uint8\n",
      "weekday_6               123265 non-null uint8\n",
      "price_per_bed           123265 non-null float64\n",
      "price_per_bath          123265 non-null float64\n",
      "total_rooms             123265 non-null float64\n",
      "price_per_room          123265 non-null float64\n",
      "price_in_cluster        123265 non-null float64\n",
      "unit_count              123265 non-null int64\n",
      "manager_popularity      123265 non-null int64\n",
      "Elevator                123265 non-null int64\n",
      "Dogs Allowed            123265 non-null int64\n",
      "Cats Allowed            123265 non-null int64\n",
      "laundry                 123265 non-null int64\n",
      "stainless               123265 non-null int64\n",
      "hardwood                123265 non-null int64\n",
      "new                     123265 non-null int64\n",
      "appliances              123265 non-null int64\n",
      "renovated               123265 non-null int64\n",
      "dtypes: bool(1), datetime64[ns](1), float64(9), int32(1), int64(17), object(10), uint8(10)\n",
      "memory usage: 37.5+ MB\n"
     ]
    }
   ],
   "source": [
    "cdf.info()"
   ]
  },
  {
   "cell_type": "code",
   "execution_count": 45,
   "metadata": {},
   "outputs": [
    {
     "data": {
      "text/html": [
       "<div>\n",
       "<table border=\"1\" class=\"dataframe\">\n",
       "  <thead>\n",
       "    <tr style=\"text-align: right;\">\n",
       "      <th></th>\n",
       "      <th>0</th>\n",
       "      <th>1</th>\n",
       "      <th>2</th>\n",
       "      <th>3</th>\n",
       "      <th>4</th>\n",
       "    </tr>\n",
       "  </thead>\n",
       "  <tbody>\n",
       "    <tr>\n",
       "      <th>bathrooms</th>\n",
       "      <td>1.5</td>\n",
       "      <td>1</td>\n",
       "      <td>1</td>\n",
       "      <td>1.5</td>\n",
       "      <td>1</td>\n",
       "    </tr>\n",
       "    <tr>\n",
       "      <th>bedrooms</th>\n",
       "      <td>3</td>\n",
       "      <td>1</td>\n",
       "      <td>1</td>\n",
       "      <td>3</td>\n",
       "      <td>1</td>\n",
       "    </tr>\n",
       "    <tr>\n",
       "      <th>building_id</th>\n",
       "      <td>53a5b119ba8f7b61d4e010512e0dfc85</td>\n",
       "      <td>53a5b119ba8f7b61d4e010512e0dfc85</td>\n",
       "      <td>53a5b119ba8f7b61d4e010512e0dfc85</td>\n",
       "      <td>53a5b119ba8f7b61d4e010512e0dfc85</td>\n",
       "      <td>53a5b119ba8f7b61d4e010512e0dfc85</td>\n",
       "    </tr>\n",
       "    <tr>\n",
       "      <th>created</th>\n",
       "      <td>2016-06-24 07:54:24</td>\n",
       "      <td>2016-06-14 15:32:30</td>\n",
       "      <td>2016-06-24 05:46:50</td>\n",
       "      <td>2016-06-16 07:39:41</td>\n",
       "      <td>2016-06-20 19:00:04</td>\n",
       "    </tr>\n",
       "    <tr>\n",
       "      <th>description</th>\n",
       "      <td>A Brand New 3 Bedroom 1.5 bath ApartmentEnjoy ...</td>\n",
       "      <td>Enjoy These Following Apartment Features As Yo...</td>\n",
       "      <td>Enjoy These Following Apartment Features As Yo...</td>\n",
       "      <td>A Brand New 3 Bedroom 1.5 bath ApartmentEnjoy ...</td>\n",
       "      <td>Enjoy These Following Apartment Features As Yo...</td>\n",
       "    </tr>\n",
       "    <tr>\n",
       "      <th>display_address</th>\n",
       "      <td>Metropolitan Avenue</td>\n",
       "      <td>Metropolitan Avenue</td>\n",
       "      <td>Metropolitan Avenue</td>\n",
       "      <td>Metropolitan Avenue</td>\n",
       "      <td>Metropolitan Avenue</td>\n",
       "    </tr>\n",
       "    <tr>\n",
       "      <th>features</th>\n",
       "      <td>[]</td>\n",
       "      <td>[]</td>\n",
       "      <td>[]</td>\n",
       "      <td>[]</td>\n",
       "      <td>[]</td>\n",
       "    </tr>\n",
       "    <tr>\n",
       "      <th>interest_level</th>\n",
       "      <td>medium</td>\n",
       "      <td>low</td>\n",
       "      <td>low</td>\n",
       "      <td>NaN</td>\n",
       "      <td>NaN</td>\n",
       "    </tr>\n",
       "    <tr>\n",
       "      <th>latitude</th>\n",
       "      <td>40.7145</td>\n",
       "      <td>40.7145</td>\n",
       "      <td>40.7145</td>\n",
       "      <td>40.7145</td>\n",
       "      <td>40.7145</td>\n",
       "    </tr>\n",
       "    <tr>\n",
       "      <th>listing_id</th>\n",
       "      <td>7211212</td>\n",
       "      <td>7159209</td>\n",
       "      <td>7209396</td>\n",
       "      <td>7171949</td>\n",
       "      <td>7185456</td>\n",
       "    </tr>\n",
       "    <tr>\n",
       "      <th>longitude</th>\n",
       "      <td>-73.9425</td>\n",
       "      <td>-73.9425</td>\n",
       "      <td>-73.9425</td>\n",
       "      <td>-73.9425</td>\n",
       "      <td>-73.9425</td>\n",
       "    </tr>\n",
       "    <tr>\n",
       "      <th>manager_id</th>\n",
       "      <td>5ba989232d0489da1b5f2c45f6688adc</td>\n",
       "      <td>5ba989232d0489da1b5f2c45f6688adc</td>\n",
       "      <td>5ba989232d0489da1b5f2c45f6688adc</td>\n",
       "      <td>5ba989232d0489da1b5f2c45f6688adc</td>\n",
       "      <td>5ba989232d0489da1b5f2c45f6688adc</td>\n",
       "    </tr>\n",
       "    <tr>\n",
       "      <th>photos</th>\n",
       "      <td>[https://photos.renthop.com/2/7211212_1ed4542e...</td>\n",
       "      <td>[https://photos.renthop.com/2/7159209_a7cf2b89...</td>\n",
       "      <td>[https://photos.renthop.com/2/7209396_5eb9b0e9...</td>\n",
       "      <td>[https://photos.renthop.com/2/7171949_c92db053...</td>\n",
       "      <td>[https://photos.renthop.com/2/7185456_0ad6133d...</td>\n",
       "    </tr>\n",
       "    <tr>\n",
       "      <th>price</th>\n",
       "      <td>3000</td>\n",
       "      <td>2500</td>\n",
       "      <td>2500</td>\n",
       "      <td>3000</td>\n",
       "      <td>2500</td>\n",
       "    </tr>\n",
       "    <tr>\n",
       "      <th>street_address</th>\n",
       "      <td>792 Metropolitan Avenue</td>\n",
       "      <td>792 Metropolitan Avenue</td>\n",
       "      <td>792 Metropolitan Avenue</td>\n",
       "      <td>792 Metropolitan Avenue</td>\n",
       "      <td>792 Metropolitan Avenue</td>\n",
       "    </tr>\n",
       "    <tr>\n",
       "      <th>test</th>\n",
       "      <td>False</td>\n",
       "      <td>False</td>\n",
       "      <td>False</td>\n",
       "      <td>True</td>\n",
       "      <td>True</td>\n",
       "    </tr>\n",
       "    <tr>\n",
       "      <th>labels</th>\n",
       "      <td>30</td>\n",
       "      <td>30</td>\n",
       "      <td>30</td>\n",
       "      <td>30</td>\n",
       "      <td>30</td>\n",
       "    </tr>\n",
       "    <tr>\n",
       "      <th>avg_price</th>\n",
       "      <td>2858.1</td>\n",
       "      <td>2858.1</td>\n",
       "      <td>2858.1</td>\n",
       "      <td>2858.1</td>\n",
       "      <td>2858.1</td>\n",
       "    </tr>\n",
       "    <tr>\n",
       "      <th>month</th>\n",
       "      <td>6</td>\n",
       "      <td>6</td>\n",
       "      <td>6</td>\n",
       "      <td>6</td>\n",
       "      <td>6</td>\n",
       "    </tr>\n",
       "    <tr>\n",
       "      <th>weekday</th>\n",
       "      <td>4</td>\n",
       "      <td>1</td>\n",
       "      <td>4</td>\n",
       "      <td>3</td>\n",
       "      <td>0</td>\n",
       "    </tr>\n",
       "    <tr>\n",
       "      <th>num_photos</th>\n",
       "      <td>5</td>\n",
       "      <td>5</td>\n",
       "      <td>5</td>\n",
       "      <td>5</td>\n",
       "      <td>5</td>\n",
       "    </tr>\n",
       "    <tr>\n",
       "      <th>num_features</th>\n",
       "      <td>0</td>\n",
       "      <td>0</td>\n",
       "      <td>0</td>\n",
       "      <td>0</td>\n",
       "      <td>0</td>\n",
       "    </tr>\n",
       "    <tr>\n",
       "      <th>words_in_description</th>\n",
       "      <td>588</td>\n",
       "      <td>548</td>\n",
       "      <td>548</td>\n",
       "      <td>588</td>\n",
       "      <td>548</td>\n",
       "    </tr>\n",
       "    <tr>\n",
       "      <th>month_4</th>\n",
       "      <td>0</td>\n",
       "      <td>0</td>\n",
       "      <td>0</td>\n",
       "      <td>0</td>\n",
       "      <td>0</td>\n",
       "    </tr>\n",
       "    <tr>\n",
       "      <th>month_5</th>\n",
       "      <td>0</td>\n",
       "      <td>0</td>\n",
       "      <td>0</td>\n",
       "      <td>0</td>\n",
       "      <td>0</td>\n",
       "    </tr>\n",
       "    <tr>\n",
       "      <th>month_6</th>\n",
       "      <td>1</td>\n",
       "      <td>1</td>\n",
       "      <td>1</td>\n",
       "      <td>1</td>\n",
       "      <td>1</td>\n",
       "    </tr>\n",
       "    <tr>\n",
       "      <th>weekday_0</th>\n",
       "      <td>0</td>\n",
       "      <td>0</td>\n",
       "      <td>0</td>\n",
       "      <td>0</td>\n",
       "      <td>1</td>\n",
       "    </tr>\n",
       "    <tr>\n",
       "      <th>weekday_1</th>\n",
       "      <td>0</td>\n",
       "      <td>1</td>\n",
       "      <td>0</td>\n",
       "      <td>0</td>\n",
       "      <td>0</td>\n",
       "    </tr>\n",
       "    <tr>\n",
       "      <th>weekday_2</th>\n",
       "      <td>0</td>\n",
       "      <td>0</td>\n",
       "      <td>0</td>\n",
       "      <td>0</td>\n",
       "      <td>0</td>\n",
       "    </tr>\n",
       "    <tr>\n",
       "      <th>weekday_3</th>\n",
       "      <td>0</td>\n",
       "      <td>0</td>\n",
       "      <td>0</td>\n",
       "      <td>1</td>\n",
       "      <td>0</td>\n",
       "    </tr>\n",
       "    <tr>\n",
       "      <th>weekday_4</th>\n",
       "      <td>1</td>\n",
       "      <td>0</td>\n",
       "      <td>1</td>\n",
       "      <td>0</td>\n",
       "      <td>0</td>\n",
       "    </tr>\n",
       "    <tr>\n",
       "      <th>weekday_5</th>\n",
       "      <td>0</td>\n",
       "      <td>0</td>\n",
       "      <td>0</td>\n",
       "      <td>0</td>\n",
       "      <td>0</td>\n",
       "    </tr>\n",
       "    <tr>\n",
       "      <th>weekday_6</th>\n",
       "      <td>0</td>\n",
       "      <td>0</td>\n",
       "      <td>0</td>\n",
       "      <td>0</td>\n",
       "      <td>0</td>\n",
       "    </tr>\n",
       "    <tr>\n",
       "      <th>price_per_bed</th>\n",
       "      <td>1000</td>\n",
       "      <td>2500</td>\n",
       "      <td>2500</td>\n",
       "      <td>1000</td>\n",
       "      <td>2500</td>\n",
       "    </tr>\n",
       "    <tr>\n",
       "      <th>price_per_bath</th>\n",
       "      <td>2000</td>\n",
       "      <td>2500</td>\n",
       "      <td>2500</td>\n",
       "      <td>2000</td>\n",
       "      <td>2500</td>\n",
       "    </tr>\n",
       "    <tr>\n",
       "      <th>total_rooms</th>\n",
       "      <td>4.5</td>\n",
       "      <td>2</td>\n",
       "      <td>2</td>\n",
       "      <td>4.5</td>\n",
       "      <td>2</td>\n",
       "    </tr>\n",
       "    <tr>\n",
       "      <th>price_per_room</th>\n",
       "      <td>666.667</td>\n",
       "      <td>1250</td>\n",
       "      <td>1250</td>\n",
       "      <td>666.667</td>\n",
       "      <td>1250</td>\n",
       "    </tr>\n",
       "    <tr>\n",
       "      <th>price_in_cluster</th>\n",
       "      <td>141.897</td>\n",
       "      <td>-358.103</td>\n",
       "      <td>-358.103</td>\n",
       "      <td>141.897</td>\n",
       "      <td>-358.103</td>\n",
       "    </tr>\n",
       "    <tr>\n",
       "      <th>unit_count</th>\n",
       "      <td>5</td>\n",
       "      <td>5</td>\n",
       "      <td>5</td>\n",
       "      <td>5</td>\n",
       "      <td>5</td>\n",
       "    </tr>\n",
       "    <tr>\n",
       "      <th>manager_popularity</th>\n",
       "      <td>235</td>\n",
       "      <td>235</td>\n",
       "      <td>235</td>\n",
       "      <td>235</td>\n",
       "      <td>235</td>\n",
       "    </tr>\n",
       "    <tr>\n",
       "      <th>Elevator</th>\n",
       "      <td>0</td>\n",
       "      <td>0</td>\n",
       "      <td>0</td>\n",
       "      <td>0</td>\n",
       "      <td>0</td>\n",
       "    </tr>\n",
       "    <tr>\n",
       "      <th>Dogs Allowed</th>\n",
       "      <td>0</td>\n",
       "      <td>0</td>\n",
       "      <td>0</td>\n",
       "      <td>0</td>\n",
       "      <td>0</td>\n",
       "    </tr>\n",
       "    <tr>\n",
       "      <th>Cats Allowed</th>\n",
       "      <td>0</td>\n",
       "      <td>0</td>\n",
       "      <td>0</td>\n",
       "      <td>0</td>\n",
       "      <td>0</td>\n",
       "    </tr>\n",
       "    <tr>\n",
       "      <th>laundry</th>\n",
       "      <td>0</td>\n",
       "      <td>0</td>\n",
       "      <td>0</td>\n",
       "      <td>0</td>\n",
       "      <td>0</td>\n",
       "    </tr>\n",
       "    <tr>\n",
       "      <th>stainless</th>\n",
       "      <td>0</td>\n",
       "      <td>0</td>\n",
       "      <td>0</td>\n",
       "      <td>0</td>\n",
       "      <td>0</td>\n",
       "    </tr>\n",
       "    <tr>\n",
       "      <th>hardwood</th>\n",
       "      <td>0</td>\n",
       "      <td>0</td>\n",
       "      <td>0</td>\n",
       "      <td>0</td>\n",
       "      <td>0</td>\n",
       "    </tr>\n",
       "    <tr>\n",
       "      <th>new</th>\n",
       "      <td>0</td>\n",
       "      <td>0</td>\n",
       "      <td>0</td>\n",
       "      <td>0</td>\n",
       "      <td>0</td>\n",
       "    </tr>\n",
       "    <tr>\n",
       "      <th>appliances</th>\n",
       "      <td>0</td>\n",
       "      <td>0</td>\n",
       "      <td>0</td>\n",
       "      <td>0</td>\n",
       "      <td>0</td>\n",
       "    </tr>\n",
       "    <tr>\n",
       "      <th>renovated</th>\n",
       "      <td>0</td>\n",
       "      <td>0</td>\n",
       "      <td>0</td>\n",
       "      <td>0</td>\n",
       "      <td>0</td>\n",
       "    </tr>\n",
       "  </tbody>\n",
       "</table>\n",
       "</div>"
      ],
      "text/plain": [
       "                                                                      0  \\\n",
       "bathrooms                                                           1.5   \n",
       "bedrooms                                                              3   \n",
       "building_id                            53a5b119ba8f7b61d4e010512e0dfc85   \n",
       "created                                             2016-06-24 07:54:24   \n",
       "description           A Brand New 3 Bedroom 1.5 bath ApartmentEnjoy ...   \n",
       "display_address                                     Metropolitan Avenue   \n",
       "features                                                             []   \n",
       "interest_level                                                   medium   \n",
       "latitude                                                        40.7145   \n",
       "listing_id                                                      7211212   \n",
       "longitude                                                      -73.9425   \n",
       "manager_id                             5ba989232d0489da1b5f2c45f6688adc   \n",
       "photos                [https://photos.renthop.com/2/7211212_1ed4542e...   \n",
       "price                                                              3000   \n",
       "street_address                                  792 Metropolitan Avenue   \n",
       "test                                                              False   \n",
       "labels                                                               30   \n",
       "avg_price                                                        2858.1   \n",
       "month                                                                 6   \n",
       "weekday                                                               4   \n",
       "num_photos                                                            5   \n",
       "num_features                                                          0   \n",
       "words_in_description                                                588   \n",
       "month_4                                                               0   \n",
       "month_5                                                               0   \n",
       "month_6                                                               1   \n",
       "weekday_0                                                             0   \n",
       "weekday_1                                                             0   \n",
       "weekday_2                                                             0   \n",
       "weekday_3                                                             0   \n",
       "weekday_4                                                             1   \n",
       "weekday_5                                                             0   \n",
       "weekday_6                                                             0   \n",
       "price_per_bed                                                      1000   \n",
       "price_per_bath                                                     2000   \n",
       "total_rooms                                                         4.5   \n",
       "price_per_room                                                  666.667   \n",
       "price_in_cluster                                                141.897   \n",
       "unit_count                                                            5   \n",
       "manager_popularity                                                  235   \n",
       "Elevator                                                              0   \n",
       "Dogs Allowed                                                          0   \n",
       "Cats Allowed                                                          0   \n",
       "laundry                                                               0   \n",
       "stainless                                                             0   \n",
       "hardwood                                                              0   \n",
       "new                                                                   0   \n",
       "appliances                                                            0   \n",
       "renovated                                                             0   \n",
       "\n",
       "                                                                      1  \\\n",
       "bathrooms                                                             1   \n",
       "bedrooms                                                              1   \n",
       "building_id                            53a5b119ba8f7b61d4e010512e0dfc85   \n",
       "created                                             2016-06-14 15:32:30   \n",
       "description           Enjoy These Following Apartment Features As Yo...   \n",
       "display_address                                     Metropolitan Avenue   \n",
       "features                                                             []   \n",
       "interest_level                                                      low   \n",
       "latitude                                                        40.7145   \n",
       "listing_id                                                      7159209   \n",
       "longitude                                                      -73.9425   \n",
       "manager_id                             5ba989232d0489da1b5f2c45f6688adc   \n",
       "photos                [https://photos.renthop.com/2/7159209_a7cf2b89...   \n",
       "price                                                              2500   \n",
       "street_address                                  792 Metropolitan Avenue   \n",
       "test                                                              False   \n",
       "labels                                                               30   \n",
       "avg_price                                                        2858.1   \n",
       "month                                                                 6   \n",
       "weekday                                                               1   \n",
       "num_photos                                                            5   \n",
       "num_features                                                          0   \n",
       "words_in_description                                                548   \n",
       "month_4                                                               0   \n",
       "month_5                                                               0   \n",
       "month_6                                                               1   \n",
       "weekday_0                                                             0   \n",
       "weekday_1                                                             1   \n",
       "weekday_2                                                             0   \n",
       "weekday_3                                                             0   \n",
       "weekday_4                                                             0   \n",
       "weekday_5                                                             0   \n",
       "weekday_6                                                             0   \n",
       "price_per_bed                                                      2500   \n",
       "price_per_bath                                                     2500   \n",
       "total_rooms                                                           2   \n",
       "price_per_room                                                     1250   \n",
       "price_in_cluster                                               -358.103   \n",
       "unit_count                                                            5   \n",
       "manager_popularity                                                  235   \n",
       "Elevator                                                              0   \n",
       "Dogs Allowed                                                          0   \n",
       "Cats Allowed                                                          0   \n",
       "laundry                                                               0   \n",
       "stainless                                                             0   \n",
       "hardwood                                                              0   \n",
       "new                                                                   0   \n",
       "appliances                                                            0   \n",
       "renovated                                                             0   \n",
       "\n",
       "                                                                      2  \\\n",
       "bathrooms                                                             1   \n",
       "bedrooms                                                              1   \n",
       "building_id                            53a5b119ba8f7b61d4e010512e0dfc85   \n",
       "created                                             2016-06-24 05:46:50   \n",
       "description           Enjoy These Following Apartment Features As Yo...   \n",
       "display_address                                     Metropolitan Avenue   \n",
       "features                                                             []   \n",
       "interest_level                                                      low   \n",
       "latitude                                                        40.7145   \n",
       "listing_id                                                      7209396   \n",
       "longitude                                                      -73.9425   \n",
       "manager_id                             5ba989232d0489da1b5f2c45f6688adc   \n",
       "photos                [https://photos.renthop.com/2/7209396_5eb9b0e9...   \n",
       "price                                                              2500   \n",
       "street_address                                  792 Metropolitan Avenue   \n",
       "test                                                              False   \n",
       "labels                                                               30   \n",
       "avg_price                                                        2858.1   \n",
       "month                                                                 6   \n",
       "weekday                                                               4   \n",
       "num_photos                                                            5   \n",
       "num_features                                                          0   \n",
       "words_in_description                                                548   \n",
       "month_4                                                               0   \n",
       "month_5                                                               0   \n",
       "month_6                                                               1   \n",
       "weekday_0                                                             0   \n",
       "weekday_1                                                             0   \n",
       "weekday_2                                                             0   \n",
       "weekday_3                                                             0   \n",
       "weekday_4                                                             1   \n",
       "weekday_5                                                             0   \n",
       "weekday_6                                                             0   \n",
       "price_per_bed                                                      2500   \n",
       "price_per_bath                                                     2500   \n",
       "total_rooms                                                           2   \n",
       "price_per_room                                                     1250   \n",
       "price_in_cluster                                               -358.103   \n",
       "unit_count                                                            5   \n",
       "manager_popularity                                                  235   \n",
       "Elevator                                                              0   \n",
       "Dogs Allowed                                                          0   \n",
       "Cats Allowed                                                          0   \n",
       "laundry                                                               0   \n",
       "stainless                                                             0   \n",
       "hardwood                                                              0   \n",
       "new                                                                   0   \n",
       "appliances                                                            0   \n",
       "renovated                                                             0   \n",
       "\n",
       "                                                                      3  \\\n",
       "bathrooms                                                           1.5   \n",
       "bedrooms                                                              3   \n",
       "building_id                            53a5b119ba8f7b61d4e010512e0dfc85   \n",
       "created                                             2016-06-16 07:39:41   \n",
       "description           A Brand New 3 Bedroom 1.5 bath ApartmentEnjoy ...   \n",
       "display_address                                     Metropolitan Avenue   \n",
       "features                                                             []   \n",
       "interest_level                                                      NaN   \n",
       "latitude                                                        40.7145   \n",
       "listing_id                                                      7171949   \n",
       "longitude                                                      -73.9425   \n",
       "manager_id                             5ba989232d0489da1b5f2c45f6688adc   \n",
       "photos                [https://photos.renthop.com/2/7171949_c92db053...   \n",
       "price                                                              3000   \n",
       "street_address                                  792 Metropolitan Avenue   \n",
       "test                                                               True   \n",
       "labels                                                               30   \n",
       "avg_price                                                        2858.1   \n",
       "month                                                                 6   \n",
       "weekday                                                               3   \n",
       "num_photos                                                            5   \n",
       "num_features                                                          0   \n",
       "words_in_description                                                588   \n",
       "month_4                                                               0   \n",
       "month_5                                                               0   \n",
       "month_6                                                               1   \n",
       "weekday_0                                                             0   \n",
       "weekday_1                                                             0   \n",
       "weekday_2                                                             0   \n",
       "weekday_3                                                             1   \n",
       "weekday_4                                                             0   \n",
       "weekday_5                                                             0   \n",
       "weekday_6                                                             0   \n",
       "price_per_bed                                                      1000   \n",
       "price_per_bath                                                     2000   \n",
       "total_rooms                                                         4.5   \n",
       "price_per_room                                                  666.667   \n",
       "price_in_cluster                                                141.897   \n",
       "unit_count                                                            5   \n",
       "manager_popularity                                                  235   \n",
       "Elevator                                                              0   \n",
       "Dogs Allowed                                                          0   \n",
       "Cats Allowed                                                          0   \n",
       "laundry                                                               0   \n",
       "stainless                                                             0   \n",
       "hardwood                                                              0   \n",
       "new                                                                   0   \n",
       "appliances                                                            0   \n",
       "renovated                                                             0   \n",
       "\n",
       "                                                                      4  \n",
       "bathrooms                                                             1  \n",
       "bedrooms                                                              1  \n",
       "building_id                            53a5b119ba8f7b61d4e010512e0dfc85  \n",
       "created                                             2016-06-20 19:00:04  \n",
       "description           Enjoy These Following Apartment Features As Yo...  \n",
       "display_address                                     Metropolitan Avenue  \n",
       "features                                                             []  \n",
       "interest_level                                                      NaN  \n",
       "latitude                                                        40.7145  \n",
       "listing_id                                                      7185456  \n",
       "longitude                                                      -73.9425  \n",
       "manager_id                             5ba989232d0489da1b5f2c45f6688adc  \n",
       "photos                [https://photos.renthop.com/2/7185456_0ad6133d...  \n",
       "price                                                              2500  \n",
       "street_address                                  792 Metropolitan Avenue  \n",
       "test                                                               True  \n",
       "labels                                                               30  \n",
       "avg_price                                                        2858.1  \n",
       "month                                                                 6  \n",
       "weekday                                                               0  \n",
       "num_photos                                                            5  \n",
       "num_features                                                          0  \n",
       "words_in_description                                                548  \n",
       "month_4                                                               0  \n",
       "month_5                                                               0  \n",
       "month_6                                                               1  \n",
       "weekday_0                                                             1  \n",
       "weekday_1                                                             0  \n",
       "weekday_2                                                             0  \n",
       "weekday_3                                                             0  \n",
       "weekday_4                                                             0  \n",
       "weekday_5                                                             0  \n",
       "weekday_6                                                             0  \n",
       "price_per_bed                                                      2500  \n",
       "price_per_bath                                                     2500  \n",
       "total_rooms                                                           2  \n",
       "price_per_room                                                     1250  \n",
       "price_in_cluster                                               -358.103  \n",
       "unit_count                                                            5  \n",
       "manager_popularity                                                  235  \n",
       "Elevator                                                              0  \n",
       "Dogs Allowed                                                          0  \n",
       "Cats Allowed                                                          0  \n",
       "laundry                                                               0  \n",
       "stainless                                                             0  \n",
       "hardwood                                                              0  \n",
       "new                                                                   0  \n",
       "appliances                                                            0  \n",
       "renovated                                                             0  "
      ]
     },
     "execution_count": 45,
     "metadata": {},
     "output_type": "execute_result"
    }
   ],
   "source": [
    "cdf.head().T"
   ]
  },
  {
   "cell_type": "markdown",
   "metadata": {},
   "source": [
    "## Recode clusters into categorical variables"
   ]
  },
  {
   "cell_type": "code",
   "execution_count": 46,
   "metadata": {},
   "outputs": [
    {
     "data": {
      "text/html": [
       "<div>\n",
       "<table border=\"1\" class=\"dataframe\">\n",
       "  <thead>\n",
       "    <tr style=\"text-align: right;\">\n",
       "      <th></th>\n",
       "      <th>labels_0</th>\n",
       "      <th>labels_1</th>\n",
       "      <th>labels_10</th>\n",
       "      <th>labels_11</th>\n",
       "      <th>labels_12</th>\n",
       "      <th>labels_13</th>\n",
       "      <th>labels_14</th>\n",
       "      <th>labels_15</th>\n",
       "      <th>labels_16</th>\n",
       "      <th>labels_17</th>\n",
       "      <th>...</th>\n",
       "      <th>labels_90</th>\n",
       "      <th>labels_91</th>\n",
       "      <th>labels_92</th>\n",
       "      <th>labels_93</th>\n",
       "      <th>labels_94</th>\n",
       "      <th>labels_95</th>\n",
       "      <th>labels_96</th>\n",
       "      <th>labels_97</th>\n",
       "      <th>labels_98</th>\n",
       "      <th>labels_99</th>\n",
       "    </tr>\n",
       "  </thead>\n",
       "  <tbody>\n",
       "    <tr>\n",
       "      <th>0</th>\n",
       "      <td>0</td>\n",
       "      <td>0</td>\n",
       "      <td>0</td>\n",
       "      <td>0</td>\n",
       "      <td>0</td>\n",
       "      <td>0</td>\n",
       "      <td>0</td>\n",
       "      <td>0</td>\n",
       "      <td>0</td>\n",
       "      <td>0</td>\n",
       "      <td>...</td>\n",
       "      <td>0</td>\n",
       "      <td>0</td>\n",
       "      <td>0</td>\n",
       "      <td>0</td>\n",
       "      <td>0</td>\n",
       "      <td>0</td>\n",
       "      <td>0</td>\n",
       "      <td>0</td>\n",
       "      <td>0</td>\n",
       "      <td>0</td>\n",
       "    </tr>\n",
       "    <tr>\n",
       "      <th>1</th>\n",
       "      <td>0</td>\n",
       "      <td>0</td>\n",
       "      <td>0</td>\n",
       "      <td>0</td>\n",
       "      <td>0</td>\n",
       "      <td>0</td>\n",
       "      <td>0</td>\n",
       "      <td>0</td>\n",
       "      <td>0</td>\n",
       "      <td>0</td>\n",
       "      <td>...</td>\n",
       "      <td>0</td>\n",
       "      <td>0</td>\n",
       "      <td>0</td>\n",
       "      <td>0</td>\n",
       "      <td>0</td>\n",
       "      <td>0</td>\n",
       "      <td>0</td>\n",
       "      <td>0</td>\n",
       "      <td>0</td>\n",
       "      <td>0</td>\n",
       "    </tr>\n",
       "    <tr>\n",
       "      <th>2</th>\n",
       "      <td>0</td>\n",
       "      <td>0</td>\n",
       "      <td>0</td>\n",
       "      <td>0</td>\n",
       "      <td>0</td>\n",
       "      <td>0</td>\n",
       "      <td>0</td>\n",
       "      <td>0</td>\n",
       "      <td>0</td>\n",
       "      <td>0</td>\n",
       "      <td>...</td>\n",
       "      <td>0</td>\n",
       "      <td>0</td>\n",
       "      <td>0</td>\n",
       "      <td>0</td>\n",
       "      <td>0</td>\n",
       "      <td>0</td>\n",
       "      <td>0</td>\n",
       "      <td>0</td>\n",
       "      <td>0</td>\n",
       "      <td>0</td>\n",
       "    </tr>\n",
       "    <tr>\n",
       "      <th>3</th>\n",
       "      <td>0</td>\n",
       "      <td>0</td>\n",
       "      <td>0</td>\n",
       "      <td>0</td>\n",
       "      <td>0</td>\n",
       "      <td>0</td>\n",
       "      <td>0</td>\n",
       "      <td>0</td>\n",
       "      <td>0</td>\n",
       "      <td>0</td>\n",
       "      <td>...</td>\n",
       "      <td>0</td>\n",
       "      <td>0</td>\n",
       "      <td>0</td>\n",
       "      <td>0</td>\n",
       "      <td>0</td>\n",
       "      <td>0</td>\n",
       "      <td>0</td>\n",
       "      <td>0</td>\n",
       "      <td>0</td>\n",
       "      <td>0</td>\n",
       "    </tr>\n",
       "    <tr>\n",
       "      <th>4</th>\n",
       "      <td>0</td>\n",
       "      <td>0</td>\n",
       "      <td>0</td>\n",
       "      <td>0</td>\n",
       "      <td>0</td>\n",
       "      <td>0</td>\n",
       "      <td>0</td>\n",
       "      <td>0</td>\n",
       "      <td>0</td>\n",
       "      <td>0</td>\n",
       "      <td>...</td>\n",
       "      <td>0</td>\n",
       "      <td>0</td>\n",
       "      <td>0</td>\n",
       "      <td>0</td>\n",
       "      <td>0</td>\n",
       "      <td>0</td>\n",
       "      <td>0</td>\n",
       "      <td>0</td>\n",
       "      <td>0</td>\n",
       "      <td>0</td>\n",
       "    </tr>\n",
       "  </tbody>\n",
       "</table>\n",
       "<p>5 rows × 100 columns</p>\n",
       "</div>"
      ],
      "text/plain": [
       "   labels_0  labels_1  labels_10  labels_11  labels_12  labels_13  labels_14  \\\n",
       "0         0         0          0          0          0          0          0   \n",
       "1         0         0          0          0          0          0          0   \n",
       "2         0         0          0          0          0          0          0   \n",
       "3         0         0          0          0          0          0          0   \n",
       "4         0         0          0          0          0          0          0   \n",
       "\n",
       "   labels_15  labels_16  labels_17    ...      labels_90  labels_91  \\\n",
       "0          0          0          0    ...              0          0   \n",
       "1          0          0          0    ...              0          0   \n",
       "2          0          0          0    ...              0          0   \n",
       "3          0          0          0    ...              0          0   \n",
       "4          0          0          0    ...              0          0   \n",
       "\n",
       "   labels_92  labels_93  labels_94  labels_95  labels_96  labels_97  \\\n",
       "0          0          0          0          0          0          0   \n",
       "1          0          0          0          0          0          0   \n",
       "2          0          0          0          0          0          0   \n",
       "3          0          0          0          0          0          0   \n",
       "4          0          0          0          0          0          0   \n",
       "\n",
       "   labels_98  labels_99  \n",
       "0          0          0  \n",
       "1          0          0  \n",
       "2          0          0  \n",
       "3          0          0  \n",
       "4          0          0  \n",
       "\n",
       "[5 rows x 100 columns]"
      ]
     },
     "execution_count": 46,
     "metadata": {},
     "output_type": "execute_result"
    }
   ],
   "source": [
    "#Recode variables labels\n",
    "cdf['labels']=cdf['labels'].astype('str')\n",
    "ldf=pd.get_dummies(cdf[['labels']])\n",
    "ldf.head()"
   ]
  },
  {
   "cell_type": "code",
   "execution_count": 47,
   "metadata": {},
   "outputs": [
    {
     "data": {
      "text/html": [
       "<div>\n",
       "<table border=\"1\" class=\"dataframe\">\n",
       "  <thead>\n",
       "    <tr style=\"text-align: right;\">\n",
       "      <th></th>\n",
       "      <th>bathrooms</th>\n",
       "      <th>bedrooms</th>\n",
       "      <th>building_id</th>\n",
       "      <th>created</th>\n",
       "      <th>description</th>\n",
       "      <th>display_address</th>\n",
       "      <th>features</th>\n",
       "      <th>interest_level</th>\n",
       "      <th>latitude</th>\n",
       "      <th>listing_id</th>\n",
       "      <th>...</th>\n",
       "      <th>labels_90</th>\n",
       "      <th>labels_91</th>\n",
       "      <th>labels_92</th>\n",
       "      <th>labels_93</th>\n",
       "      <th>labels_94</th>\n",
       "      <th>labels_95</th>\n",
       "      <th>labels_96</th>\n",
       "      <th>labels_97</th>\n",
       "      <th>labels_98</th>\n",
       "      <th>labels_99</th>\n",
       "    </tr>\n",
       "  </thead>\n",
       "  <tbody>\n",
       "    <tr>\n",
       "      <th>0</th>\n",
       "      <td>1.5</td>\n",
       "      <td>3</td>\n",
       "      <td>53a5b119ba8f7b61d4e010512e0dfc85</td>\n",
       "      <td>2016-06-24 07:54:24</td>\n",
       "      <td>A Brand New 3 Bedroom 1.5 bath ApartmentEnjoy ...</td>\n",
       "      <td>Metropolitan Avenue</td>\n",
       "      <td>[]</td>\n",
       "      <td>medium</td>\n",
       "      <td>40.7145</td>\n",
       "      <td>7211212</td>\n",
       "      <td>...</td>\n",
       "      <td>0</td>\n",
       "      <td>0</td>\n",
       "      <td>0</td>\n",
       "      <td>0</td>\n",
       "      <td>0</td>\n",
       "      <td>0</td>\n",
       "      <td>0</td>\n",
       "      <td>0</td>\n",
       "      <td>0</td>\n",
       "      <td>0</td>\n",
       "    </tr>\n",
       "    <tr>\n",
       "      <th>1</th>\n",
       "      <td>1.0</td>\n",
       "      <td>1</td>\n",
       "      <td>53a5b119ba8f7b61d4e010512e0dfc85</td>\n",
       "      <td>2016-06-14 15:32:30</td>\n",
       "      <td>Enjoy These Following Apartment Features As Yo...</td>\n",
       "      <td>Metropolitan Avenue</td>\n",
       "      <td>[]</td>\n",
       "      <td>low</td>\n",
       "      <td>40.7145</td>\n",
       "      <td>7159209</td>\n",
       "      <td>...</td>\n",
       "      <td>0</td>\n",
       "      <td>0</td>\n",
       "      <td>0</td>\n",
       "      <td>0</td>\n",
       "      <td>0</td>\n",
       "      <td>0</td>\n",
       "      <td>0</td>\n",
       "      <td>0</td>\n",
       "      <td>0</td>\n",
       "      <td>0</td>\n",
       "    </tr>\n",
       "    <tr>\n",
       "      <th>2</th>\n",
       "      <td>1.0</td>\n",
       "      <td>1</td>\n",
       "      <td>53a5b119ba8f7b61d4e010512e0dfc85</td>\n",
       "      <td>2016-06-24 05:46:50</td>\n",
       "      <td>Enjoy These Following Apartment Features As Yo...</td>\n",
       "      <td>Metropolitan Avenue</td>\n",
       "      <td>[]</td>\n",
       "      <td>low</td>\n",
       "      <td>40.7145</td>\n",
       "      <td>7209396</td>\n",
       "      <td>...</td>\n",
       "      <td>0</td>\n",
       "      <td>0</td>\n",
       "      <td>0</td>\n",
       "      <td>0</td>\n",
       "      <td>0</td>\n",
       "      <td>0</td>\n",
       "      <td>0</td>\n",
       "      <td>0</td>\n",
       "      <td>0</td>\n",
       "      <td>0</td>\n",
       "    </tr>\n",
       "    <tr>\n",
       "      <th>3</th>\n",
       "      <td>1.5</td>\n",
       "      <td>3</td>\n",
       "      <td>53a5b119ba8f7b61d4e010512e0dfc85</td>\n",
       "      <td>2016-06-16 07:39:41</td>\n",
       "      <td>A Brand New 3 Bedroom 1.5 bath ApartmentEnjoy ...</td>\n",
       "      <td>Metropolitan Avenue</td>\n",
       "      <td>[]</td>\n",
       "      <td>NaN</td>\n",
       "      <td>40.7145</td>\n",
       "      <td>7171949</td>\n",
       "      <td>...</td>\n",
       "      <td>0</td>\n",
       "      <td>0</td>\n",
       "      <td>0</td>\n",
       "      <td>0</td>\n",
       "      <td>0</td>\n",
       "      <td>0</td>\n",
       "      <td>0</td>\n",
       "      <td>0</td>\n",
       "      <td>0</td>\n",
       "      <td>0</td>\n",
       "    </tr>\n",
       "    <tr>\n",
       "      <th>4</th>\n",
       "      <td>1.0</td>\n",
       "      <td>1</td>\n",
       "      <td>53a5b119ba8f7b61d4e010512e0dfc85</td>\n",
       "      <td>2016-06-20 19:00:04</td>\n",
       "      <td>Enjoy These Following Apartment Features As Yo...</td>\n",
       "      <td>Metropolitan Avenue</td>\n",
       "      <td>[]</td>\n",
       "      <td>NaN</td>\n",
       "      <td>40.7145</td>\n",
       "      <td>7185456</td>\n",
       "      <td>...</td>\n",
       "      <td>0</td>\n",
       "      <td>0</td>\n",
       "      <td>0</td>\n",
       "      <td>0</td>\n",
       "      <td>0</td>\n",
       "      <td>0</td>\n",
       "      <td>0</td>\n",
       "      <td>0</td>\n",
       "      <td>0</td>\n",
       "      <td>0</td>\n",
       "    </tr>\n",
       "  </tbody>\n",
       "</table>\n",
       "<p>5 rows × 149 columns</p>\n",
       "</div>"
      ],
      "text/plain": [
       "   bathrooms  bedrooms                       building_id             created  \\\n",
       "0        1.5         3  53a5b119ba8f7b61d4e010512e0dfc85 2016-06-24 07:54:24   \n",
       "1        1.0         1  53a5b119ba8f7b61d4e010512e0dfc85 2016-06-14 15:32:30   \n",
       "2        1.0         1  53a5b119ba8f7b61d4e010512e0dfc85 2016-06-24 05:46:50   \n",
       "3        1.5         3  53a5b119ba8f7b61d4e010512e0dfc85 2016-06-16 07:39:41   \n",
       "4        1.0         1  53a5b119ba8f7b61d4e010512e0dfc85 2016-06-20 19:00:04   \n",
       "\n",
       "                                         description      display_address  \\\n",
       "0  A Brand New 3 Bedroom 1.5 bath ApartmentEnjoy ...  Metropolitan Avenue   \n",
       "1  Enjoy These Following Apartment Features As Yo...  Metropolitan Avenue   \n",
       "2  Enjoy These Following Apartment Features As Yo...  Metropolitan Avenue   \n",
       "3  A Brand New 3 Bedroom 1.5 bath ApartmentEnjoy ...  Metropolitan Avenue   \n",
       "4  Enjoy These Following Apartment Features As Yo...  Metropolitan Avenue   \n",
       "\n",
       "  features interest_level  latitude  listing_id    ...     labels_90  \\\n",
       "0       []         medium   40.7145     7211212    ...             0   \n",
       "1       []            low   40.7145     7159209    ...             0   \n",
       "2       []            low   40.7145     7209396    ...             0   \n",
       "3       []            NaN   40.7145     7171949    ...             0   \n",
       "4       []            NaN   40.7145     7185456    ...             0   \n",
       "\n",
       "  labels_91 labels_92  labels_93 labels_94 labels_95 labels_96  labels_97  \\\n",
       "0         0         0          0         0         0         0          0   \n",
       "1         0         0          0         0         0         0          0   \n",
       "2         0         0          0         0         0         0          0   \n",
       "3         0         0          0         0         0         0          0   \n",
       "4         0         0          0         0         0         0          0   \n",
       "\n",
       "  labels_98 labels_99  \n",
       "0         0         0  \n",
       "1         0         0  \n",
       "2         0         0  \n",
       "3         0         0  \n",
       "4         0         0  \n",
       "\n",
       "[5 rows x 149 columns]"
      ]
     },
     "execution_count": 47,
     "metadata": {},
     "output_type": "execute_result"
    }
   ],
   "source": [
    "cdf = cdf.merge(ldf,left_index=True, right_index=True)\n",
    "cdf.head()"
   ]
  },
  {
   "cell_type": "markdown",
   "metadata": {},
   "source": [
    "## Drop unwanted features"
   ]
  },
  {
   "cell_type": "code",
   "execution_count": 48,
   "metadata": {
    "collapsed": true
   },
   "outputs": [],
   "source": [
    "cdf=cdf.drop(['building_id','created','description','display_address','features','manager_id','photos','street_address','labels','month','weekday','month_4','weekday_0','labels_99'],axis=1)"
   ]
  },
  {
   "cell_type": "code",
   "execution_count": 49,
   "metadata": {},
   "outputs": [
    {
     "data": {
      "text/html": [
       "<div>\n",
       "<table border=\"1\" class=\"dataframe\">\n",
       "  <thead>\n",
       "    <tr style=\"text-align: right;\">\n",
       "      <th></th>\n",
       "      <th>0</th>\n",
       "      <th>1</th>\n",
       "      <th>2</th>\n",
       "      <th>3</th>\n",
       "      <th>4</th>\n",
       "    </tr>\n",
       "  </thead>\n",
       "  <tbody>\n",
       "    <tr>\n",
       "      <th>bathrooms</th>\n",
       "      <td>1.5</td>\n",
       "      <td>1</td>\n",
       "      <td>1</td>\n",
       "      <td>1.5</td>\n",
       "      <td>1</td>\n",
       "    </tr>\n",
       "    <tr>\n",
       "      <th>bedrooms</th>\n",
       "      <td>3</td>\n",
       "      <td>1</td>\n",
       "      <td>1</td>\n",
       "      <td>3</td>\n",
       "      <td>1</td>\n",
       "    </tr>\n",
       "    <tr>\n",
       "      <th>interest_level</th>\n",
       "      <td>medium</td>\n",
       "      <td>low</td>\n",
       "      <td>low</td>\n",
       "      <td>NaN</td>\n",
       "      <td>NaN</td>\n",
       "    </tr>\n",
       "    <tr>\n",
       "      <th>latitude</th>\n",
       "      <td>40.7145</td>\n",
       "      <td>40.7145</td>\n",
       "      <td>40.7145</td>\n",
       "      <td>40.7145</td>\n",
       "      <td>40.7145</td>\n",
       "    </tr>\n",
       "    <tr>\n",
       "      <th>listing_id</th>\n",
       "      <td>7211212</td>\n",
       "      <td>7159209</td>\n",
       "      <td>7209396</td>\n",
       "      <td>7171949</td>\n",
       "      <td>7185456</td>\n",
       "    </tr>\n",
       "    <tr>\n",
       "      <th>longitude</th>\n",
       "      <td>-73.9425</td>\n",
       "      <td>-73.9425</td>\n",
       "      <td>-73.9425</td>\n",
       "      <td>-73.9425</td>\n",
       "      <td>-73.9425</td>\n",
       "    </tr>\n",
       "    <tr>\n",
       "      <th>price</th>\n",
       "      <td>3000</td>\n",
       "      <td>2500</td>\n",
       "      <td>2500</td>\n",
       "      <td>3000</td>\n",
       "      <td>2500</td>\n",
       "    </tr>\n",
       "    <tr>\n",
       "      <th>test</th>\n",
       "      <td>False</td>\n",
       "      <td>False</td>\n",
       "      <td>False</td>\n",
       "      <td>True</td>\n",
       "      <td>True</td>\n",
       "    </tr>\n",
       "    <tr>\n",
       "      <th>avg_price</th>\n",
       "      <td>2858.1</td>\n",
       "      <td>2858.1</td>\n",
       "      <td>2858.1</td>\n",
       "      <td>2858.1</td>\n",
       "      <td>2858.1</td>\n",
       "    </tr>\n",
       "    <tr>\n",
       "      <th>num_photos</th>\n",
       "      <td>5</td>\n",
       "      <td>5</td>\n",
       "      <td>5</td>\n",
       "      <td>5</td>\n",
       "      <td>5</td>\n",
       "    </tr>\n",
       "    <tr>\n",
       "      <th>num_features</th>\n",
       "      <td>0</td>\n",
       "      <td>0</td>\n",
       "      <td>0</td>\n",
       "      <td>0</td>\n",
       "      <td>0</td>\n",
       "    </tr>\n",
       "    <tr>\n",
       "      <th>words_in_description</th>\n",
       "      <td>588</td>\n",
       "      <td>548</td>\n",
       "      <td>548</td>\n",
       "      <td>588</td>\n",
       "      <td>548</td>\n",
       "    </tr>\n",
       "    <tr>\n",
       "      <th>month_5</th>\n",
       "      <td>0</td>\n",
       "      <td>0</td>\n",
       "      <td>0</td>\n",
       "      <td>0</td>\n",
       "      <td>0</td>\n",
       "    </tr>\n",
       "    <tr>\n",
       "      <th>month_6</th>\n",
       "      <td>1</td>\n",
       "      <td>1</td>\n",
       "      <td>1</td>\n",
       "      <td>1</td>\n",
       "      <td>1</td>\n",
       "    </tr>\n",
       "    <tr>\n",
       "      <th>weekday_1</th>\n",
       "      <td>0</td>\n",
       "      <td>1</td>\n",
       "      <td>0</td>\n",
       "      <td>0</td>\n",
       "      <td>0</td>\n",
       "    </tr>\n",
       "    <tr>\n",
       "      <th>weekday_2</th>\n",
       "      <td>0</td>\n",
       "      <td>0</td>\n",
       "      <td>0</td>\n",
       "      <td>0</td>\n",
       "      <td>0</td>\n",
       "    </tr>\n",
       "    <tr>\n",
       "      <th>weekday_3</th>\n",
       "      <td>0</td>\n",
       "      <td>0</td>\n",
       "      <td>0</td>\n",
       "      <td>1</td>\n",
       "      <td>0</td>\n",
       "    </tr>\n",
       "    <tr>\n",
       "      <th>weekday_4</th>\n",
       "      <td>1</td>\n",
       "      <td>0</td>\n",
       "      <td>1</td>\n",
       "      <td>0</td>\n",
       "      <td>0</td>\n",
       "    </tr>\n",
       "    <tr>\n",
       "      <th>weekday_5</th>\n",
       "      <td>0</td>\n",
       "      <td>0</td>\n",
       "      <td>0</td>\n",
       "      <td>0</td>\n",
       "      <td>0</td>\n",
       "    </tr>\n",
       "    <tr>\n",
       "      <th>weekday_6</th>\n",
       "      <td>0</td>\n",
       "      <td>0</td>\n",
       "      <td>0</td>\n",
       "      <td>0</td>\n",
       "      <td>0</td>\n",
       "    </tr>\n",
       "    <tr>\n",
       "      <th>price_per_bed</th>\n",
       "      <td>1000</td>\n",
       "      <td>2500</td>\n",
       "      <td>2500</td>\n",
       "      <td>1000</td>\n",
       "      <td>2500</td>\n",
       "    </tr>\n",
       "    <tr>\n",
       "      <th>price_per_bath</th>\n",
       "      <td>2000</td>\n",
       "      <td>2500</td>\n",
       "      <td>2500</td>\n",
       "      <td>2000</td>\n",
       "      <td>2500</td>\n",
       "    </tr>\n",
       "    <tr>\n",
       "      <th>total_rooms</th>\n",
       "      <td>4.5</td>\n",
       "      <td>2</td>\n",
       "      <td>2</td>\n",
       "      <td>4.5</td>\n",
       "      <td>2</td>\n",
       "    </tr>\n",
       "    <tr>\n",
       "      <th>price_per_room</th>\n",
       "      <td>666.667</td>\n",
       "      <td>1250</td>\n",
       "      <td>1250</td>\n",
       "      <td>666.667</td>\n",
       "      <td>1250</td>\n",
       "    </tr>\n",
       "    <tr>\n",
       "      <th>price_in_cluster</th>\n",
       "      <td>141.897</td>\n",
       "      <td>-358.103</td>\n",
       "      <td>-358.103</td>\n",
       "      <td>141.897</td>\n",
       "      <td>-358.103</td>\n",
       "    </tr>\n",
       "    <tr>\n",
       "      <th>unit_count</th>\n",
       "      <td>5</td>\n",
       "      <td>5</td>\n",
       "      <td>5</td>\n",
       "      <td>5</td>\n",
       "      <td>5</td>\n",
       "    </tr>\n",
       "    <tr>\n",
       "      <th>manager_popularity</th>\n",
       "      <td>235</td>\n",
       "      <td>235</td>\n",
       "      <td>235</td>\n",
       "      <td>235</td>\n",
       "      <td>235</td>\n",
       "    </tr>\n",
       "    <tr>\n",
       "      <th>Elevator</th>\n",
       "      <td>0</td>\n",
       "      <td>0</td>\n",
       "      <td>0</td>\n",
       "      <td>0</td>\n",
       "      <td>0</td>\n",
       "    </tr>\n",
       "    <tr>\n",
       "      <th>Dogs Allowed</th>\n",
       "      <td>0</td>\n",
       "      <td>0</td>\n",
       "      <td>0</td>\n",
       "      <td>0</td>\n",
       "      <td>0</td>\n",
       "    </tr>\n",
       "    <tr>\n",
       "      <th>Cats Allowed</th>\n",
       "      <td>0</td>\n",
       "      <td>0</td>\n",
       "      <td>0</td>\n",
       "      <td>0</td>\n",
       "      <td>0</td>\n",
       "    </tr>\n",
       "    <tr>\n",
       "      <th>...</th>\n",
       "      <td>...</td>\n",
       "      <td>...</td>\n",
       "      <td>...</td>\n",
       "      <td>...</td>\n",
       "      <td>...</td>\n",
       "    </tr>\n",
       "    <tr>\n",
       "      <th>labels_71</th>\n",
       "      <td>0</td>\n",
       "      <td>0</td>\n",
       "      <td>0</td>\n",
       "      <td>0</td>\n",
       "      <td>0</td>\n",
       "    </tr>\n",
       "    <tr>\n",
       "      <th>labels_72</th>\n",
       "      <td>0</td>\n",
       "      <td>0</td>\n",
       "      <td>0</td>\n",
       "      <td>0</td>\n",
       "      <td>0</td>\n",
       "    </tr>\n",
       "    <tr>\n",
       "      <th>labels_73</th>\n",
       "      <td>0</td>\n",
       "      <td>0</td>\n",
       "      <td>0</td>\n",
       "      <td>0</td>\n",
       "      <td>0</td>\n",
       "    </tr>\n",
       "    <tr>\n",
       "      <th>labels_74</th>\n",
       "      <td>0</td>\n",
       "      <td>0</td>\n",
       "      <td>0</td>\n",
       "      <td>0</td>\n",
       "      <td>0</td>\n",
       "    </tr>\n",
       "    <tr>\n",
       "      <th>labels_75</th>\n",
       "      <td>0</td>\n",
       "      <td>0</td>\n",
       "      <td>0</td>\n",
       "      <td>0</td>\n",
       "      <td>0</td>\n",
       "    </tr>\n",
       "    <tr>\n",
       "      <th>labels_76</th>\n",
       "      <td>0</td>\n",
       "      <td>0</td>\n",
       "      <td>0</td>\n",
       "      <td>0</td>\n",
       "      <td>0</td>\n",
       "    </tr>\n",
       "    <tr>\n",
       "      <th>labels_77</th>\n",
       "      <td>0</td>\n",
       "      <td>0</td>\n",
       "      <td>0</td>\n",
       "      <td>0</td>\n",
       "      <td>0</td>\n",
       "    </tr>\n",
       "    <tr>\n",
       "      <th>labels_78</th>\n",
       "      <td>0</td>\n",
       "      <td>0</td>\n",
       "      <td>0</td>\n",
       "      <td>0</td>\n",
       "      <td>0</td>\n",
       "    </tr>\n",
       "    <tr>\n",
       "      <th>labels_79</th>\n",
       "      <td>0</td>\n",
       "      <td>0</td>\n",
       "      <td>0</td>\n",
       "      <td>0</td>\n",
       "      <td>0</td>\n",
       "    </tr>\n",
       "    <tr>\n",
       "      <th>labels_8</th>\n",
       "      <td>0</td>\n",
       "      <td>0</td>\n",
       "      <td>0</td>\n",
       "      <td>0</td>\n",
       "      <td>0</td>\n",
       "    </tr>\n",
       "    <tr>\n",
       "      <th>labels_80</th>\n",
       "      <td>0</td>\n",
       "      <td>0</td>\n",
       "      <td>0</td>\n",
       "      <td>0</td>\n",
       "      <td>0</td>\n",
       "    </tr>\n",
       "    <tr>\n",
       "      <th>labels_81</th>\n",
       "      <td>0</td>\n",
       "      <td>0</td>\n",
       "      <td>0</td>\n",
       "      <td>0</td>\n",
       "      <td>0</td>\n",
       "    </tr>\n",
       "    <tr>\n",
       "      <th>labels_82</th>\n",
       "      <td>0</td>\n",
       "      <td>0</td>\n",
       "      <td>0</td>\n",
       "      <td>0</td>\n",
       "      <td>0</td>\n",
       "    </tr>\n",
       "    <tr>\n",
       "      <th>labels_83</th>\n",
       "      <td>0</td>\n",
       "      <td>0</td>\n",
       "      <td>0</td>\n",
       "      <td>0</td>\n",
       "      <td>0</td>\n",
       "    </tr>\n",
       "    <tr>\n",
       "      <th>labels_84</th>\n",
       "      <td>0</td>\n",
       "      <td>0</td>\n",
       "      <td>0</td>\n",
       "      <td>0</td>\n",
       "      <td>0</td>\n",
       "    </tr>\n",
       "    <tr>\n",
       "      <th>labels_85</th>\n",
       "      <td>0</td>\n",
       "      <td>0</td>\n",
       "      <td>0</td>\n",
       "      <td>0</td>\n",
       "      <td>0</td>\n",
       "    </tr>\n",
       "    <tr>\n",
       "      <th>labels_86</th>\n",
       "      <td>0</td>\n",
       "      <td>0</td>\n",
       "      <td>0</td>\n",
       "      <td>0</td>\n",
       "      <td>0</td>\n",
       "    </tr>\n",
       "    <tr>\n",
       "      <th>labels_87</th>\n",
       "      <td>0</td>\n",
       "      <td>0</td>\n",
       "      <td>0</td>\n",
       "      <td>0</td>\n",
       "      <td>0</td>\n",
       "    </tr>\n",
       "    <tr>\n",
       "      <th>labels_88</th>\n",
       "      <td>0</td>\n",
       "      <td>0</td>\n",
       "      <td>0</td>\n",
       "      <td>0</td>\n",
       "      <td>0</td>\n",
       "    </tr>\n",
       "    <tr>\n",
       "      <th>labels_89</th>\n",
       "      <td>0</td>\n",
       "      <td>0</td>\n",
       "      <td>0</td>\n",
       "      <td>0</td>\n",
       "      <td>0</td>\n",
       "    </tr>\n",
       "    <tr>\n",
       "      <th>labels_9</th>\n",
       "      <td>0</td>\n",
       "      <td>0</td>\n",
       "      <td>0</td>\n",
       "      <td>0</td>\n",
       "      <td>0</td>\n",
       "    </tr>\n",
       "    <tr>\n",
       "      <th>labels_90</th>\n",
       "      <td>0</td>\n",
       "      <td>0</td>\n",
       "      <td>0</td>\n",
       "      <td>0</td>\n",
       "      <td>0</td>\n",
       "    </tr>\n",
       "    <tr>\n",
       "      <th>labels_91</th>\n",
       "      <td>0</td>\n",
       "      <td>0</td>\n",
       "      <td>0</td>\n",
       "      <td>0</td>\n",
       "      <td>0</td>\n",
       "    </tr>\n",
       "    <tr>\n",
       "      <th>labels_92</th>\n",
       "      <td>0</td>\n",
       "      <td>0</td>\n",
       "      <td>0</td>\n",
       "      <td>0</td>\n",
       "      <td>0</td>\n",
       "    </tr>\n",
       "    <tr>\n",
       "      <th>labels_93</th>\n",
       "      <td>0</td>\n",
       "      <td>0</td>\n",
       "      <td>0</td>\n",
       "      <td>0</td>\n",
       "      <td>0</td>\n",
       "    </tr>\n",
       "    <tr>\n",
       "      <th>labels_94</th>\n",
       "      <td>0</td>\n",
       "      <td>0</td>\n",
       "      <td>0</td>\n",
       "      <td>0</td>\n",
       "      <td>0</td>\n",
       "    </tr>\n",
       "    <tr>\n",
       "      <th>labels_95</th>\n",
       "      <td>0</td>\n",
       "      <td>0</td>\n",
       "      <td>0</td>\n",
       "      <td>0</td>\n",
       "      <td>0</td>\n",
       "    </tr>\n",
       "    <tr>\n",
       "      <th>labels_96</th>\n",
       "      <td>0</td>\n",
       "      <td>0</td>\n",
       "      <td>0</td>\n",
       "      <td>0</td>\n",
       "      <td>0</td>\n",
       "    </tr>\n",
       "    <tr>\n",
       "      <th>labels_97</th>\n",
       "      <td>0</td>\n",
       "      <td>0</td>\n",
       "      <td>0</td>\n",
       "      <td>0</td>\n",
       "      <td>0</td>\n",
       "    </tr>\n",
       "    <tr>\n",
       "      <th>labels_98</th>\n",
       "      <td>0</td>\n",
       "      <td>0</td>\n",
       "      <td>0</td>\n",
       "      <td>0</td>\n",
       "      <td>0</td>\n",
       "    </tr>\n",
       "  </tbody>\n",
       "</table>\n",
       "<p>135 rows × 5 columns</p>\n",
       "</div>"
      ],
      "text/plain": [
       "                            0        1        2        3        4\n",
       "bathrooms                 1.5        1        1      1.5        1\n",
       "bedrooms                    3        1        1        3        1\n",
       "interest_level         medium      low      low      NaN      NaN\n",
       "latitude              40.7145  40.7145  40.7145  40.7145  40.7145\n",
       "listing_id            7211212  7159209  7209396  7171949  7185456\n",
       "longitude            -73.9425 -73.9425 -73.9425 -73.9425 -73.9425\n",
       "price                    3000     2500     2500     3000     2500\n",
       "test                    False    False    False     True     True\n",
       "avg_price              2858.1   2858.1   2858.1   2858.1   2858.1\n",
       "num_photos                  5        5        5        5        5\n",
       "num_features                0        0        0        0        0\n",
       "words_in_description      588      548      548      588      548\n",
       "month_5                     0        0        0        0        0\n",
       "month_6                     1        1        1        1        1\n",
       "weekday_1                   0        1        0        0        0\n",
       "weekday_2                   0        0        0        0        0\n",
       "weekday_3                   0        0        0        1        0\n",
       "weekday_4                   1        0        1        0        0\n",
       "weekday_5                   0        0        0        0        0\n",
       "weekday_6                   0        0        0        0        0\n",
       "price_per_bed            1000     2500     2500     1000     2500\n",
       "price_per_bath           2000     2500     2500     2000     2500\n",
       "total_rooms               4.5        2        2      4.5        2\n",
       "price_per_room        666.667     1250     1250  666.667     1250\n",
       "price_in_cluster      141.897 -358.103 -358.103  141.897 -358.103\n",
       "unit_count                  5        5        5        5        5\n",
       "manager_popularity        235      235      235      235      235\n",
       "Elevator                    0        0        0        0        0\n",
       "Dogs Allowed                0        0        0        0        0\n",
       "Cats Allowed                0        0        0        0        0\n",
       "...                       ...      ...      ...      ...      ...\n",
       "labels_71                   0        0        0        0        0\n",
       "labels_72                   0        0        0        0        0\n",
       "labels_73                   0        0        0        0        0\n",
       "labels_74                   0        0        0        0        0\n",
       "labels_75                   0        0        0        0        0\n",
       "labels_76                   0        0        0        0        0\n",
       "labels_77                   0        0        0        0        0\n",
       "labels_78                   0        0        0        0        0\n",
       "labels_79                   0        0        0        0        0\n",
       "labels_8                    0        0        0        0        0\n",
       "labels_80                   0        0        0        0        0\n",
       "labels_81                   0        0        0        0        0\n",
       "labels_82                   0        0        0        0        0\n",
       "labels_83                   0        0        0        0        0\n",
       "labels_84                   0        0        0        0        0\n",
       "labels_85                   0        0        0        0        0\n",
       "labels_86                   0        0        0        0        0\n",
       "labels_87                   0        0        0        0        0\n",
       "labels_88                   0        0        0        0        0\n",
       "labels_89                   0        0        0        0        0\n",
       "labels_9                    0        0        0        0        0\n",
       "labels_90                   0        0        0        0        0\n",
       "labels_91                   0        0        0        0        0\n",
       "labels_92                   0        0        0        0        0\n",
       "labels_93                   0        0        0        0        0\n",
       "labels_94                   0        0        0        0        0\n",
       "labels_95                   0        0        0        0        0\n",
       "labels_96                   0        0        0        0        0\n",
       "labels_97                   0        0        0        0        0\n",
       "labels_98                   0        0        0        0        0\n",
       "\n",
       "[135 rows x 5 columns]"
      ]
     },
     "execution_count": 49,
     "metadata": {},
     "output_type": "execute_result"
    }
   ],
   "source": [
    "cdf.head(5).T"
   ]
  },
  {
   "cell_type": "markdown",
   "metadata": {},
   "source": [
    "## Setup train test dataframes for model"
   ]
  },
  {
   "cell_type": "code",
   "execution_count": 127,
   "metadata": {},
   "outputs": [
    {
     "ename": "ValueError",
     "evalue": "labels ['test'] not contained in axis",
     "output_type": "error",
     "traceback": [
      "\u001b[1;31m---------------------------------------------------------------------------\u001b[0m",
      "\u001b[1;31mValueError\u001b[0m                                Traceback (most recent call last)",
      "\u001b[1;32m<ipython-input-127-5100efcd9eb0>\u001b[0m in \u001b[0;36m<module>\u001b[1;34m()\u001b[0m\n\u001b[0;32m      1\u001b[0m \u001b[1;31m# train_cdf=cdf[cdf['test']==False]\u001b[0m\u001b[1;33m\u001b[0m\u001b[1;33m\u001b[0m\u001b[0m\n\u001b[0;32m      2\u001b[0m \u001b[0mtest_cdf\u001b[0m\u001b[1;33m=\u001b[0m\u001b[0mcdf\u001b[0m\u001b[1;33m[\u001b[0m\u001b[0mcdf\u001b[0m\u001b[1;33m[\u001b[0m\u001b[1;34m'test'\u001b[0m\u001b[1;33m]\u001b[0m\u001b[1;33m==\u001b[0m\u001b[1;32mTrue\u001b[0m\u001b[1;33m]\u001b[0m\u001b[1;33m\u001b[0m\u001b[0m\n\u001b[1;32m----> 3\u001b[1;33m \u001b[0mtrain_cdf\u001b[0m\u001b[1;33m=\u001b[0m\u001b[0mtrain_cdf\u001b[0m\u001b[1;33m.\u001b[0m\u001b[0mdrop\u001b[0m\u001b[1;33m(\u001b[0m\u001b[1;34m'test'\u001b[0m\u001b[1;33m,\u001b[0m\u001b[0maxis\u001b[0m\u001b[1;33m=\u001b[0m\u001b[1;36m1\u001b[0m\u001b[1;33m)\u001b[0m\u001b[1;33m\u001b[0m\u001b[0m\n\u001b[0m\u001b[0;32m      4\u001b[0m \u001b[0mtest_cdf\u001b[0m\u001b[1;33m=\u001b[0m\u001b[0mtest_cdf\u001b[0m\u001b[1;33m.\u001b[0m\u001b[0mdrop\u001b[0m\u001b[1;33m(\u001b[0m\u001b[1;34m'test'\u001b[0m\u001b[1;33m,\u001b[0m\u001b[0maxis\u001b[0m\u001b[1;33m=\u001b[0m\u001b[1;36m1\u001b[0m\u001b[1;33m)\u001b[0m\u001b[1;33m\u001b[0m\u001b[0m\n\u001b[0;32m      5\u001b[0m \u001b[0mtest_cdf\u001b[0m\u001b[1;33m.\u001b[0m\u001b[0mshape\u001b[0m\u001b[1;33m\u001b[0m\u001b[0m\n",
      "\u001b[1;32mC:\\ProgramData\\Anaconda3\\lib\\site-packages\\pandas\\core\\generic.py\u001b[0m in \u001b[0;36mdrop\u001b[1;34m(self, labels, axis, level, inplace, errors)\u001b[0m\n\u001b[0;32m   1905\u001b[0m                 \u001b[0mnew_axis\u001b[0m \u001b[1;33m=\u001b[0m \u001b[0maxis\u001b[0m\u001b[1;33m.\u001b[0m\u001b[0mdrop\u001b[0m\u001b[1;33m(\u001b[0m\u001b[0mlabels\u001b[0m\u001b[1;33m,\u001b[0m \u001b[0mlevel\u001b[0m\u001b[1;33m=\u001b[0m\u001b[0mlevel\u001b[0m\u001b[1;33m,\u001b[0m \u001b[0merrors\u001b[0m\u001b[1;33m=\u001b[0m\u001b[0merrors\u001b[0m\u001b[1;33m)\u001b[0m\u001b[1;33m\u001b[0m\u001b[0m\n\u001b[0;32m   1906\u001b[0m             \u001b[1;32melse\u001b[0m\u001b[1;33m:\u001b[0m\u001b[1;33m\u001b[0m\u001b[0m\n\u001b[1;32m-> 1907\u001b[1;33m                 \u001b[0mnew_axis\u001b[0m \u001b[1;33m=\u001b[0m \u001b[0maxis\u001b[0m\u001b[1;33m.\u001b[0m\u001b[0mdrop\u001b[0m\u001b[1;33m(\u001b[0m\u001b[0mlabels\u001b[0m\u001b[1;33m,\u001b[0m \u001b[0merrors\u001b[0m\u001b[1;33m=\u001b[0m\u001b[0merrors\u001b[0m\u001b[1;33m)\u001b[0m\u001b[1;33m\u001b[0m\u001b[0m\n\u001b[0m\u001b[0;32m   1908\u001b[0m             \u001b[0mdropped\u001b[0m \u001b[1;33m=\u001b[0m \u001b[0mself\u001b[0m\u001b[1;33m.\u001b[0m\u001b[0mreindex\u001b[0m\u001b[1;33m(\u001b[0m\u001b[1;33m**\u001b[0m\u001b[1;33m{\u001b[0m\u001b[0maxis_name\u001b[0m\u001b[1;33m:\u001b[0m \u001b[0mnew_axis\u001b[0m\u001b[1;33m}\u001b[0m\u001b[1;33m)\u001b[0m\u001b[1;33m\u001b[0m\u001b[0m\n\u001b[0;32m   1909\u001b[0m             \u001b[1;32mtry\u001b[0m\u001b[1;33m:\u001b[0m\u001b[1;33m\u001b[0m\u001b[0m\n",
      "\u001b[1;32mC:\\ProgramData\\Anaconda3\\lib\\site-packages\\pandas\\indexes\\base.py\u001b[0m in \u001b[0;36mdrop\u001b[1;34m(self, labels, errors)\u001b[0m\n\u001b[0;32m   3260\u001b[0m             \u001b[1;32mif\u001b[0m \u001b[0merrors\u001b[0m \u001b[1;33m!=\u001b[0m \u001b[1;34m'ignore'\u001b[0m\u001b[1;33m:\u001b[0m\u001b[1;33m\u001b[0m\u001b[0m\n\u001b[0;32m   3261\u001b[0m                 raise ValueError('labels %s not contained in axis' %\n\u001b[1;32m-> 3262\u001b[1;33m                                  labels[mask])\n\u001b[0m\u001b[0;32m   3263\u001b[0m             \u001b[0mindexer\u001b[0m \u001b[1;33m=\u001b[0m \u001b[0mindexer\u001b[0m\u001b[1;33m[\u001b[0m\u001b[1;33m~\u001b[0m\u001b[0mmask\u001b[0m\u001b[1;33m]\u001b[0m\u001b[1;33m\u001b[0m\u001b[0m\n\u001b[0;32m   3264\u001b[0m         \u001b[1;32mreturn\u001b[0m \u001b[0mself\u001b[0m\u001b[1;33m.\u001b[0m\u001b[0mdelete\u001b[0m\u001b[1;33m(\u001b[0m\u001b[0mindexer\u001b[0m\u001b[1;33m)\u001b[0m\u001b[1;33m\u001b[0m\u001b[0m\n",
      "\u001b[1;31mValueError\u001b[0m: labels ['test'] not contained in axis"
     ]
    }
   ],
   "source": [
    "# train_cdf=cdf[cdf['test']==False]\n",
    "test_cdf=cdf[cdf['test']==True]\n",
    "train_cdf=train_cdf.drop('test',axis=1)\n",
    "test_cdf=test_cdf.drop('test',axis=1)\n",
    "test_cdf.shape"
   ]
  },
  {
   "cell_type": "code",
   "execution_count": 51,
   "metadata": {
    "collapsed": true
   },
   "outputs": [],
   "source": [
    "train_cdf_index=train_cdf['listing_id']\n",
    "train_cdf_target=train_cdf['interest_level']\n",
    "train_cdf_inputs=train_cdf.drop(['listing_id','interest_level'],axis=1)\n",
    "train_cdf_inputs = train_cdf_inputs.fillna(method='ffill')"
   ]
  },
  {
   "cell_type": "code",
   "execution_count": 52,
   "metadata": {
    "collapsed": true
   },
   "outputs": [],
   "source": [
    "train_cdf_inputs = Imputer().fit_transform(train_cdf_inputs)"
   ]
  },
  {
   "cell_type": "code",
   "execution_count": 106,
   "metadata": {
    "collapsed": true
   },
   "outputs": [],
   "source": [
    "test_cdf_index=test_cdf['listing_id'].values\n",
    "test_cdf_inputs=test_cdf.drop(['listing_id','interest_level'],axis=1)"
   ]
  },
  {
   "cell_type": "code",
   "execution_count": 109,
   "metadata": {},
   "outputs": [
    {
     "data": {
      "text/plain": [
       "array([7171949, 7185456, 6855487, ..., 6931016, 7143646, 7028987], dtype=int64)"
      ]
     },
     "execution_count": 109,
     "metadata": {},
     "output_type": "execute_result"
    }
   ],
   "source": [
    "test_cdf_index"
   ]
  },
  {
   "cell_type": "code",
   "execution_count": 54,
   "metadata": {},
   "outputs": [
    {
     "name": "stdout",
     "output_type": "stream",
     "text": [
      "(38884, 129) (9722, 129) (38884,) (9722,)\n"
     ]
    }
   ],
   "source": [
    "#Train Test Split\n",
    "X_train,X_val,Y_train,Y_val=train_test_split(train_cdf_inputs,train_cdf_target,test_size=0.2,random_state=0)\n",
    "print(X_train.shape,X_val.shape,Y_train.shape,Y_val.shape)"
   ]
  },
  {
   "cell_type": "markdown",
   "metadata": {},
   "source": [
    "## Setup target variable for log loss calculation"
   ]
  },
  {
   "cell_type": "code",
   "execution_count": 55,
   "metadata": {},
   "outputs": [
    {
     "data": {
      "text/html": [
       "<div>\n",
       "<table border=\"1\" class=\"dataframe\">\n",
       "  <thead>\n",
       "    <tr style=\"text-align: right;\">\n",
       "      <th></th>\n",
       "      <th>high</th>\n",
       "      <th>low</th>\n",
       "      <th>medium</th>\n",
       "    </tr>\n",
       "  </thead>\n",
       "  <tbody>\n",
       "    <tr>\n",
       "      <th>80530</th>\n",
       "      <td>0</td>\n",
       "      <td>0</td>\n",
       "      <td>1</td>\n",
       "    </tr>\n",
       "    <tr>\n",
       "      <th>16558</th>\n",
       "      <td>0</td>\n",
       "      <td>0</td>\n",
       "      <td>1</td>\n",
       "    </tr>\n",
       "    <tr>\n",
       "      <th>6245</th>\n",
       "      <td>0</td>\n",
       "      <td>1</td>\n",
       "      <td>0</td>\n",
       "    </tr>\n",
       "    <tr>\n",
       "      <th>16954</th>\n",
       "      <td>0</td>\n",
       "      <td>1</td>\n",
       "      <td>0</td>\n",
       "    </tr>\n",
       "    <tr>\n",
       "      <th>52923</th>\n",
       "      <td>0</td>\n",
       "      <td>1</td>\n",
       "      <td>0</td>\n",
       "    </tr>\n",
       "  </tbody>\n",
       "</table>\n",
       "</div>"
      ],
      "text/plain": [
       "       high  low  medium\n",
       "80530     0    0       1\n",
       "16558     0    0       1\n",
       "6245      0    1       0\n",
       "16954     0    1       0\n",
       "52923     0    1       0"
      ]
     },
     "execution_count": 55,
     "metadata": {},
     "output_type": "execute_result"
    }
   ],
   "source": [
    "#Setup Y_test for Log Loss scoring\n",
    "Y_val_onehot = pd.get_dummies(Y_val)\n",
    "Y_val_onehot.head()"
   ]
  },
  {
   "cell_type": "markdown",
   "metadata": {},
   "source": [
    "## Spot check possible models with K Fold CV"
   ]
  },
  {
   "cell_type": "code",
   "execution_count": 56,
   "metadata": {
    "collapsed": true
   },
   "outputs": [],
   "source": [
    "num_folds=10\n",
    "num_instances=len(X_train)\n",
    "seed=7\n",
    "scoring='accuracy'"
   ]
  },
  {
   "cell_type": "code",
   "execution_count": 57,
   "metadata": {
    "collapsed": true
   },
   "outputs": [],
   "source": [
    "#Spot Check Algorithms\n",
    "models=[]\n",
    "models.append(('LR',LogisticRegressionCV(multi_class='multinomial')))\n",
    "models.append(('RF',RandomForestClassifier(criterion='entropy',n_estimators=500,verbose=False,max_depth=18)))"
   ]
  },
  {
   "cell_type": "code",
   "execution_count": 59,
   "metadata": {},
   "outputs": [
    {
     "name": "stdout",
     "output_type": "stream",
     "text": [
      "LR: 0.694193 (0.006284)\n",
      "RF: 0.717519 (0.006182)\n"
     ]
    }
   ],
   "source": [
    "results=[]\n",
    "names=[]\n",
    "for name, model in models:\n",
    "    kfold=KFold(n=num_instances,n_folds=num_folds,random_state=seed)\n",
    "    cv_results=cross_val_score(model,X_train,Y_train, cv=kfold, scoring=scoring)\n",
    "    results.append(cv_results)\n",
    "    names.append(name)\n",
    "    msg=\"%s: %f (%f)\" %(name, cv_results.mean(),cv_results.std())\n",
    "    print(msg)"
   ]
  },
  {
   "cell_type": "markdown",
   "metadata": {},
   "source": [
    "## Logistic Regression"
   ]
  },
  {
   "cell_type": "code",
   "execution_count": 60,
   "metadata": {},
   "outputs": [
    {
     "name": "stderr",
     "output_type": "stream",
     "text": [
      "[Parallel(n_jobs=1)]: Done   1 out of   1 | elapsed:  2.6min remaining:    0.0s\n",
      "[Parallel(n_jobs=1)]: Done   3 out of   3 | elapsed:  6.0min finished\n"
     ]
    }
   ],
   "source": [
    "#Logistic Regression\n",
    "lr=LogisticRegressionCV(cv=3, multi_class='multinomial', verbose=2, scoring='accuracy', max_iter=5000)\n",
    "lr.fit(X_train,Y_train)\n",
    "y_pred=lr.predict_proba(X_val)"
   ]
  },
  {
   "cell_type": "code",
   "execution_count": 61,
   "metadata": {},
   "outputs": [
    {
     "data": {
      "text/plain": [
       "(9722, 3)"
      ]
     },
     "execution_count": 61,
     "metadata": {},
     "output_type": "execute_result"
    }
   ],
   "source": [
    "y_pred.shape"
   ]
  },
  {
   "cell_type": "code",
   "execution_count": 63,
   "metadata": {},
   "outputs": [
    {
     "name": "stdout",
     "output_type": "stream",
     "text": [
      "LR: Log Loss: 0.666306909276\n"
     ]
    }
   ],
   "source": [
    "#print(\"LR: Accuracy Score:\",accuracy_score(y_pred,Y_test))\n",
    "print(\"LR: Log Loss:\", log_loss(Y_val_onehot,y_pred))"
   ]
  },
  {
   "cell_type": "markdown",
   "metadata": {},
   "source": [
    "## Decision Tree"
   ]
  },
  {
   "cell_type": "code",
   "execution_count": null,
   "metadata": {
    "collapsed": true
   },
   "outputs": [],
   "source": [
    "## Decision Tree\n",
    "tree=DecisionTreeClassifier(criterion='entropy',max_depth=5,random_state=0)\n",
    "tree.fit(X_train,Y_train)\n",
    "y_pred=tree.predict_proba(X_val)"
   ]
  },
  {
   "cell_type": "code",
   "execution_count": 66,
   "metadata": {},
   "outputs": [
    {
     "name": "stdout",
     "output_type": "stream",
     "text": [
      "Tree: Log Loss: 0.686603940041\n"
     ]
    }
   ],
   "source": [
    "print(\"Tree: Log Loss:\", log_loss(Y_val_onehot,y_pred))"
   ]
  },
  {
   "cell_type": "markdown",
   "metadata": {},
   "source": [
    "## Random Forest"
   ]
  },
  {
   "cell_type": "code",
   "execution_count": 67,
   "metadata": {
    "collapsed": true
   },
   "outputs": [],
   "source": [
    "#Random Forest\n",
    "forest=RandomForestClassifier(criterion='entropy',n_estimators=500,verbose=False,max_depth=18)\n",
    "forest.fit(X_train,Y_train)\n",
    "y_pred=forest.predict_proba(X_val)"
   ]
  },
  {
   "cell_type": "code",
   "execution_count": 68,
   "metadata": {},
   "outputs": [
    {
     "name": "stdout",
     "output_type": "stream",
     "text": [
      "Forest: Log Loss: 0.605047481667\n"
     ]
    }
   ],
   "source": [
    "print(\"Forest: Log Loss:\", log_loss(Y_val_onehot,y_pred))"
   ]
  },
  {
   "cell_type": "markdown",
   "metadata": {},
   "source": [
    "## Feature Importances"
   ]
  },
  {
   "cell_type": "code",
   "execution_count": 119,
   "metadata": {},
   "outputs": [
    {
     "name": "stderr",
     "output_type": "stream",
     "text": [
      "IOPub data rate exceeded.\n",
      "The notebook server will temporarily stop sending output\n",
      "to the client in order to avoid crashing it.\n",
      "To change this limit, set the config variable\n",
      "`--NotebookApp.iopub_data_rate_limit`.\n"
     ]
    }
   ],
   "source": [
    "print(list(train_cdf_inputs))"
   ]
  },
  {
   "cell_type": "code",
   "execution_count": 74,
   "metadata": {},
   "outputs": [
    {
     "name": "stdout",
     "output_type": "stream",
     "text": [
      "Feature ranking:\n",
      "1. feature 4 (0.124738)\n",
      "2. feature 19 (0.105374)\n",
      "3. feature 18 (0.098034)\n",
      "4. feature 8 (0.071092)\n",
      "5. feature 2 (0.061326)\n",
      "6. feature 6 (0.060536)\n",
      "7. feature 20 (0.059893)\n",
      "8. feature 3 (0.059683)\n",
      "9. feature 7 (0.048208)\n",
      "10. feature 5 (0.039023)\n",
      "11. feature 1 (0.035908)\n",
      "12. feature 17 (0.035348)\n",
      "13. feature 0 (0.013195)\n",
      "14. feature 10 (0.012108)\n",
      "15. feature 9 (0.012055)\n",
      "16. feature 21 (0.011358)\n",
      "17. feature 22 (0.009743)\n",
      "18. feature 23 (0.009449)\n",
      "19. feature 12 (0.009354)\n",
      "20. feature 11 (0.008991)\n",
      "21. feature 14 (0.008894)\n",
      "22. feature 13 (0.008823)\n",
      "23. feature 15 (0.007797)\n",
      "24. feature 16 (0.006820)\n",
      "25. feature 73 (0.002922)\n",
      "26. feature 107 (0.002283)\n",
      "27. feature 97 (0.002225)\n",
      "28. feature 113 (0.002122)\n",
      "29. feature 118 (0.001946)\n",
      "30. feature 92 (0.001835)\n",
      "31. feature 117 (0.001750)\n",
      "32. feature 87 (0.001729)\n",
      "33. feature 33 (0.001679)\n",
      "34. feature 57 (0.001676)\n",
      "35. feature 82 (0.001670)\n",
      "36. feature 106 (0.001629)\n",
      "37. feature 79 (0.001552)\n",
      "38. feature 30 (0.001535)\n",
      "39. feature 59 (0.001522)\n",
      "40. feature 63 (0.001502)\n",
      "41. feature 126 (0.001488)\n",
      "42. feature 116 (0.001474)\n",
      "43. feature 80 (0.001463)\n",
      "44. feature 120 (0.001434)\n",
      "45. feature 51 (0.001433)\n",
      "46. feature 41 (0.001430)\n",
      "47. feature 44 (0.001428)\n",
      "48. feature 61 (0.001359)\n",
      "49. feature 101 (0.001354)\n",
      "50. feature 37 (0.001317)\n",
      "51. feature 89 (0.001297)\n",
      "52. feature 110 (0.001291)\n",
      "53. feature 114 (0.001268)\n",
      "54. feature 108 (0.001199)\n",
      "55. feature 124 (0.001197)\n",
      "56. feature 46 (0.001184)\n",
      "57. feature 60 (0.001168)\n",
      "58. feature 67 (0.001162)\n",
      "59. feature 47 (0.001142)\n",
      "60. feature 121 (0.001142)\n",
      "61. feature 78 (0.001139)\n",
      "62. feature 50 (0.001134)\n",
      "63. feature 84 (0.001116)\n",
      "64. feature 70 (0.001097)\n",
      "65. feature 55 (0.001065)\n",
      "66. feature 77 (0.001027)\n",
      "67. feature 45 (0.000981)\n",
      "68. feature 111 (0.000972)\n",
      "69. feature 39 (0.000914)\n",
      "70. feature 104 (0.000904)\n",
      "71. feature 52 (0.000902)\n",
      "72. feature 71 (0.000893)\n",
      "73. feature 128 (0.000878)\n",
      "74. feature 96 (0.000849)\n",
      "75. feature 68 (0.000822)\n",
      "76. feature 95 (0.000811)\n",
      "77. feature 54 (0.000782)\n",
      "78. feature 65 (0.000758)\n",
      "79. feature 105 (0.000745)\n",
      "80. feature 66 (0.000739)\n",
      "81. feature 102 (0.000737)\n",
      "82. feature 74 (0.000727)\n",
      "83. feature 81 (0.000724)\n",
      "84. feature 115 (0.000717)\n",
      "85. feature 58 (0.000695)\n",
      "86. feature 35 (0.000617)\n",
      "87. feature 72 (0.000591)\n",
      "88. feature 93 (0.000540)\n",
      "89. feature 40 (0.000500)\n",
      "90. feature 123 (0.000478)\n",
      "91. feature 76 (0.000409)\n",
      "92. feature 103 (0.000384)\n",
      "93. feature 125 (0.000381)\n",
      "94. feature 127 (0.000220)\n",
      "95. feature 29 (0.000127)\n",
      "96. feature 62 (0.000061)\n",
      "97. feature 122 (0.000009)\n",
      "98. feature 94 (0.000000)\n",
      "99. feature 91 (0.000000)\n",
      "100. feature 56 (0.000000)\n",
      "101. feature 109 (0.000000)\n",
      "102. feature 98 (0.000000)\n",
      "103. feature 99 (0.000000)\n",
      "104. feature 100 (0.000000)\n",
      "105. feature 88 (0.000000)\n",
      "106. feature 112 (0.000000)\n",
      "107. feature 119 (0.000000)\n",
      "108. feature 90 (0.000000)\n",
      "109. feature 27 (0.000000)\n",
      "110. feature 86 (0.000000)\n",
      "111. feature 85 (0.000000)\n",
      "112. feature 53 (0.000000)\n",
      "113. feature 49 (0.000000)\n",
      "114. feature 48 (0.000000)\n",
      "115. feature 69 (0.000000)\n",
      "116. feature 43 (0.000000)\n",
      "117. feature 42 (0.000000)\n",
      "118. feature 38 (0.000000)\n",
      "119. feature 75 (0.000000)\n",
      "120. feature 36 (0.000000)\n",
      "121. feature 34 (0.000000)\n",
      "122. feature 32 (0.000000)\n",
      "123. feature 31 (0.000000)\n",
      "124. feature 28 (0.000000)\n",
      "125. feature 26 (0.000000)\n",
      "126. feature 25 (0.000000)\n",
      "127. feature 24 (0.000000)\n",
      "128. feature 83 (0.000000)\n",
      "129. feature 64 (0.000000)\n"
     ]
    },
    {
     "data": {
      "image/png": "[encoded data removed]",
      "text/plain": [
       "<matplotlib.figure.Figure at 0x22a8a860>"
      ]
     },
     "metadata": {},
     "output_type": "display_data"
    }
   ],
   "source": [
    "importances=forest.feature_importances_\n",
    "std = np.std([tree.feature_importances_ for tree in forest.estimators_],\n",
    "             axis=0)\n",
    "indices = np.argsort(importances)[::-1]\n",
    "\n",
    "# Print the feature ranking\n",
    "print(\"Feature ranking:\")\n",
    "\n",
    "for f in range(X_train.shape[1]):\n",
    "    print(\"%d. feature %d (%f)\" % (f + 1, indices[f], importances[indices[f]]))\n",
    "\n",
    "# Plot the feature importances of the forest\n",
    "plt.figure()\n",
    "plt.title(\"Feature importances\")\n",
    "plt.bar(range(X_train.shape[1]), importances[indices],\n",
    "       color=\"r\", yerr=std[indices], align=\"center\")\n",
    "plt.xticks(range(X_train.shape[1]), indices)\n",
    "plt.xlim([-1, X_train.shape[1]])\n",
    "plt.show()"
   ]
  },
  {
   "cell_type": "markdown",
   "metadata": {},
   "source": [
    "## Grid Search"
   ]
  },
  {
   "cell_type": "code",
   "execution_count": 76,
   "metadata": {},
   "outputs": [
    {
     "name": "stdout",
     "output_type": "stream",
     "text": [
      "Fitting 3 folds for each of 12 candidates, totalling 36 fits\n"
     ]
    },
    {
     "name": "stderr",
     "output_type": "stream",
     "text": [
      "[Parallel(n_jobs=3)]: Done   2 tasks      | elapsed:   16.6s\n",
      "[Parallel(n_jobs=3)]: Done   7 tasks      | elapsed:  2.0min\n",
      "[Parallel(n_jobs=3)]: Done  12 tasks      | elapsed:  3.0min\n",
      "[Parallel(n_jobs=3)]: Done  19 tasks      | elapsed:  4.6min\n",
      "[Parallel(n_jobs=3)]: Done  26 tasks      | elapsed:  6.3min\n",
      "[Parallel(n_jobs=3)]: Done  36 out of  36 | elapsed:  8.9min finished\n"
     ]
    },
    {
     "data": {
      "text/plain": [
       "GridSearchCV(cv=None, error_score='raise',\n",
       "       estimator=RandomForestClassifier(bootstrap=True, class_weight=None, criterion='gini',\n",
       "            max_depth=None, max_features='auto', max_leaf_nodes=None,\n",
       "            min_impurity_split=1e-07, min_samples_leaf=1,\n",
       "            min_samples_split=2, min_weight_fraction_leaf=0.0,\n",
       "            n_estimators=10, n_jobs=1, oob_score=False, random_state=None,\n",
       "            verbose=0, warm_start=False),\n",
       "       fit_params={}, iid=True, n_jobs=3,\n",
       "       param_grid={'class_weight': [None, 'balanced'], 'n_estimators': [100, 1000], 'max_depth': [None, 10, 20]},\n",
       "       pre_dispatch='2*n_jobs', refit=True, scoring=None, verbose=10)"
      ]
     },
     "execution_count": 76,
     "metadata": {},
     "output_type": "execute_result"
    }
   ],
   "source": [
    "grid_search_params = dict(n_estimators=[100,1000], \n",
    "                          max_depth=[None,10,20], \n",
    "                          class_weight=[None, 'balanced'])\n",
    "rfc = RandomForestClassifier()\n",
    "gs = GridSearchCV(estimator=rfc, param_grid=grid_search_params, n_jobs=3, verbose=10)\n",
    "\n",
    "gs.fit(X_train, Y_train)"
   ]
  },
  {
   "cell_type": "code",
   "execution_count": 77,
   "metadata": {},
   "outputs": [
    {
     "name": "stdout",
     "output_type": "stream",
     "text": [
      "Best params:  {'class_weight': None, 'n_estimators': 1000, 'max_depth': None}\n",
      "Best score:  0.7245910914514968\n"
     ]
    }
   ],
   "source": [
    "print(\"Best params: \", gs.best_params_)\n",
    "print(\"Best score: \", gs.best_score_)"
   ]
  },
  {
   "cell_type": "code",
   "execution_count": 91,
   "metadata": {},
   "outputs": [
    {
     "data": {
      "text/plain": [
       "array(['low', 'low', 'low', ..., 'low', 'medium', 'low'], dtype=object)"
      ]
     },
     "execution_count": 91,
     "metadata": {},
     "output_type": "execute_result"
    }
   ],
   "source": [
    "y_pred = gs.predict(X_val)\n",
    "y_pred"
   ]
  },
  {
   "cell_type": "code",
   "execution_count": 92,
   "metadata": {},
   "outputs": [
    {
     "data": {
      "text/plain": [
       "array(['high', 'low', 'medium'], dtype=object)"
      ]
     },
     "execution_count": 92,
     "metadata": {},
     "output_type": "execute_result"
    }
   ],
   "source": [
    "classes = gs.best_estimator_.classes_\n",
    "classes"
   ]
  },
  {
   "cell_type": "markdown",
   "metadata": {},
   "source": [
    "## Classification Matrix"
   ]
  },
  {
   "cell_type": "code",
   "execution_count": 93,
   "metadata": {},
   "outputs": [
    {
     "name": "stdout",
     "output_type": "stream",
     "text": [
      "             precision    recall  f1-score   support\n",
      "\n",
      "       high       0.54      0.25      0.34       702\n",
      "        low       0.78      0.94      0.85      6783\n",
      "     medium       0.50      0.28      0.36      2237\n",
      "\n",
      "avg / total       0.70      0.74      0.70      9722\n",
      "\n"
     ]
    }
   ],
   "source": [
    "print(classification_report(Y_val, y_pred))"
   ]
  },
  {
   "cell_type": "code",
   "execution_count": 94,
   "metadata": {},
   "outputs": [
    {
     "name": "stdout",
     "output_type": "stream",
     "text": [
      "0.735548241103\n"
     ]
    }
   ],
   "source": [
    "print(accuracy_score(Y_val, y_pred))"
   ]
  },
  {
   "cell_type": "markdown",
   "metadata": {},
   "source": [
    "## Run model on test dataset and prep for submission to Kaggle"
   ]
  },
  {
   "cell_type": "code",
   "execution_count": 110,
   "metadata": {
    "collapsed": true
   },
   "outputs": [],
   "source": [
    "test_cdf_inputs = Imputer().fit_transform(test_cdf_inputs)"
   ]
  },
  {
   "cell_type": "code",
   "execution_count": 111,
   "metadata": {
    "collapsed": true
   },
   "outputs": [],
   "source": [
    "target_prob = pd.DataFrame(data=gs.predict_proba(test_cdf_inputs), columns=gs.best_estimator_.classes_)"
   ]
  },
  {
   "cell_type": "code",
   "execution_count": 112,
   "metadata": {},
   "outputs": [
    {
     "data": {
      "text/html": [
       "<div>\n",
       "<table border=\"1\" class=\"dataframe\">\n",
       "  <thead>\n",
       "    <tr style=\"text-align: right;\">\n",
       "      <th></th>\n",
       "      <th>high</th>\n",
       "      <th>low</th>\n",
       "      <th>medium</th>\n",
       "      <th>listing_id</th>\n",
       "    </tr>\n",
       "  </thead>\n",
       "  <tbody>\n",
       "    <tr>\n",
       "      <th>0</th>\n",
       "      <td>0.038000</td>\n",
       "      <td>0.438550</td>\n",
       "      <td>0.523450</td>\n",
       "      <td>7171949</td>\n",
       "    </tr>\n",
       "    <tr>\n",
       "      <th>1</th>\n",
       "      <td>0.010000</td>\n",
       "      <td>0.911000</td>\n",
       "      <td>0.079000</td>\n",
       "      <td>7185456</td>\n",
       "    </tr>\n",
       "    <tr>\n",
       "      <th>2</th>\n",
       "      <td>0.023000</td>\n",
       "      <td>0.848000</td>\n",
       "      <td>0.129000</td>\n",
       "      <td>6855487</td>\n",
       "    </tr>\n",
       "    <tr>\n",
       "      <th>3</th>\n",
       "      <td>0.017000</td>\n",
       "      <td>0.854500</td>\n",
       "      <td>0.128500</td>\n",
       "      <td>6873373</td>\n",
       "    </tr>\n",
       "    <tr>\n",
       "      <th>4</th>\n",
       "      <td>0.038000</td>\n",
       "      <td>0.833167</td>\n",
       "      <td>0.128833</td>\n",
       "      <td>6902233</td>\n",
       "    </tr>\n",
       "    <tr>\n",
       "      <th>5</th>\n",
       "      <td>0.013667</td>\n",
       "      <td>0.892167</td>\n",
       "      <td>0.094167</td>\n",
       "      <td>6873033</td>\n",
       "    </tr>\n",
       "    <tr>\n",
       "      <th>6</th>\n",
       "      <td>0.105000</td>\n",
       "      <td>0.565000</td>\n",
       "      <td>0.330000</td>\n",
       "      <td>6937777</td>\n",
       "    </tr>\n",
       "    <tr>\n",
       "      <th>7</th>\n",
       "      <td>0.070500</td>\n",
       "      <td>0.333000</td>\n",
       "      <td>0.596500</td>\n",
       "      <td>6910712</td>\n",
       "    </tr>\n",
       "    <tr>\n",
       "      <th>8</th>\n",
       "      <td>0.039000</td>\n",
       "      <td>0.316667</td>\n",
       "      <td>0.644333</td>\n",
       "      <td>6855602</td>\n",
       "    </tr>\n",
       "    <tr>\n",
       "      <th>9</th>\n",
       "      <td>0.099000</td>\n",
       "      <td>0.616000</td>\n",
       "      <td>0.285000</td>\n",
       "      <td>6854624</td>\n",
       "    </tr>\n",
       "  </tbody>\n",
       "</table>\n",
       "</div>"
      ],
      "text/plain": [
       "       high       low    medium  listing_id\n",
       "0  0.038000  0.438550  0.523450     7171949\n",
       "1  0.010000  0.911000  0.079000     7185456\n",
       "2  0.023000  0.848000  0.129000     6855487\n",
       "3  0.017000  0.854500  0.128500     6873373\n",
       "4  0.038000  0.833167  0.128833     6902233\n",
       "5  0.013667  0.892167  0.094167     6873033\n",
       "6  0.105000  0.565000  0.330000     6937777\n",
       "7  0.070500  0.333000  0.596500     6910712\n",
       "8  0.039000  0.316667  0.644333     6855602\n",
       "9  0.099000  0.616000  0.285000     6854624"
      ]
     },
     "execution_count": 112,
     "metadata": {},
     "output_type": "execute_result"
    }
   ],
   "source": [
    "target_prob['listing_id'] = test_cdf_index\n",
    "target_prob.head(10)"
   ]
  },
  {
   "cell_type": "code",
   "execution_count": 113,
   "metadata": {
    "collapsed": true
   },
   "outputs": [],
   "source": [
    "target_prob.to_csv(\"rf1.csv\", index=False)"
   ]
  },
  {
   "cell_type": "markdown",
   "metadata": {},
   "source": [
    "### Kaggle Score 0.60922"
   ]
  },
  {
   "cell_type": "code",
   "execution_count": null,
   "metadata": {
    "collapsed": true
   },
   "outputs": [],
   "source": []
  }
 ],
 "metadata": {
  "anaconda-cloud": {},
  "kernelspec": {
   "display_name": "Python 3",
   "language": "python",
   "name": "python3"
  },
  "language_info": {
   "codemirror_mode": {
    "name": "ipython",
    "version": 3
   },
   "file_extension": ".py",
   "mimetype": "text/x-python",
   "name": "python",
   "nbconvert_exporter": "python",
   "pygments_lexer": "ipython3",
   "version": "3.5.2"
  }
 },
 "nbformat": 4,
 "nbformat_minor": 1
}
