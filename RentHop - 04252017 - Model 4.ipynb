{
 "cells": [
  {
   "cell_type": "markdown",
   "metadata": {},
   "source": [
    "# RentHop - Model 4\n",
    "\n",
    "\"\"\"\n",
    "Author - Lily Elizabeth John\n",
    "Date - 04/19/2017\n",
    "Project - Kaggle - Renthop - Women Who Code - Workshop\n",
    "Project Description : To predict interest level (Low, Medium, high) for listings. The dataset was provided by Two Sigma and Renthop.\n",
    "Mentor : Saparya Krishnamoorthy\n",
    "\"\"\""
   ]
  },
  {
   "cell_type": "markdown",
   "metadata": {},
   "source": [
    "### Import Libraries"
   ]
  },
  {
   "cell_type": "code",
   "execution_count": 1,
   "metadata": {},
   "outputs": [
    {
     "name": "stderr",
     "output_type": "stream",
     "text": [
      "C:\\ProgramData\\Anaconda3\\lib\\site-packages\\sklearn\\cross_validation.py:44: DeprecationWarning: This module was deprecated in version 0.18 in favor of the model_selection module into which all the refactored classes and functions are moved. Also note that the interface of the new CV iterators are different from that of this module. This module will be removed in 0.20.\n",
      "  \"This module will be removed in 0.20.\", DeprecationWarning)\n",
      "C:\\ProgramData\\Anaconda3\\lib\\site-packages\\sklearn\\grid_search.py:43: DeprecationWarning: This module was deprecated in version 0.18 in favor of the model_selection module into which all the refactored classes and functions are moved. This module will be removed in 0.20.\n",
      "  DeprecationWarning)\n"
     ]
    }
   ],
   "source": [
    "#Import libraries\n",
    "import numpy as np\n",
    "import pandas as pd\n",
    "import seaborn as sns\n",
    "import matplotlib.pyplot as plt\n",
    "%matplotlib inline\n",
    "sns.set_style(\"whitegrid\")\n",
    "\n",
    "#Import metrics libraries\n",
    "from sklearn.metrics import accuracy_score\n",
    "from sklearn.cross_validation import cross_val_score\n",
    "from sklearn.metrics import roc_auc_score\n",
    "from sklearn.metrics import confusion_matrix\n",
    "from sklearn.metrics import log_loss\n",
    "from sklearn.metrics import classification_report\n",
    "\n",
    "#Import CV libraries\n",
    "from sklearn.cross_validation import train_test_split\n",
    "from sklearn.cross_validation import KFold\n",
    "from sklearn.preprocessing import Imputer\n",
    "\n",
    "#Import Clustering Libraries\n",
    "from sklearn.cluster import KMeans\n",
    "from sklearn.decomposition import PCA\n",
    "from sklearn.preprocessing import scale\n",
    "\n",
    "#Import model libraries\n",
    "from sklearn.linear_model import LogisticRegressionCV\n",
    "from sklearn.svm import SVC\n",
    "from sklearn.tree import DecisionTreeClassifier\n",
    "from sklearn.tree import export_graphviz\n",
    "from sklearn.ensemble import RandomForestClassifier\n",
    "from sklearn.neighbors import KNeighborsClassifier\n",
    "from sklearn.grid_search import GridSearchCV"
   ]
  },
  {
   "cell_type": "markdown",
   "metadata": {},
   "source": [
    "## Read Data"
   ]
  },
  {
   "cell_type": "code",
   "execution_count": 2,
   "metadata": {
    "collapsed": true
   },
   "outputs": [],
   "source": [
    "#Read Data\n",
    "train_df=pd.read_json(\"C:/Users/ljohn/Documents/2017/Personal/WWC - Kaggle/Exploring Train.JSON/train.json\")\n",
    "test_df=pd.read_json(\"C:/Users/ljohn/Documents/2017/Personal/WWC - Kaggle/Exploring Train.JSON/test.json\")"
   ]
  },
  {
   "cell_type": "code",
   "execution_count": 3,
   "metadata": {},
   "outputs": [
    {
     "data": {
      "text/plain": [
       "(49352, 15)"
      ]
     },
     "execution_count": 3,
     "metadata": {},
     "output_type": "execute_result"
    }
   ],
   "source": [
    "train_df.shape"
   ]
  },
  {
   "cell_type": "code",
   "execution_count": 4,
   "metadata": {},
   "outputs": [
    {
     "data": {
      "text/plain": [
       "low       34284\n",
       "medium    11229\n",
       "high       3839\n",
       "Name: interest_level, dtype: int64"
      ]
     },
     "execution_count": 4,
     "metadata": {},
     "output_type": "execute_result"
    }
   ],
   "source": [
    "train_df['interest_level'].value_counts()"
   ]
  },
  {
   "cell_type": "code",
   "execution_count": 5,
   "metadata": {},
   "outputs": [
    {
     "data": {
      "text/plain": [
       "(74659, 14)"
      ]
     },
     "execution_count": 5,
     "metadata": {},
     "output_type": "execute_result"
    }
   ],
   "source": [
    "test_df.shape"
   ]
  },
  {
   "cell_type": "markdown",
   "metadata": {},
   "source": [
    "## Exclude Price Outliers"
   ]
  },
  {
   "cell_type": "code",
   "execution_count": 6,
   "metadata": {
    "collapsed": true
   },
   "outputs": [],
   "source": [
    "#Exclude price outliers from training data\n",
    "ulimit = np.percentile(train_df.price.values, 99)\n",
    "train_df=train_df[train_df['price']<ulimit]"
   ]
  },
  {
   "cell_type": "code",
   "execution_count": 7,
   "metadata": {
    "collapsed": true
   },
   "outputs": [],
   "source": [
    "#Exclude Latitude longitude outliers from training data\n",
    "outlier_mask = ( (train_df.latitude < 40.6) | (train_df.latitude > 40.9) | \n",
    "                 (train_df.longitude < -74.1) | (train_df.longitude > -73.8) )\n",
    "train_df = train_df.drop(train_df.index[outlier_mask], axis=0)"
   ]
  },
  {
   "cell_type": "markdown",
   "metadata": {},
   "source": [
    "## Combine Train and Test datasets to perform feature engineering"
   ]
  },
  {
   "cell_type": "code",
   "execution_count": 8,
   "metadata": {},
   "outputs": [
    {
     "data": {
      "text/plain": [
       "(123265, 16)"
      ]
     },
     "execution_count": 8,
     "metadata": {},
     "output_type": "execute_result"
    }
   ],
   "source": [
    "#Combine test and train dataset for feature engineering\n",
    "train_df['test']=False\n",
    "test_df['test']=True\n",
    "\n",
    "cdf=train_df.append(test_df).reset_index(drop=True)\n",
    "cdf.shape"
   ]
  },
  {
   "cell_type": "code",
   "execution_count": 9,
   "metadata": {},
   "outputs": [
    {
     "name": "stdout",
     "output_type": "stream",
     "text": [
      "<class 'pandas.core.frame.DataFrame'>\n",
      "RangeIndex: 123265 entries, 0 to 123264\n",
      "Data columns (total 16 columns):\n",
      "bathrooms          123265 non-null float64\n",
      "bedrooms           123265 non-null int64\n",
      "building_id        123265 non-null object\n",
      "created            123265 non-null object\n",
      "description        123265 non-null object\n",
      "display_address    123265 non-null object\n",
      "features           123265 non-null object\n",
      "interest_level     48606 non-null object\n",
      "latitude           123265 non-null float64\n",
      "listing_id         123265 non-null int64\n",
      "longitude          123265 non-null float64\n",
      "manager_id         123265 non-null object\n",
      "photos             123265 non-null object\n",
      "price              123265 non-null int64\n",
      "street_address     123265 non-null object\n",
      "test               123265 non-null bool\n",
      "dtypes: bool(1), float64(3), int64(3), object(9)\n",
      "memory usage: 14.2+ MB\n"
     ]
    }
   ],
   "source": [
    "cdf.info()"
   ]
  },
  {
   "cell_type": "markdown",
   "metadata": {},
   "source": [
    "## Extract lat and long for Unsupervised Learning using clusters"
   ]
  },
  {
   "cell_type": "code",
   "execution_count": 10,
   "metadata": {
    "collapsed": true
   },
   "outputs": [],
   "source": [
    "x=cdf[['latitude','longitude']]"
   ]
  },
  {
   "cell_type": "code",
   "execution_count": 11,
   "metadata": {},
   "outputs": [
    {
     "name": "stdout",
     "output_type": "stream",
     "text": [
      "<class 'pandas.core.frame.DataFrame'>\n",
      "RangeIndex: 123265 entries, 0 to 123264\n",
      "Data columns (total 2 columns):\n",
      "latitude     123265 non-null float64\n",
      "longitude    123265 non-null float64\n",
      "dtypes: float64(2)\n",
      "memory usage: 1.9 MB\n"
     ]
    }
   ],
   "source": [
    "x.info()"
   ]
  },
  {
   "cell_type": "code",
   "execution_count": 12,
   "metadata": {
    "collapsed": true
   },
   "outputs": [],
   "source": [
    "#Identify 100 geographical clusters\n",
    "n_clusters=100"
   ]
  },
  {
   "cell_type": "code",
   "execution_count": 13,
   "metadata": {},
   "outputs": [
    {
     "data": {
      "text/plain": [
       "array([59, 26, 85, ..., 11, 94, 59])"
      ]
     },
     "execution_count": 13,
     "metadata": {},
     "output_type": "execute_result"
    }
   ],
   "source": [
    "kmeans = KMeans(n_clusters).fit(x)\n",
    "kmeans.labels_"
   ]
  },
  {
   "cell_type": "code",
   "execution_count": 14,
   "metadata": {},
   "outputs": [
    {
     "data": {
      "text/plain": [
       "(123265,)"
      ]
     },
     "execution_count": 14,
     "metadata": {},
     "output_type": "execute_result"
    }
   ],
   "source": [
    "kmeans.labels_.shape"
   ]
  },
  {
   "cell_type": "code",
   "execution_count": 15,
   "metadata": {},
   "outputs": [
    {
     "data": {
      "text/plain": [
       "(123265, 16)"
      ]
     },
     "execution_count": 15,
     "metadata": {},
     "output_type": "execute_result"
    }
   ],
   "source": [
    "cdf.shape"
   ]
  },
  {
   "cell_type": "code",
   "execution_count": 16,
   "metadata": {
    "collapsed": true
   },
   "outputs": [],
   "source": [
    "cdf['labels']=kmeans.labels_"
   ]
  },
  {
   "cell_type": "code",
   "execution_count": 17,
   "metadata": {},
   "outputs": [
    {
     "name": "stdout",
     "output_type": "stream",
     "text": [
      "<class 'pandas.core.frame.DataFrame'>\n",
      "RangeIndex: 123265 entries, 0 to 123264\n",
      "Data columns (total 17 columns):\n",
      "bathrooms          123265 non-null float64\n",
      "bedrooms           123265 non-null int64\n",
      "building_id        123265 non-null object\n",
      "created            123265 non-null object\n",
      "description        123265 non-null object\n",
      "display_address    123265 non-null object\n",
      "features           123265 non-null object\n",
      "interest_level     48606 non-null object\n",
      "latitude           123265 non-null float64\n",
      "listing_id         123265 non-null int64\n",
      "longitude          123265 non-null float64\n",
      "manager_id         123265 non-null object\n",
      "photos             123265 non-null object\n",
      "price              123265 non-null int64\n",
      "street_address     123265 non-null object\n",
      "test               123265 non-null bool\n",
      "labels             123265 non-null int32\n",
      "dtypes: bool(1), float64(3), int32(1), int64(3), object(9)\n",
      "memory usage: 14.7+ MB\n"
     ]
    }
   ],
   "source": [
    "cdf.info()"
   ]
  },
  {
   "cell_type": "code",
   "execution_count": 18,
   "metadata": {
    "collapsed": true
   },
   "outputs": [],
   "source": [
    "#Exclude lat long outliers from test dataset just to be able to plot clusters,\n",
    "#But retain in combined dataframe since we cannot exclude test data \n",
    "outlier_mask = ( (cdf.latitude < 40.6) | (cdf.latitude > 40.9) | \n",
    "                 (cdf.longitude < -74.1) | (cdf.longitude > -73.8) )\n",
    "cluster_plot_df = cdf.drop(cdf.index[outlier_mask], axis=0)"
   ]
  },
  {
   "cell_type": "code",
   "execution_count": 19,
   "metadata": {},
   "outputs": [
    {
     "name": "stdout",
     "output_type": "stream",
     "text": [
      "<class 'pandas.core.frame.DataFrame'>\n",
      "Int64Index: 122860 entries, 0 to 123264\n",
      "Data columns (total 17 columns):\n",
      "bathrooms          122860 non-null float64\n",
      "bedrooms           122860 non-null int64\n",
      "building_id        122860 non-null object\n",
      "created            122860 non-null object\n",
      "description        122860 non-null object\n",
      "display_address    122860 non-null object\n",
      "features           122860 non-null object\n",
      "interest_level     48606 non-null object\n",
      "latitude           122860 non-null float64\n",
      "listing_id         122860 non-null int64\n",
      "longitude          122860 non-null float64\n",
      "manager_id         122860 non-null object\n",
      "photos             122860 non-null object\n",
      "price              122860 non-null int64\n",
      "street_address     122860 non-null object\n",
      "test               122860 non-null bool\n",
      "labels             122860 non-null int32\n",
      "dtypes: bool(1), float64(3), int32(1), int64(3), object(9)\n",
      "memory usage: 15.6+ MB\n"
     ]
    }
   ],
   "source": [
    "cluster_plot_df.info()"
   ]
  },
  {
   "cell_type": "markdown",
   "metadata": {},
   "source": [
    "## Plot Clusters"
   ]
  },
  {
   "cell_type": "code",
   "execution_count": 20,
   "metadata": {},
   "outputs": [
    {
     "data": {
      "text/plain": [
       "<seaborn.axisgrid.FacetGrid at 0x28a64e80>"
      ]
     },
     "execution_count": 20,
     "metadata": {},
     "output_type": "execute_result"
    },
    {
     "data": {
      "image/png": "[encoded data removed]",
      "text/plain": [
       "<matplotlib.figure.Figure at 0x28a64eb8>"
      ]
     },
     "metadata": {},
     "output_type": "display_data"
    }
   ],
   "source": [
    "sns.lmplot(x='longitude', y='latitude', data=cluster_plot_df, hue='labels', fit_reg=False, \n",
    "           scatter_kws={'alpha':0.6, 's':7}, size=10,legend=False)"
   ]
  },
  {
   "cell_type": "markdown",
   "metadata": {},
   "source": [
    "## Calculate avg price per cluster to add to features"
   ]
  },
  {
   "cell_type": "code",
   "execution_count": 21,
   "metadata": {
    "collapsed": true
   },
   "outputs": [],
   "source": [
    "#Aggregate Values by Cluster Label\n",
    "label_avg_df=pd.DataFrame(cdf['price'].groupby(cdf['labels']).mean().reset_index())"
   ]
  },
  {
   "cell_type": "code",
   "execution_count": 22,
   "metadata": {},
   "outputs": [
    {
     "data": {
      "text/html": [
       "<div>\n",
       "<table border=\"1\" class=\"dataframe\">\n",
       "  <thead>\n",
       "    <tr style=\"text-align: right;\">\n",
       "      <th></th>\n",
       "      <th>labels</th>\n",
       "      <th>price</th>\n",
       "    </tr>\n",
       "  </thead>\n",
       "  <tbody>\n",
       "    <tr>\n",
       "      <th>0</th>\n",
       "      <td>0</td>\n",
       "      <td>3663.892027</td>\n",
       "    </tr>\n",
       "    <tr>\n",
       "      <th>1</th>\n",
       "      <td>1</td>\n",
       "      <td>2947.586207</td>\n",
       "    </tr>\n",
       "    <tr>\n",
       "      <th>2</th>\n",
       "      <td>2</td>\n",
       "      <td>2150.000000</td>\n",
       "    </tr>\n",
       "    <tr>\n",
       "      <th>3</th>\n",
       "      <td>3</td>\n",
       "      <td>2325.000000</td>\n",
       "    </tr>\n",
       "    <tr>\n",
       "      <th>4</th>\n",
       "      <td>4</td>\n",
       "      <td>2425.000000</td>\n",
       "    </tr>\n",
       "  </tbody>\n",
       "</table>\n",
       "</div>"
      ],
      "text/plain": [
       "   labels        price\n",
       "0       0  3663.892027\n",
       "1       1  2947.586207\n",
       "2       2  2150.000000\n",
       "3       3  2325.000000\n",
       "4       4  2425.000000"
      ]
     },
     "execution_count": 22,
     "metadata": {},
     "output_type": "execute_result"
    }
   ],
   "source": [
    "label_avg_df.head()"
   ]
  },
  {
   "cell_type": "code",
   "execution_count": 23,
   "metadata": {
    "collapsed": true
   },
   "outputs": [],
   "source": [
    "label_avg_df.columns=['labels','avg_price']"
   ]
  },
  {
   "cell_type": "code",
   "execution_count": 24,
   "metadata": {
    "collapsed": true
   },
   "outputs": [],
   "source": [
    "cdf = pd.merge(cdf, label_avg_df, on='labels')"
   ]
  },
  {
   "cell_type": "code",
   "execution_count": 25,
   "metadata": {},
   "outputs": [
    {
     "name": "stdout",
     "output_type": "stream",
     "text": [
      "<class 'pandas.core.frame.DataFrame'>\n",
      "Int64Index: 123265 entries, 0 to 123264\n",
      "Data columns (total 18 columns):\n",
      "bathrooms          123265 non-null float64\n",
      "bedrooms           123265 non-null int64\n",
      "building_id        123265 non-null object\n",
      "created            123265 non-null object\n",
      "description        123265 non-null object\n",
      "display_address    123265 non-null object\n",
      "features           123265 non-null object\n",
      "interest_level     48606 non-null object\n",
      "latitude           123265 non-null float64\n",
      "listing_id         123265 non-null int64\n",
      "longitude          123265 non-null float64\n",
      "manager_id         123265 non-null object\n",
      "photos             123265 non-null object\n",
      "price              123265 non-null int64\n",
      "street_address     123265 non-null object\n",
      "test               123265 non-null bool\n",
      "labels             123265 non-null int32\n",
      "avg_price          123265 non-null float64\n",
      "dtypes: bool(1), float64(4), int32(1), int64(3), object(9)\n",
      "memory usage: 16.6+ MB\n"
     ]
    }
   ],
   "source": [
    "cdf.info()"
   ]
  },
  {
   "cell_type": "code",
   "execution_count": 26,
   "metadata": {},
   "outputs": [
    {
     "data": {
      "text/html": [
       "<div>\n",
       "<table border=\"1\" class=\"dataframe\">\n",
       "  <thead>\n",
       "    <tr style=\"text-align: right;\">\n",
       "      <th></th>\n",
       "      <th>0</th>\n",
       "      <th>1</th>\n",
       "    </tr>\n",
       "  </thead>\n",
       "  <tbody>\n",
       "    <tr>\n",
       "      <th>bathrooms</th>\n",
       "      <td>1.5</td>\n",
       "      <td>1</td>\n",
       "    </tr>\n",
       "    <tr>\n",
       "      <th>bedrooms</th>\n",
       "      <td>3</td>\n",
       "      <td>1</td>\n",
       "    </tr>\n",
       "    <tr>\n",
       "      <th>building_id</th>\n",
       "      <td>53a5b119ba8f7b61d4e010512e0dfc85</td>\n",
       "      <td>6f12500a98f6636f784f98d20af81b17</td>\n",
       "    </tr>\n",
       "    <tr>\n",
       "      <th>created</th>\n",
       "      <td>2016-06-24 07:54:24</td>\n",
       "      <td>2016-04-29 15:08:45</td>\n",
       "    </tr>\n",
       "    <tr>\n",
       "      <th>description</th>\n",
       "      <td>A Brand New 3 Bedroom 1.5 bath ApartmentEnjoy ...</td>\n",
       "      <td>Beautiful Large Renovated One Bedroom Apt on a...</td>\n",
       "    </tr>\n",
       "    <tr>\n",
       "      <th>display_address</th>\n",
       "      <td>Metropolitan Avenue</td>\n",
       "      <td>263 Powers St</td>\n",
       "    </tr>\n",
       "    <tr>\n",
       "      <th>features</th>\n",
       "      <td>[]</td>\n",
       "      <td>[]</td>\n",
       "    </tr>\n",
       "    <tr>\n",
       "      <th>interest_level</th>\n",
       "      <td>medium</td>\n",
       "      <td>medium</td>\n",
       "    </tr>\n",
       "    <tr>\n",
       "      <th>latitude</th>\n",
       "      <td>40.7145</td>\n",
       "      <td>40.7133</td>\n",
       "    </tr>\n",
       "    <tr>\n",
       "      <th>listing_id</th>\n",
       "      <td>7211212</td>\n",
       "      <td>6943997</td>\n",
       "    </tr>\n",
       "    <tr>\n",
       "      <th>longitude</th>\n",
       "      <td>-73.9425</td>\n",
       "      <td>-73.9395</td>\n",
       "    </tr>\n",
       "    <tr>\n",
       "      <th>manager_id</th>\n",
       "      <td>5ba989232d0489da1b5f2c45f6688adc</td>\n",
       "      <td>44f88993b340ce5a2518a7103aaa623c</td>\n",
       "    </tr>\n",
       "    <tr>\n",
       "      <th>photos</th>\n",
       "      <td>[https://photos.renthop.com/2/7211212_1ed4542e...</td>\n",
       "      <td>[https://photos.renthop.com/2/6943997_e1146794...</td>\n",
       "    </tr>\n",
       "    <tr>\n",
       "      <th>price</th>\n",
       "      <td>3000</td>\n",
       "      <td>2199</td>\n",
       "    </tr>\n",
       "    <tr>\n",
       "      <th>street_address</th>\n",
       "      <td>792 Metropolitan Avenue</td>\n",
       "      <td>263 Powers St</td>\n",
       "    </tr>\n",
       "    <tr>\n",
       "      <th>test</th>\n",
       "      <td>False</td>\n",
       "      <td>False</td>\n",
       "    </tr>\n",
       "    <tr>\n",
       "      <th>labels</th>\n",
       "      <td>59</td>\n",
       "      <td>59</td>\n",
       "    </tr>\n",
       "    <tr>\n",
       "      <th>avg_price</th>\n",
       "      <td>2801.8</td>\n",
       "      <td>2801.8</td>\n",
       "    </tr>\n",
       "  </tbody>\n",
       "</table>\n",
       "</div>"
      ],
      "text/plain": [
       "                                                                 0  \\\n",
       "bathrooms                                                      1.5   \n",
       "bedrooms                                                         3   \n",
       "building_id                       53a5b119ba8f7b61d4e010512e0dfc85   \n",
       "created                                        2016-06-24 07:54:24   \n",
       "description      A Brand New 3 Bedroom 1.5 bath ApartmentEnjoy ...   \n",
       "display_address                                Metropolitan Avenue   \n",
       "features                                                        []   \n",
       "interest_level                                              medium   \n",
       "latitude                                                   40.7145   \n",
       "listing_id                                                 7211212   \n",
       "longitude                                                 -73.9425   \n",
       "manager_id                        5ba989232d0489da1b5f2c45f6688adc   \n",
       "photos           [https://photos.renthop.com/2/7211212_1ed4542e...   \n",
       "price                                                         3000   \n",
       "street_address                             792 Metropolitan Avenue   \n",
       "test                                                         False   \n",
       "labels                                                          59   \n",
       "avg_price                                                   2801.8   \n",
       "\n",
       "                                                                 1  \n",
       "bathrooms                                                        1  \n",
       "bedrooms                                                         1  \n",
       "building_id                       6f12500a98f6636f784f98d20af81b17  \n",
       "created                                        2016-04-29 15:08:45  \n",
       "description      Beautiful Large Renovated One Bedroom Apt on a...  \n",
       "display_address                                      263 Powers St  \n",
       "features                                                        []  \n",
       "interest_level                                              medium  \n",
       "latitude                                                   40.7133  \n",
       "listing_id                                                 6943997  \n",
       "longitude                                                 -73.9395  \n",
       "manager_id                        44f88993b340ce5a2518a7103aaa623c  \n",
       "photos           [https://photos.renthop.com/2/6943997_e1146794...  \n",
       "price                                                         2199  \n",
       "street_address                                       263 Powers St  \n",
       "test                                                         False  \n",
       "labels                                                          59  \n",
       "avg_price                                                   2801.8  "
      ]
     },
     "execution_count": 26,
     "metadata": {},
     "output_type": "execute_result"
    }
   ],
   "source": [
    "cdf.head(2).T"
   ]
  },
  {
   "cell_type": "markdown",
   "metadata": {},
   "source": [
    "## Add features from Created date, and NLP fields"
   ]
  },
  {
   "cell_type": "code",
   "execution_count": 27,
   "metadata": {
    "collapsed": true
   },
   "outputs": [],
   "source": [
    "#Adding Features\n",
    "cdf['created']=pd.to_datetime(cdf['created'])\n",
    "cdf['month']=cdf['created'].dt.month\n",
    "cdf['weekday']=cdf['created'].dt.weekday\n",
    "cdf[\"num_photos\"] = cdf[\"photos\"].apply(len)\n",
    "cdf[\"num_features\"] = cdf[\"features\"].apply(len)\n",
    "cdf[\"words_in_description\"] = cdf[\"description\"].apply(len)"
   ]
  },
  {
   "cell_type": "code",
   "execution_count": 28,
   "metadata": {},
   "outputs": [
    {
     "data": {
      "text/html": [
       "<div>\n",
       "<table border=\"1\" class=\"dataframe\">\n",
       "  <thead>\n",
       "    <tr style=\"text-align: right;\">\n",
       "      <th></th>\n",
       "      <th>month_4</th>\n",
       "      <th>month_5</th>\n",
       "      <th>month_6</th>\n",
       "      <th>weekday_0</th>\n",
       "      <th>weekday_1</th>\n",
       "      <th>weekday_2</th>\n",
       "      <th>weekday_3</th>\n",
       "      <th>weekday_4</th>\n",
       "      <th>weekday_5</th>\n",
       "      <th>weekday_6</th>\n",
       "    </tr>\n",
       "  </thead>\n",
       "  <tbody>\n",
       "    <tr>\n",
       "      <th>0</th>\n",
       "      <td>0</td>\n",
       "      <td>0</td>\n",
       "      <td>1</td>\n",
       "      <td>0</td>\n",
       "      <td>0</td>\n",
       "      <td>0</td>\n",
       "      <td>0</td>\n",
       "      <td>1</td>\n",
       "      <td>0</td>\n",
       "      <td>0</td>\n",
       "    </tr>\n",
       "    <tr>\n",
       "      <th>1</th>\n",
       "      <td>1</td>\n",
       "      <td>0</td>\n",
       "      <td>0</td>\n",
       "      <td>0</td>\n",
       "      <td>0</td>\n",
       "      <td>0</td>\n",
       "      <td>0</td>\n",
       "      <td>1</td>\n",
       "      <td>0</td>\n",
       "      <td>0</td>\n",
       "    </tr>\n",
       "    <tr>\n",
       "      <th>2</th>\n",
       "      <td>1</td>\n",
       "      <td>0</td>\n",
       "      <td>0</td>\n",
       "      <td>0</td>\n",
       "      <td>0</td>\n",
       "      <td>0</td>\n",
       "      <td>0</td>\n",
       "      <td>0</td>\n",
       "      <td>1</td>\n",
       "      <td>0</td>\n",
       "    </tr>\n",
       "    <tr>\n",
       "      <th>3</th>\n",
       "      <td>1</td>\n",
       "      <td>0</td>\n",
       "      <td>0</td>\n",
       "      <td>0</td>\n",
       "      <td>0</td>\n",
       "      <td>0</td>\n",
       "      <td>0</td>\n",
       "      <td>1</td>\n",
       "      <td>0</td>\n",
       "      <td>0</td>\n",
       "    </tr>\n",
       "    <tr>\n",
       "      <th>4</th>\n",
       "      <td>1</td>\n",
       "      <td>0</td>\n",
       "      <td>0</td>\n",
       "      <td>0</td>\n",
       "      <td>1</td>\n",
       "      <td>0</td>\n",
       "      <td>0</td>\n",
       "      <td>0</td>\n",
       "      <td>0</td>\n",
       "      <td>0</td>\n",
       "    </tr>\n",
       "  </tbody>\n",
       "</table>\n",
       "</div>"
      ],
      "text/plain": [
       "   month_4  month_5  month_6  weekday_0  weekday_1  weekday_2  weekday_3  \\\n",
       "0        0        0        1          0          0          0          0   \n",
       "1        1        0        0          0          0          0          0   \n",
       "2        1        0        0          0          0          0          0   \n",
       "3        1        0        0          0          0          0          0   \n",
       "4        1        0        0          0          1          0          0   \n",
       "\n",
       "   weekday_4  weekday_5  weekday_6  \n",
       "0          1          0          0  \n",
       "1          1          0          0  \n",
       "2          0          1          0  \n",
       "3          1          0          0  \n",
       "4          0          0          0  "
      ]
     },
     "execution_count": 28,
     "metadata": {},
     "output_type": "execute_result"
    }
   ],
   "source": [
    "#Recode variables Month, Weekday\n",
    "cdf['month']=cdf['month'].astype('str')\n",
    "cdf['weekday']=cdf['weekday'].astype('str')\n",
    "df=pd.get_dummies(cdf[['month','weekday']])\n",
    "df.head()"
   ]
  },
  {
   "cell_type": "code",
   "execution_count": 29,
   "metadata": {
    "collapsed": true
   },
   "outputs": [],
   "source": [
    "cdf = cdf.merge(df,left_index=True, right_index=True)"
   ]
  },
  {
   "cell_type": "code",
   "execution_count": 30,
   "metadata": {},
   "outputs": [
    {
     "name": "stdout",
     "output_type": "stream",
     "text": [
      "<class 'pandas.core.frame.DataFrame'>\n",
      "Int64Index: 123265 entries, 0 to 123264\n",
      "Data columns (total 33 columns):\n",
      "bathrooms               123265 non-null float64\n",
      "bedrooms                123265 non-null int64\n",
      "building_id             123265 non-null object\n",
      "created                 123265 non-null datetime64[ns]\n",
      "description             123265 non-null object\n",
      "display_address         123265 non-null object\n",
      "features                123265 non-null object\n",
      "interest_level          48606 non-null object\n",
      "latitude                123265 non-null float64\n",
      "listing_id              123265 non-null int64\n",
      "longitude               123265 non-null float64\n",
      "manager_id              123265 non-null object\n",
      "photos                  123265 non-null object\n",
      "price                   123265 non-null int64\n",
      "street_address          123265 non-null object\n",
      "test                    123265 non-null bool\n",
      "labels                  123265 non-null int32\n",
      "avg_price               123265 non-null float64\n",
      "month                   123265 non-null object\n",
      "weekday                 123265 non-null object\n",
      "num_photos              123265 non-null int64\n",
      "num_features            123265 non-null int64\n",
      "words_in_description    123265 non-null int64\n",
      "month_4                 123265 non-null uint8\n",
      "month_5                 123265 non-null uint8\n",
      "month_6                 123265 non-null uint8\n",
      "weekday_0               123265 non-null uint8\n",
      "weekday_1               123265 non-null uint8\n",
      "weekday_2               123265 non-null uint8\n",
      "weekday_3               123265 non-null uint8\n",
      "weekday_4               123265 non-null uint8\n",
      "weekday_5               123265 non-null uint8\n",
      "weekday_6               123265 non-null uint8\n",
      "dtypes: bool(1), datetime64[ns](1), float64(4), int32(1), int64(6), object(10), uint8(10)\n",
      "memory usage: 22.5+ MB\n"
     ]
    }
   ],
   "source": [
    "cdf.info()"
   ]
  },
  {
   "cell_type": "markdown",
   "metadata": {},
   "source": [
    "## Derive features from numerical fields like Price per room and deviation of price from average price in cluster"
   ]
  },
  {
   "cell_type": "code",
   "execution_count": 31,
   "metadata": {
    "collapsed": true
   },
   "outputs": [],
   "source": [
    "#More Features\n",
    "cdf['price_per_bed']=cdf['price']/cdf['bedrooms']\n",
    "cdf['price_per_bath']=cdf['price']/cdf['bathrooms']\n",
    "cdf['total_rooms']=cdf['bedrooms']+cdf['bathrooms']\n",
    "cdf['price_per_room']=cdf['price']/cdf['total_rooms']\n",
    "cdf['price_in_cluster']=cdf['price']-cdf['avg_price']"
   ]
  },
  {
   "cell_type": "markdown",
   "metadata": {},
   "source": [
    "## Identify multi unit buildings by listing count per building"
   ]
  },
  {
   "cell_type": "code",
   "execution_count": 32,
   "metadata": {
    "collapsed": true
   },
   "outputs": [],
   "source": [
    "#Is it a building with multiple units\n",
    "building_count_df=pd.DataFrame(cdf.groupby(cdf['building_id']).size().reset_index())"
   ]
  },
  {
   "cell_type": "code",
   "execution_count": 33,
   "metadata": {},
   "outputs": [
    {
     "data": {
      "text/html": [
       "<div>\n",
       "<table border=\"1\" class=\"dataframe\">\n",
       "  <thead>\n",
       "    <tr style=\"text-align: right;\">\n",
       "      <th></th>\n",
       "      <th>building_id</th>\n",
       "      <th>0</th>\n",
       "    </tr>\n",
       "  </thead>\n",
       "  <tbody>\n",
       "    <tr>\n",
       "      <th>0</th>\n",
       "      <td>0</td>\n",
       "      <td>20563</td>\n",
       "    </tr>\n",
       "    <tr>\n",
       "      <th>1</th>\n",
       "      <td>00005cb939f9986300d987652c933e15</td>\n",
       "      <td>1</td>\n",
       "    </tr>\n",
       "    <tr>\n",
       "      <th>2</th>\n",
       "      <td>00024d77a43f0606f926e2312513845c</td>\n",
       "      <td>7</td>\n",
       "    </tr>\n",
       "    <tr>\n",
       "      <th>3</th>\n",
       "      <td>000ae4b7db298401cdae2b0ba1ea8146</td>\n",
       "      <td>2</td>\n",
       "    </tr>\n",
       "    <tr>\n",
       "      <th>4</th>\n",
       "      <td>0012f1955391bca600ec301035b97b65</td>\n",
       "      <td>1</td>\n",
       "    </tr>\n",
       "  </tbody>\n",
       "</table>\n",
       "</div>"
      ],
      "text/plain": [
       "                        building_id      0\n",
       "0                                 0  20563\n",
       "1  00005cb939f9986300d987652c933e15      1\n",
       "2  00024d77a43f0606f926e2312513845c      7\n",
       "3  000ae4b7db298401cdae2b0ba1ea8146      2\n",
       "4  0012f1955391bca600ec301035b97b65      1"
      ]
     },
     "execution_count": 33,
     "metadata": {},
     "output_type": "execute_result"
    }
   ],
   "source": [
    "building_count_df.head()"
   ]
  },
  {
   "cell_type": "code",
   "execution_count": 34,
   "metadata": {},
   "outputs": [
    {
     "data": {
      "text/html": [
       "<div>\n",
       "<table border=\"1\" class=\"dataframe\">\n",
       "  <thead>\n",
       "    <tr style=\"text-align: right;\">\n",
       "      <th></th>\n",
       "      <th>building_id</th>\n",
       "      <th>unit_count</th>\n",
       "    </tr>\n",
       "  </thead>\n",
       "  <tbody>\n",
       "    <tr>\n",
       "      <th>0</th>\n",
       "      <td>0</td>\n",
       "      <td>20563</td>\n",
       "    </tr>\n",
       "    <tr>\n",
       "      <th>1</th>\n",
       "      <td>00005cb939f9986300d987652c933e15</td>\n",
       "      <td>1</td>\n",
       "    </tr>\n",
       "    <tr>\n",
       "      <th>2</th>\n",
       "      <td>00024d77a43f0606f926e2312513845c</td>\n",
       "      <td>7</td>\n",
       "    </tr>\n",
       "    <tr>\n",
       "      <th>3</th>\n",
       "      <td>000ae4b7db298401cdae2b0ba1ea8146</td>\n",
       "      <td>2</td>\n",
       "    </tr>\n",
       "    <tr>\n",
       "      <th>4</th>\n",
       "      <td>0012f1955391bca600ec301035b97b65</td>\n",
       "      <td>1</td>\n",
       "    </tr>\n",
       "  </tbody>\n",
       "</table>\n",
       "</div>"
      ],
      "text/plain": [
       "                        building_id  unit_count\n",
       "0                                 0       20563\n",
       "1  00005cb939f9986300d987652c933e15           1\n",
       "2  00024d77a43f0606f926e2312513845c           7\n",
       "3  000ae4b7db298401cdae2b0ba1ea8146           2\n",
       "4  0012f1955391bca600ec301035b97b65           1"
      ]
     },
     "execution_count": 34,
     "metadata": {},
     "output_type": "execute_result"
    }
   ],
   "source": [
    "building_count_df.columns=['building_id','unit_count']\n",
    "building_count_df.head()"
   ]
  },
  {
   "cell_type": "code",
   "execution_count": 35,
   "metadata": {
    "collapsed": true
   },
   "outputs": [],
   "source": [
    "cdf = pd.merge(cdf, building_count_df, on='building_id')"
   ]
  },
  {
   "cell_type": "code",
   "execution_count": 36,
   "metadata": {},
   "outputs": [
    {
     "name": "stdout",
     "output_type": "stream",
     "text": [
      "<class 'pandas.core.frame.DataFrame'>\n",
      "Int64Index: 123265 entries, 0 to 123264\n",
      "Data columns (total 39 columns):\n",
      "bathrooms               123265 non-null float64\n",
      "bedrooms                123265 non-null int64\n",
      "building_id             123265 non-null object\n",
      "created                 123265 non-null datetime64[ns]\n",
      "description             123265 non-null object\n",
      "display_address         123265 non-null object\n",
      "features                123265 non-null object\n",
      "interest_level          48606 non-null object\n",
      "latitude                123265 non-null float64\n",
      "listing_id              123265 non-null int64\n",
      "longitude               123265 non-null float64\n",
      "manager_id              123265 non-null object\n",
      "photos                  123265 non-null object\n",
      "price                   123265 non-null int64\n",
      "street_address          123265 non-null object\n",
      "test                    123265 non-null bool\n",
      "labels                  123265 non-null int32\n",
      "avg_price               123265 non-null float64\n",
      "month                   123265 non-null object\n",
      "weekday                 123265 non-null object\n",
      "num_photos              123265 non-null int64\n",
      "num_features            123265 non-null int64\n",
      "words_in_description    123265 non-null int64\n",
      "month_4                 123265 non-null uint8\n",
      "month_5                 123265 non-null uint8\n",
      "month_6                 123265 non-null uint8\n",
      "weekday_0               123265 non-null uint8\n",
      "weekday_1               123265 non-null uint8\n",
      "weekday_2               123265 non-null uint8\n",
      "weekday_3               123265 non-null uint8\n",
      "weekday_4               123265 non-null uint8\n",
      "weekday_5               123265 non-null uint8\n",
      "weekday_6               123265 non-null uint8\n",
      "price_per_bed           123265 non-null float64\n",
      "price_per_bath          123265 non-null float64\n",
      "total_rooms             123265 non-null float64\n",
      "price_per_room          123265 non-null float64\n",
      "price_in_cluster        123265 non-null float64\n",
      "unit_count              123265 non-null int64\n",
      "dtypes: bool(1), datetime64[ns](1), float64(9), int32(1), int64(7), object(10), uint8(10)\n",
      "memory usage: 28.1+ MB\n"
     ]
    }
   ],
   "source": [
    "cdf.info()"
   ]
  },
  {
   "cell_type": "markdown",
   "metadata": {},
   "source": [
    "## Identify properties represented by high profile managers"
   ]
  },
  {
   "cell_type": "code",
   "execution_count": 37,
   "metadata": {
    "collapsed": true
   },
   "outputs": [],
   "source": [
    "#Does the manager have multiple listings\n",
    "manager_count_df=pd.DataFrame(cdf.groupby(cdf['manager_id']).size().reset_index())"
   ]
  },
  {
   "cell_type": "code",
   "execution_count": 38,
   "metadata": {},
   "outputs": [
    {
     "data": {
      "text/html": [
       "<div>\n",
       "<table border=\"1\" class=\"dataframe\">\n",
       "  <thead>\n",
       "    <tr style=\"text-align: right;\">\n",
       "      <th></th>\n",
       "      <th>manager_id</th>\n",
       "      <th>manager_popularity</th>\n",
       "    </tr>\n",
       "  </thead>\n",
       "  <tbody>\n",
       "    <tr>\n",
       "      <th>0</th>\n",
       "      <td>0000abd7518b94c35a90d64b56fbf3e6</td>\n",
       "      <td>35</td>\n",
       "    </tr>\n",
       "    <tr>\n",
       "      <th>1</th>\n",
       "      <td>001ce808ce1720e24a9510e014c69707</td>\n",
       "      <td>28</td>\n",
       "    </tr>\n",
       "    <tr>\n",
       "      <th>2</th>\n",
       "      <td>003fc4e9a70053082f131b1054966aaf</td>\n",
       "      <td>4</td>\n",
       "    </tr>\n",
       "    <tr>\n",
       "      <th>3</th>\n",
       "      <td>00607a02f6efd9c6c7c588826e471ee9</td>\n",
       "      <td>11</td>\n",
       "    </tr>\n",
       "    <tr>\n",
       "      <th>4</th>\n",
       "      <td>00995ff28d79127ed2dca8320e9e7d09</td>\n",
       "      <td>9</td>\n",
       "    </tr>\n",
       "  </tbody>\n",
       "</table>\n",
       "</div>"
      ],
      "text/plain": [
       "                         manager_id  manager_popularity\n",
       "0  0000abd7518b94c35a90d64b56fbf3e6                  35\n",
       "1  001ce808ce1720e24a9510e014c69707                  28\n",
       "2  003fc4e9a70053082f131b1054966aaf                   4\n",
       "3  00607a02f6efd9c6c7c588826e471ee9                  11\n",
       "4  00995ff28d79127ed2dca8320e9e7d09                   9"
      ]
     },
     "execution_count": 38,
     "metadata": {},
     "output_type": "execute_result"
    }
   ],
   "source": [
    "manager_count_df.columns=['manager_id','manager_popularity']\n",
    "manager_count_df.head()"
   ]
  },
  {
   "cell_type": "code",
   "execution_count": 39,
   "metadata": {
    "collapsed": true
   },
   "outputs": [],
   "source": [
    "cdf = pd.merge(cdf, manager_count_df, on='manager_id')"
   ]
  },
  {
   "cell_type": "code",
   "execution_count": 40,
   "metadata": {
    "scrolled": true
   },
   "outputs": [
    {
     "name": "stdout",
     "output_type": "stream",
     "text": [
      "<class 'pandas.core.frame.DataFrame'>\n",
      "Int64Index: 123265 entries, 0 to 123264\n",
      "Data columns (total 40 columns):\n",
      "bathrooms               123265 non-null float64\n",
      "bedrooms                123265 non-null int64\n",
      "building_id             123265 non-null object\n",
      "created                 123265 non-null datetime64[ns]\n",
      "description             123265 non-null object\n",
      "display_address         123265 non-null object\n",
      "features                123265 non-null object\n",
      "interest_level          48606 non-null object\n",
      "latitude                123265 non-null float64\n",
      "listing_id              123265 non-null int64\n",
      "longitude               123265 non-null float64\n",
      "manager_id              123265 non-null object\n",
      "photos                  123265 non-null object\n",
      "price                   123265 non-null int64\n",
      "street_address          123265 non-null object\n",
      "test                    123265 non-null bool\n",
      "labels                  123265 non-null int32\n",
      "avg_price               123265 non-null float64\n",
      "month                   123265 non-null object\n",
      "weekday                 123265 non-null object\n",
      "num_photos              123265 non-null int64\n",
      "num_features            123265 non-null int64\n",
      "words_in_description    123265 non-null int64\n",
      "month_4                 123265 non-null uint8\n",
      "month_5                 123265 non-null uint8\n",
      "month_6                 123265 non-null uint8\n",
      "weekday_0               123265 non-null uint8\n",
      "weekday_1               123265 non-null uint8\n",
      "weekday_2               123265 non-null uint8\n",
      "weekday_3               123265 non-null uint8\n",
      "weekday_4               123265 non-null uint8\n",
      "weekday_5               123265 non-null uint8\n",
      "weekday_6               123265 non-null uint8\n",
      "price_per_bed           123265 non-null float64\n",
      "price_per_bath          123265 non-null float64\n",
      "total_rooms             123265 non-null float64\n",
      "price_per_room          123265 non-null float64\n",
      "price_in_cluster        123265 non-null float64\n",
      "unit_count              123265 non-null int64\n",
      "manager_popularity      123265 non-null int64\n",
      "dtypes: bool(1), datetime64[ns](1), float64(9), int32(1), int64(8), object(10), uint8(10)\n",
      "memory usage: 29.0+ MB\n"
     ]
    }
   ],
   "source": [
    "cdf.info()"
   ]
  },
  {
   "cell_type": "markdown",
   "metadata": {},
   "source": [
    "## Extract features from Features field"
   ]
  },
  {
   "cell_type": "markdown",
   "metadata": {
    "collapsed": true
   },
   "source": [
    "def feat(name, df, series):\n",
    "    feature = pd.Series(0, df.index, name=name)\n",
    "    for row, word in enumerate(series):\n",
    "        if name in word:\n",
    "            feature.iloc[row] = 1\n",
    "    df[name] = feature\n",
    "    return(df)"
   ]
  },
  {
   "cell_type": "markdown",
   "metadata": {
    "collapsed": true
   },
   "source": [
    "cdf = feat('Elevator', cdf, cdf.features)\n",
    "cdf = feat('Dogs Allowed', cdf, cdf.features)\n",
    "cdf = feat('Cats Allowed', cdf, cdf.features)\n",
    "cdf = feat('laundry', cdf, cdf.features)\n",
    "cdf = feat('stainless', cdf, cdf.features)\n",
    "cdf = feat('hardwood', cdf, cdf.features)\n",
    "cdf = feat('new', cdf, cdf.features)\n",
    "cdf = feat('appliances', cdf, cdf.features)\n",
    "cdf = feat('renovated', cdf, cdf.features)"
   ]
  },
  {
   "cell_type": "markdown",
   "metadata": {},
   "source": [
    "cdf.info()"
   ]
  },
  {
   "cell_type": "markdown",
   "metadata": {},
   "source": [
    "cdf.head().T"
   ]
  },
  {
   "cell_type": "markdown",
   "metadata": {},
   "source": [
    "## Recode clusters into categorical variables"
   ]
  },
  {
   "cell_type": "markdown",
   "metadata": {},
   "source": [
    "#Recode variables labels\n",
    "cdf['labels']=cdf['labels'].astype('str')\n",
    "ldf=pd.get_dummies(cdf[['labels']])\n",
    "ldf.head()"
   ]
  },
  {
   "cell_type": "markdown",
   "metadata": {},
   "source": [
    "cdf = cdf.merge(ldf,left_index=True, right_index=True)\n",
    "cdf.head()"
   ]
  },
  {
   "cell_type": "markdown",
   "metadata": {},
   "source": [
    "## Drop unwanted features"
   ]
  },
  {
   "cell_type": "code",
   "execution_count": 41,
   "metadata": {
    "collapsed": true
   },
   "outputs": [],
   "source": [
    "cdf=cdf.drop(['building_id','created','description','display_address','features','manager_id','photos','street_address','labels','month','weekday','month_4','weekday_0'],axis=1)"
   ]
  },
  {
   "cell_type": "code",
   "execution_count": 42,
   "metadata": {},
   "outputs": [
    {
     "data": {
      "text/html": [
       "<div>\n",
       "<table border=\"1\" class=\"dataframe\">\n",
       "  <thead>\n",
       "    <tr style=\"text-align: right;\">\n",
       "      <th></th>\n",
       "      <th>0</th>\n",
       "      <th>1</th>\n",
       "      <th>2</th>\n",
       "      <th>3</th>\n",
       "      <th>4</th>\n",
       "    </tr>\n",
       "  </thead>\n",
       "  <tbody>\n",
       "    <tr>\n",
       "      <th>bathrooms</th>\n",
       "      <td>1.5</td>\n",
       "      <td>1</td>\n",
       "      <td>1</td>\n",
       "      <td>1.5</td>\n",
       "      <td>1</td>\n",
       "    </tr>\n",
       "    <tr>\n",
       "      <th>bedrooms</th>\n",
       "      <td>3</td>\n",
       "      <td>1</td>\n",
       "      <td>1</td>\n",
       "      <td>3</td>\n",
       "      <td>1</td>\n",
       "    </tr>\n",
       "    <tr>\n",
       "      <th>interest_level</th>\n",
       "      <td>medium</td>\n",
       "      <td>low</td>\n",
       "      <td>low</td>\n",
       "      <td>NaN</td>\n",
       "      <td>NaN</td>\n",
       "    </tr>\n",
       "    <tr>\n",
       "      <th>latitude</th>\n",
       "      <td>40.7145</td>\n",
       "      <td>40.7145</td>\n",
       "      <td>40.7145</td>\n",
       "      <td>40.7145</td>\n",
       "      <td>40.7145</td>\n",
       "    </tr>\n",
       "    <tr>\n",
       "      <th>listing_id</th>\n",
       "      <td>7211212</td>\n",
       "      <td>7159209</td>\n",
       "      <td>7209396</td>\n",
       "      <td>7171949</td>\n",
       "      <td>7185456</td>\n",
       "    </tr>\n",
       "    <tr>\n",
       "      <th>longitude</th>\n",
       "      <td>-73.9425</td>\n",
       "      <td>-73.9425</td>\n",
       "      <td>-73.9425</td>\n",
       "      <td>-73.9425</td>\n",
       "      <td>-73.9425</td>\n",
       "    </tr>\n",
       "    <tr>\n",
       "      <th>price</th>\n",
       "      <td>3000</td>\n",
       "      <td>2500</td>\n",
       "      <td>2500</td>\n",
       "      <td>3000</td>\n",
       "      <td>2500</td>\n",
       "    </tr>\n",
       "    <tr>\n",
       "      <th>test</th>\n",
       "      <td>False</td>\n",
       "      <td>False</td>\n",
       "      <td>False</td>\n",
       "      <td>True</td>\n",
       "      <td>True</td>\n",
       "    </tr>\n",
       "    <tr>\n",
       "      <th>avg_price</th>\n",
       "      <td>2801.8</td>\n",
       "      <td>2801.8</td>\n",
       "      <td>2801.8</td>\n",
       "      <td>2801.8</td>\n",
       "      <td>2801.8</td>\n",
       "    </tr>\n",
       "    <tr>\n",
       "      <th>num_photos</th>\n",
       "      <td>5</td>\n",
       "      <td>5</td>\n",
       "      <td>5</td>\n",
       "      <td>5</td>\n",
       "      <td>5</td>\n",
       "    </tr>\n",
       "    <tr>\n",
       "      <th>num_features</th>\n",
       "      <td>0</td>\n",
       "      <td>0</td>\n",
       "      <td>0</td>\n",
       "      <td>0</td>\n",
       "      <td>0</td>\n",
       "    </tr>\n",
       "    <tr>\n",
       "      <th>words_in_description</th>\n",
       "      <td>588</td>\n",
       "      <td>548</td>\n",
       "      <td>548</td>\n",
       "      <td>588</td>\n",
       "      <td>548</td>\n",
       "    </tr>\n",
       "    <tr>\n",
       "      <th>month_5</th>\n",
       "      <td>0</td>\n",
       "      <td>0</td>\n",
       "      <td>0</td>\n",
       "      <td>0</td>\n",
       "      <td>0</td>\n",
       "    </tr>\n",
       "    <tr>\n",
       "      <th>month_6</th>\n",
       "      <td>1</td>\n",
       "      <td>1</td>\n",
       "      <td>1</td>\n",
       "      <td>1</td>\n",
       "      <td>1</td>\n",
       "    </tr>\n",
       "    <tr>\n",
       "      <th>weekday_1</th>\n",
       "      <td>0</td>\n",
       "      <td>1</td>\n",
       "      <td>0</td>\n",
       "      <td>0</td>\n",
       "      <td>0</td>\n",
       "    </tr>\n",
       "    <tr>\n",
       "      <th>weekday_2</th>\n",
       "      <td>0</td>\n",
       "      <td>0</td>\n",
       "      <td>0</td>\n",
       "      <td>0</td>\n",
       "      <td>0</td>\n",
       "    </tr>\n",
       "    <tr>\n",
       "      <th>weekday_3</th>\n",
       "      <td>0</td>\n",
       "      <td>0</td>\n",
       "      <td>0</td>\n",
       "      <td>1</td>\n",
       "      <td>0</td>\n",
       "    </tr>\n",
       "    <tr>\n",
       "      <th>weekday_4</th>\n",
       "      <td>1</td>\n",
       "      <td>0</td>\n",
       "      <td>1</td>\n",
       "      <td>0</td>\n",
       "      <td>0</td>\n",
       "    </tr>\n",
       "    <tr>\n",
       "      <th>weekday_5</th>\n",
       "      <td>0</td>\n",
       "      <td>0</td>\n",
       "      <td>0</td>\n",
       "      <td>0</td>\n",
       "      <td>0</td>\n",
       "    </tr>\n",
       "    <tr>\n",
       "      <th>weekday_6</th>\n",
       "      <td>0</td>\n",
       "      <td>0</td>\n",
       "      <td>0</td>\n",
       "      <td>0</td>\n",
       "      <td>0</td>\n",
       "    </tr>\n",
       "    <tr>\n",
       "      <th>price_per_bed</th>\n",
       "      <td>1000</td>\n",
       "      <td>2500</td>\n",
       "      <td>2500</td>\n",
       "      <td>1000</td>\n",
       "      <td>2500</td>\n",
       "    </tr>\n",
       "    <tr>\n",
       "      <th>price_per_bath</th>\n",
       "      <td>2000</td>\n",
       "      <td>2500</td>\n",
       "      <td>2500</td>\n",
       "      <td>2000</td>\n",
       "      <td>2500</td>\n",
       "    </tr>\n",
       "    <tr>\n",
       "      <th>total_rooms</th>\n",
       "      <td>4.5</td>\n",
       "      <td>2</td>\n",
       "      <td>2</td>\n",
       "      <td>4.5</td>\n",
       "      <td>2</td>\n",
       "    </tr>\n",
       "    <tr>\n",
       "      <th>price_per_room</th>\n",
       "      <td>666.667</td>\n",
       "      <td>1250</td>\n",
       "      <td>1250</td>\n",
       "      <td>666.667</td>\n",
       "      <td>1250</td>\n",
       "    </tr>\n",
       "    <tr>\n",
       "      <th>price_in_cluster</th>\n",
       "      <td>198.205</td>\n",
       "      <td>-301.795</td>\n",
       "      <td>-301.795</td>\n",
       "      <td>198.205</td>\n",
       "      <td>-301.795</td>\n",
       "    </tr>\n",
       "    <tr>\n",
       "      <th>unit_count</th>\n",
       "      <td>5</td>\n",
       "      <td>5</td>\n",
       "      <td>5</td>\n",
       "      <td>5</td>\n",
       "      <td>5</td>\n",
       "    </tr>\n",
       "    <tr>\n",
       "      <th>manager_popularity</th>\n",
       "      <td>235</td>\n",
       "      <td>235</td>\n",
       "      <td>235</td>\n",
       "      <td>235</td>\n",
       "      <td>235</td>\n",
       "    </tr>\n",
       "  </tbody>\n",
       "</table>\n",
       "</div>"
      ],
      "text/plain": [
       "                            0        1        2        3        4\n",
       "bathrooms                 1.5        1        1      1.5        1\n",
       "bedrooms                    3        1        1        3        1\n",
       "interest_level         medium      low      low      NaN      NaN\n",
       "latitude              40.7145  40.7145  40.7145  40.7145  40.7145\n",
       "listing_id            7211212  7159209  7209396  7171949  7185456\n",
       "longitude            -73.9425 -73.9425 -73.9425 -73.9425 -73.9425\n",
       "price                    3000     2500     2500     3000     2500\n",
       "test                    False    False    False     True     True\n",
       "avg_price              2801.8   2801.8   2801.8   2801.8   2801.8\n",
       "num_photos                  5        5        5        5        5\n",
       "num_features                0        0        0        0        0\n",
       "words_in_description      588      548      548      588      548\n",
       "month_5                     0        0        0        0        0\n",
       "month_6                     1        1        1        1        1\n",
       "weekday_1                   0        1        0        0        0\n",
       "weekday_2                   0        0        0        0        0\n",
       "weekday_3                   0        0        0        1        0\n",
       "weekday_4                   1        0        1        0        0\n",
       "weekday_5                   0        0        0        0        0\n",
       "weekday_6                   0        0        0        0        0\n",
       "price_per_bed            1000     2500     2500     1000     2500\n",
       "price_per_bath           2000     2500     2500     2000     2500\n",
       "total_rooms               4.5        2        2      4.5        2\n",
       "price_per_room        666.667     1250     1250  666.667     1250\n",
       "price_in_cluster      198.205 -301.795 -301.795  198.205 -301.795\n",
       "unit_count                  5        5        5        5        5\n",
       "manager_popularity        235      235      235      235      235"
      ]
     },
     "execution_count": 42,
     "metadata": {},
     "output_type": "execute_result"
    }
   ],
   "source": [
    "cdf.head(5).T"
   ]
  },
  {
   "cell_type": "markdown",
   "metadata": {},
   "source": [
    "## Setup train test dataframes for model"
   ]
  },
  {
   "cell_type": "code",
   "execution_count": 43,
   "metadata": {},
   "outputs": [
    {
     "data": {
      "text/plain": [
       "(74659, 26)"
      ]
     },
     "execution_count": 43,
     "metadata": {},
     "output_type": "execute_result"
    }
   ],
   "source": [
    "train_cdf=cdf[cdf['test']==False]\n",
    "test_cdf=cdf[cdf['test']==True]\n",
    "train_cdf=train_cdf.drop('test',axis=1)\n",
    "test_cdf=test_cdf.drop('test',axis=1)\n",
    "test_cdf.shape"
   ]
  },
  {
   "cell_type": "code",
   "execution_count": 44,
   "metadata": {
    "collapsed": true
   },
   "outputs": [],
   "source": [
    "train_cdf_index=train_cdf['listing_id']\n",
    "train_cdf_target=train_cdf['interest_level']\n",
    "train_cdf_inputs=train_cdf.drop(['listing_id','interest_level'],axis=1)\n",
    "train_cdf_inputs = train_cdf_inputs.fillna(method='ffill')"
   ]
  },
  {
   "cell_type": "code",
   "execution_count": 45,
   "metadata": {
    "collapsed": true
   },
   "outputs": [],
   "source": [
    "train_cdf_inputs = Imputer().fit_transform(train_cdf_inputs)"
   ]
  },
  {
   "cell_type": "code",
   "execution_count": 46,
   "metadata": {
    "collapsed": true
   },
   "outputs": [],
   "source": [
    "test_cdf_index=test_cdf['listing_id'].values\n",
    "test_cdf_inputs=test_cdf.drop(['listing_id','interest_level'],axis=1)"
   ]
  },
  {
   "cell_type": "code",
   "execution_count": 47,
   "metadata": {},
   "outputs": [
    {
     "data": {
      "text/plain": [
       "array([7171949, 7185456, 7061356, ..., 7143646, 7152293, 7028987], dtype=int64)"
      ]
     },
     "execution_count": 47,
     "metadata": {},
     "output_type": "execute_result"
    }
   ],
   "source": [
    "test_cdf_index"
   ]
  },
  {
   "cell_type": "code",
   "execution_count": 48,
   "metadata": {},
   "outputs": [
    {
     "name": "stdout",
     "output_type": "stream",
     "text": [
      "(38884, 21) (9722, 21) (38884,) (9722,)\n"
     ]
    }
   ],
   "source": [
    "#Train Test Split\n",
    "X_train,X_val,Y_train,Y_val=train_test_split(train_cdf_inputs,train_cdf_target,test_size=0.2,random_state=0)\n",
    "print(X_train.shape,X_val.shape,Y_train.shape,Y_val.shape)"
   ]
  },
  {
   "cell_type": "markdown",
   "metadata": {},
   "source": [
    "## Setup target variable for log loss calculation"
   ]
  },
  {
   "cell_type": "code",
   "execution_count": 49,
   "metadata": {},
   "outputs": [
    {
     "data": {
      "text/html": [
       "<div>\n",
       "<table border=\"1\" class=\"dataframe\">\n",
       "  <thead>\n",
       "    <tr style=\"text-align: right;\">\n",
       "      <th></th>\n",
       "      <th>high</th>\n",
       "      <th>low</th>\n",
       "      <th>medium</th>\n",
       "    </tr>\n",
       "  </thead>\n",
       "  <tbody>\n",
       "    <tr>\n",
       "      <th>80541</th>\n",
       "      <td>0</td>\n",
       "      <td>0</td>\n",
       "      <td>1</td>\n",
       "    </tr>\n",
       "    <tr>\n",
       "      <th>16541</th>\n",
       "      <td>0</td>\n",
       "      <td>1</td>\n",
       "      <td>0</td>\n",
       "    </tr>\n",
       "    <tr>\n",
       "      <th>6228</th>\n",
       "      <td>0</td>\n",
       "      <td>0</td>\n",
       "      <td>1</td>\n",
       "    </tr>\n",
       "    <tr>\n",
       "      <th>16954</th>\n",
       "      <td>0</td>\n",
       "      <td>1</td>\n",
       "      <td>0</td>\n",
       "    </tr>\n",
       "    <tr>\n",
       "      <th>52904</th>\n",
       "      <td>0</td>\n",
       "      <td>1</td>\n",
       "      <td>0</td>\n",
       "    </tr>\n",
       "  </tbody>\n",
       "</table>\n",
       "</div>"
      ],
      "text/plain": [
       "       high  low  medium\n",
       "80541     0    0       1\n",
       "16541     0    1       0\n",
       "6228      0    0       1\n",
       "16954     0    1       0\n",
       "52904     0    1       0"
      ]
     },
     "execution_count": 49,
     "metadata": {},
     "output_type": "execute_result"
    }
   ],
   "source": [
    "#Setup Y_test for Log Loss scoring\n",
    "Y_val_onehot = pd.get_dummies(Y_val)\n",
    "Y_val_onehot.head()"
   ]
  },
  {
   "cell_type": "markdown",
   "metadata": {},
   "source": [
    "## Spot check possible models with K Fold CV"
   ]
  },
  {
   "cell_type": "markdown",
   "metadata": {
    "collapsed": true
   },
   "source": [
    "num_folds=10\n",
    "num_instances=len(X_train)\n",
    "seed=7\n",
    "scoring='accuracy'"
   ]
  },
  {
   "cell_type": "markdown",
   "metadata": {
    "collapsed": true
   },
   "source": [
    "#Spot Check Algorithms\n",
    "models=[]\n",
    "models.append(('LR',LogisticRegressionCV(multi_class='multinomial')))\n",
    "models.append(('RF',RandomForestClassifier(criterion='entropy',n_estimators=500,verbose=False,max_depth=18)))"
   ]
  },
  {
   "cell_type": "markdown",
   "metadata": {},
   "source": [
    "results=[]\n",
    "names=[]\n",
    "for name, model in models:\n",
    "    kfold=KFold(n=num_instances,n_folds=num_folds,random_state=seed)\n",
    "    cv_results=cross_val_score(model,X_train,Y_train, cv=kfold, scoring=scoring)\n",
    "    results.append(cv_results)\n",
    "    names.append(name)\n",
    "    msg=\"%s: %f (%f)\" %(name, cv_results.mean(),cv_results.std())\n",
    "    print(msg)"
   ]
  },
  {
   "cell_type": "markdown",
   "metadata": {},
   "source": [
    "## Logistic Regression"
   ]
  },
  {
   "cell_type": "markdown",
   "metadata": {},
   "source": [
    "#Logistic Regression\n",
    "lr=LogisticRegressionCV(cv=3, multi_class='multinomial', verbose=2, scoring='accuracy', max_iter=5000)\n",
    "lr.fit(X_train,Y_train)\n",
    "y_pred=lr.predict_proba(X_val)"
   ]
  },
  {
   "cell_type": "markdown",
   "metadata": {},
   "source": [
    "y_pred.shape"
   ]
  },
  {
   "cell_type": "markdown",
   "metadata": {},
   "source": [
    "#print(\"LR: Accuracy Score:\",accuracy_score(y_pred,Y_test))\n",
    "print(\"LR: Log Loss:\", log_loss(Y_val_onehot,y_pred))"
   ]
  },
  {
   "cell_type": "markdown",
   "metadata": {},
   "source": [
    "## Decision Tree"
   ]
  },
  {
   "cell_type": "markdown",
   "metadata": {
    "collapsed": true
   },
   "source": [
    "## Decision Tree\n",
    "tree=DecisionTreeClassifier(criterion='entropy',max_depth=5,random_state=0)\n",
    "tree.fit(X_train,Y_train)\n",
    "y_pred=tree.predict_proba(X_val)"
   ]
  },
  {
   "cell_type": "markdown",
   "metadata": {},
   "source": [
    "print(\"Tree: Log Loss:\", log_loss(Y_val_onehot,y_pred))"
   ]
  },
  {
   "cell_type": "code",
   "execution_count": 50,
   "metadata": {},
   "outputs": [
    {
     "data": {
      "text/plain": [
       "Index(['bathrooms', 'bedrooms', 'latitude', 'longitude', 'price', 'avg_price',\n",
       "       'num_photos', 'num_features', 'words_in_description', 'month_5',\n",
       "       'month_6', 'weekday_1', 'weekday_2', 'weekday_3', 'weekday_4',\n",
       "       'weekday_5', 'weekday_6', 'price_per_bed', 'price_per_bath',\n",
       "       'total_rooms', 'price_per_room', 'price_in_cluster', 'unit_count',\n",
       "       'manager_popularity'],\n",
       "      dtype='object')"
      ]
     },
     "execution_count": 50,
     "metadata": {},
     "output_type": "execute_result"
    }
   ],
   "source": [
    "#Feature Names\n",
    "feature_names=train_cdf.drop(['listing_id','interest_level'],axis=1).columns\n",
    "feature_names"
   ]
  },
  {
   "cell_type": "markdown",
   "metadata": {},
   "source": [
    "#Plot Decision Tree\n",
    "from os import system\n",
    "export_graphviz(tree,out_file='tree.dot',\n",
    "                feature_names=feature_names)\n",
    "system(\"dot -Tpng tree.dot -o tree.png\")"
   ]
  },
  {
   "cell_type": "markdown",
   "metadata": {},
   "source": [
    "## Random Forest"
   ]
  },
  {
   "cell_type": "code",
   "execution_count": 51,
   "metadata": {
    "collapsed": true
   },
   "outputs": [],
   "source": [
    "#Random Forest\n",
    "forest=RandomForestClassifier(criterion='entropy',n_estimators=500,verbose=False,max_depth=18)\n",
    "forest.fit(X_train,Y_train)\n",
    "y_pred=forest.predict_proba(X_val)"
   ]
  },
  {
   "cell_type": "code",
   "execution_count": 52,
   "metadata": {},
   "outputs": [
    {
     "name": "stdout",
     "output_type": "stream",
     "text": [
      "Forest: Log Loss: 0.592251800146\n"
     ]
    }
   ],
   "source": [
    "print(\"Forest: Log Loss:\", log_loss(Y_val_onehot,y_pred))"
   ]
  },
  {
   "cell_type": "markdown",
   "metadata": {},
   "source": [
    "## Feature Importances"
   ]
  },
  {
   "cell_type": "code",
   "execution_count": 53,
   "metadata": {
    "collapsed": true
   },
   "outputs": [],
   "source": [
    "importances=forest.feature_importances_\n",
    "std = np.std([tree.feature_importances_ for tree in forest.estimators_],\n",
    "             axis=0)\n",
    "indices = np.argsort(importances)[::-1]"
   ]
  },
  {
   "cell_type": "code",
   "execution_count": 54,
   "metadata": {},
   "outputs": [
    {
     "data": {
      "text/plain": [
       "array([ 4, 18, 19,  8,  2,  3, 20,  6,  7,  5,  1, 17,  9, 10, 12, 13, 11,\n",
       "       14,  0, 15, 16], dtype=int64)"
      ]
     },
     "execution_count": 54,
     "metadata": {},
     "output_type": "execute_result"
    }
   ],
   "source": [
    "indices"
   ]
  },
  {
   "cell_type": "code",
   "execution_count": 55,
   "metadata": {},
   "outputs": [
    {
     "data": {
      "text/plain": [
       "Index(['bathrooms', 'bedrooms', 'latitude', 'longitude', 'price', 'avg_price',\n",
       "       'num_photos', 'num_features', 'words_in_description', 'month_5',\n",
       "       'month_6', 'weekday_1', 'weekday_2', 'weekday_3', 'weekday_4',\n",
       "       'weekday_5', 'weekday_6', 'price_per_bed', 'price_per_bath',\n",
       "       'total_rooms', 'price_per_room', 'price_in_cluster', 'unit_count',\n",
       "       'manager_popularity'],\n",
       "      dtype='object')"
      ]
     },
     "execution_count": 55,
     "metadata": {},
     "output_type": "execute_result"
    }
   ],
   "source": [
    "feature_names"
   ]
  },
  {
   "cell_type": "code",
   "execution_count": 56,
   "metadata": {},
   "outputs": [
    {
     "name": "stdout",
     "output_type": "stream",
     "text": [
      "Feature ranking:\n",
      "1. feature 4 (0.132886)\n",
      "2. feature 18 (0.108746)\n",
      "3. feature 19 (0.108366)\n",
      "4. feature 8 (0.086874)\n",
      "5. feature 2 (0.079104)\n",
      "6. feature 3 (0.076117)\n",
      "7. feature 20 (0.074667)\n",
      "8. feature 6 (0.064635)\n",
      "9. feature 7 (0.058940)\n",
      "10. feature 5 (0.053997)\n",
      "11. feature 1 (0.033538)\n",
      "12. feature 17 (0.033219)\n",
      "13. feature 9 (0.012900)\n",
      "14. feature 10 (0.012743)\n",
      "15. feature 12 (0.010179)\n",
      "16. feature 13 (0.009693)\n",
      "17. feature 11 (0.009668)\n",
      "18. feature 14 (0.009473)\n",
      "19. feature 0 (0.008726)\n",
      "20. feature 15 (0.008664)\n",
      "21. feature 16 (0.006864)\n"
     ]
    },
    {
     "data": {
      "image/png": "[encoded data removed]",
      "text/plain": [
       "<matplotlib.figure.Figure at 0x24193ef0>"
      ]
     },
     "metadata": {},
     "output_type": "display_data"
    }
   ],
   "source": [
    "# Print the feature ranking\n",
    "print(\"Feature ranking:\")\n",
    "\n",
    "for f in range(X_train.shape[1]):\n",
    "    print(\"%d. feature %d (%f)\" % (f + 1, indices[f], importances[indices[f]]))\n",
    "\n",
    "# Plot the feature importances of the forest\n",
    "plt.figure()\n",
    "plt.title(\"Feature importances\")\n",
    "plt.bar(range(X_train.shape[1]), importances[indices],\n",
    "       color=\"r\", yerr=std[indices], align=\"center\")\n",
    "plt.xticks(range(X_train.shape[1]), indices)\n",
    "plt.xlim([-1, X_train.shape[1]])\n",
    "plt.show()"
   ]
  },
  {
   "cell_type": "markdown",
   "metadata": {},
   "source": [
    "## Grid Search"
   ]
  },
  {
   "cell_type": "code",
   "execution_count": 57,
   "metadata": {},
   "outputs": [
    {
     "name": "stdout",
     "output_type": "stream",
     "text": [
      "Fitting 3 folds for each of 6 candidates, totalling 18 fits\n"
     ]
    },
    {
     "name": "stderr",
     "output_type": "stream",
     "text": [
      "[Parallel(n_jobs=3)]: Done   2 tasks      | elapsed:  1.1min\n",
      "[Parallel(n_jobs=3)]: Done   7 tasks      | elapsed:  2.9min\n",
      "[Parallel(n_jobs=3)]: Done  12 tasks      | elapsed:  4.0min\n",
      "[Parallel(n_jobs=3)]: Done  15 out of  18 | elapsed:  4.7min remaining:   56.6s\n",
      "[Parallel(n_jobs=3)]: Done  18 out of  18 | elapsed:  5.7min finished\n"
     ]
    },
    {
     "data": {
      "text/plain": [
       "GridSearchCV(cv=None, error_score='raise',\n",
       "       estimator=RandomForestClassifier(bootstrap=True, class_weight=None, criterion='gini',\n",
       "            max_depth=None, max_features='auto', max_leaf_nodes=None,\n",
       "            min_impurity_split=1e-07, min_samples_leaf=1,\n",
       "            min_samples_split=2, min_weight_fraction_leaf=0.0,\n",
       "            n_estimators=10, n_jobs=1, oob_score=False, random_state=None,\n",
       "            verbose=0, warm_start=False),\n",
       "       fit_params={}, iid=True, n_jobs=3,\n",
       "       param_grid={'n_estimators': [800], 'class_weight': [None, 'balanced'], 'max_depth': [None, 10, 20]},\n",
       "       pre_dispatch='2*n_jobs', refit=True, scoring=None, verbose=10)"
      ]
     },
     "execution_count": 57,
     "metadata": {},
     "output_type": "execute_result"
    }
   ],
   "source": [
    "grid_search_params = dict(n_estimators=[800], \n",
    "                          max_depth=[None,10,20], \n",
    "                          class_weight=[None, 'balanced'])\n",
    "rfc = RandomForestClassifier()\n",
    "gs = GridSearchCV(estimator=rfc, param_grid=grid_search_params, n_jobs=3, verbose=10)\n",
    "\n",
    "gs.fit(X_train, Y_train)"
   ]
  },
  {
   "cell_type": "code",
   "execution_count": 58,
   "metadata": {},
   "outputs": [
    {
     "name": "stdout",
     "output_type": "stream",
     "text": [
      "Best params:  {'n_estimators': 800, 'class_weight': None, 'max_depth': 20}\n",
      "Best score:  0.7312776463326818\n"
     ]
    }
   ],
   "source": [
    "print(\"Best params: \", gs.best_params_)\n",
    "print(\"Best score: \", gs.best_score_)"
   ]
  },
  {
   "cell_type": "code",
   "execution_count": 59,
   "metadata": {},
   "outputs": [
    {
     "data": {
      "text/plain": [
       "array(['medium', 'low', 'medium', ..., 'low', 'low', 'low'], dtype=object)"
      ]
     },
     "execution_count": 59,
     "metadata": {},
     "output_type": "execute_result"
    }
   ],
   "source": [
    "y_pred = gs.predict(X_val)\n",
    "y_pred"
   ]
  },
  {
   "cell_type": "code",
   "execution_count": 60,
   "metadata": {},
   "outputs": [
    {
     "data": {
      "text/plain": [
       "array(['high', 'low', 'medium'], dtype=object)"
      ]
     },
     "execution_count": 60,
     "metadata": {},
     "output_type": "execute_result"
    }
   ],
   "source": [
    "classes = gs.best_estimator_.classes_\n",
    "classes"
   ]
  },
  {
   "cell_type": "markdown",
   "metadata": {},
   "source": [
    "## Classification Matrix"
   ]
  },
  {
   "cell_type": "code",
   "execution_count": 61,
   "metadata": {},
   "outputs": [
    {
     "name": "stdout",
     "output_type": "stream",
     "text": [
      "             precision    recall  f1-score   support\n",
      "\n",
      "       high       0.59      0.24      0.34       734\n",
      "        low       0.78      0.93      0.85      6735\n",
      "     medium       0.49      0.30      0.37      2253\n",
      "\n",
      "avg / total       0.70      0.73      0.70      9722\n",
      "\n"
     ]
    }
   ],
   "source": [
    "print(classification_report(Y_val, y_pred))"
   ]
  },
  {
   "cell_type": "code",
   "execution_count": 62,
   "metadata": {},
   "outputs": [
    {
     "name": "stdout",
     "output_type": "stream",
     "text": [
      "0.732668175273\n"
     ]
    }
   ],
   "source": [
    "print(accuracy_score(Y_val, y_pred))"
   ]
  },
  {
   "cell_type": "markdown",
   "metadata": {},
   "source": [
    "## Run model on test dataset and prep for submission to Kaggle"
   ]
  },
  {
   "cell_type": "code",
   "execution_count": 63,
   "metadata": {
    "collapsed": true
   },
   "outputs": [],
   "source": [
    "test_cdf_inputs = Imputer().fit_transform(test_cdf_inputs)"
   ]
  },
  {
   "cell_type": "code",
   "execution_count": 64,
   "metadata": {
    "collapsed": true
   },
   "outputs": [],
   "source": [
    "target_prob = pd.DataFrame(data=gs.predict_proba(test_cdf_inputs), columns=gs.best_estimator_.classes_)"
   ]
  },
  {
   "cell_type": "code",
   "execution_count": 65,
   "metadata": {},
   "outputs": [
    {
     "data": {
      "text/html": [
       "<div>\n",
       "<table border=\"1\" class=\"dataframe\">\n",
       "  <thead>\n",
       "    <tr style=\"text-align: right;\">\n",
       "      <th></th>\n",
       "      <th>high</th>\n",
       "      <th>low</th>\n",
       "      <th>medium</th>\n",
       "      <th>listing_id</th>\n",
       "    </tr>\n",
       "  </thead>\n",
       "  <tbody>\n",
       "    <tr>\n",
       "      <th>0</th>\n",
       "      <td>0.043350</td>\n",
       "      <td>0.422241</td>\n",
       "      <td>0.534409</td>\n",
       "      <td>7171949</td>\n",
       "    </tr>\n",
       "    <tr>\n",
       "      <th>1</th>\n",
       "      <td>0.017502</td>\n",
       "      <td>0.892655</td>\n",
       "      <td>0.089844</td>\n",
       "      <td>7185456</td>\n",
       "    </tr>\n",
       "    <tr>\n",
       "      <th>2</th>\n",
       "      <td>0.024361</td>\n",
       "      <td>0.772178</td>\n",
       "      <td>0.203461</td>\n",
       "      <td>7061356</td>\n",
       "    </tr>\n",
       "    <tr>\n",
       "      <th>3</th>\n",
       "      <td>0.022126</td>\n",
       "      <td>0.779102</td>\n",
       "      <td>0.198772</td>\n",
       "      <td>6969589</td>\n",
       "    </tr>\n",
       "    <tr>\n",
       "      <th>4</th>\n",
       "      <td>0.030622</td>\n",
       "      <td>0.873940</td>\n",
       "      <td>0.095438</td>\n",
       "      <td>6902233</td>\n",
       "    </tr>\n",
       "    <tr>\n",
       "      <th>5</th>\n",
       "      <td>0.012751</td>\n",
       "      <td>0.913522</td>\n",
       "      <td>0.073727</td>\n",
       "      <td>6873033</td>\n",
       "    </tr>\n",
       "    <tr>\n",
       "      <th>6</th>\n",
       "      <td>0.088392</td>\n",
       "      <td>0.724261</td>\n",
       "      <td>0.187347</td>\n",
       "      <td>6937777</td>\n",
       "    </tr>\n",
       "    <tr>\n",
       "      <th>7</th>\n",
       "      <td>0.057613</td>\n",
       "      <td>0.755600</td>\n",
       "      <td>0.186787</td>\n",
       "      <td>6910064</td>\n",
       "    </tr>\n",
       "    <tr>\n",
       "      <th>8</th>\n",
       "      <td>0.045426</td>\n",
       "      <td>0.397725</td>\n",
       "      <td>0.556849</td>\n",
       "      <td>6910712</td>\n",
       "    </tr>\n",
       "    <tr>\n",
       "      <th>9</th>\n",
       "      <td>0.042796</td>\n",
       "      <td>0.392122</td>\n",
       "      <td>0.565082</td>\n",
       "      <td>6855602</td>\n",
       "    </tr>\n",
       "  </tbody>\n",
       "</table>\n",
       "</div>"
      ],
      "text/plain": [
       "       high       low    medium  listing_id\n",
       "0  0.043350  0.422241  0.534409     7171949\n",
       "1  0.017502  0.892655  0.089844     7185456\n",
       "2  0.024361  0.772178  0.203461     7061356\n",
       "3  0.022126  0.779102  0.198772     6969589\n",
       "4  0.030622  0.873940  0.095438     6902233\n",
       "5  0.012751  0.913522  0.073727     6873033\n",
       "6  0.088392  0.724261  0.187347     6937777\n",
       "7  0.057613  0.755600  0.186787     6910064\n",
       "8  0.045426  0.397725  0.556849     6910712\n",
       "9  0.042796  0.392122  0.565082     6855602"
      ]
     },
     "execution_count": 65,
     "metadata": {},
     "output_type": "execute_result"
    }
   ],
   "source": [
    "target_prob['listing_id'] = test_cdf_index\n",
    "target_prob.head(10)"
   ]
  },
  {
   "cell_type": "code",
   "execution_count": 66,
   "metadata": {
    "collapsed": true
   },
   "outputs": [],
   "source": [
    "target_prob.to_csv(\"rf4.csv\", index=False)"
   ]
  },
  {
   "cell_type": "markdown",
   "metadata": {},
   "source": [
    "### Kaggle Score 0.59901"
   ]
  },
  {
   "cell_type": "code",
   "execution_count": null,
   "metadata": {
    "collapsed": true
   },
   "outputs": [],
   "source": []
  }
 ],
 "metadata": {
  "anaconda-cloud": {},
  "kernelspec": {
   "display_name": "Python 3",
   "language": "python",
   "name": "python3"
  },
  "language_info": {
   "codemirror_mode": {
    "name": "ipython",
    "version": 3
   },
   "file_extension": ".py",
   "mimetype": "text/x-python",
   "name": "python",
   "nbconvert_exporter": "python",
   "pygments_lexer": "ipython3",
   "version": "3.5.2"
  }
 },
 "nbformat": 4,
 "nbformat_minor": 1
}
