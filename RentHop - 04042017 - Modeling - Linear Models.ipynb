{
 "cells": [
  {
   "cell_type": "markdown",
   "metadata": {},
   "source": [
    "# RentHop - Modeling - Level 1 - Linear Models"
   ]
  },
  {
   "cell_type": "code",
   "execution_count": 1,
   "metadata": {
    "collapsed": false
   },
   "outputs": [
    {
     "data": {
      "text/plain": [
       "'\\nAuthor - Lily Elizabeth John\\nDate - 04/04/2017\\nProject - Kaggle - Renthop - Women Who Code - Workshop\\nProject Description : To predict interest level (Low, Medium, high) for listings. The dataset was provided by Two Sigma and Renthop.\\n'"
      ]
     },
     "execution_count": 1,
     "metadata": {},
     "output_type": "execute_result"
    }
   ],
   "source": [
    "\"\"\"\n",
    "Author - Lily Elizabeth John\n",
    "Date - 04/04/2017\n",
    "Project - Kaggle - Renthop - Women Who Code - Workshop\n",
    "Project Description : To predict interest level (Low, Medium, high) for listings. The dataset was provided by Two Sigma and Renthop.\n",
    "\"\"\""
   ]
  },
  {
   "cell_type": "code",
   "execution_count": 17,
   "metadata": {
    "collapsed": false
   },
   "outputs": [],
   "source": [
    "#Import libraries\n",
    "import numpy as np\n",
    "import pandas as pd\n",
    "\n",
    "#Import CV libraries\n",
    "from sklearn.cross_validation import train_test_split\n",
    "from sklearn.preprocessing import StandardScaler\n",
    "\n",
    "#Import model libraries\n",
    "from sklearn.linear_model import LogisticRegression\n",
    "from sklearn.svm import SVC\n",
    "from sklearn.tree import DecisionTreeClassifier\n",
    "from sklearn.tree import export_graphviz\n",
    "from sklearn.ensemble import RandomForestClassifier\n",
    "from sklearn.neighbors import KNeighborsClassifier\n",
    "\n",
    "#Import metrics libraries\n",
    "from sklearn.metrics import accuracy_score\n",
    "from sklearn.cross_validation import cross_val_score\n",
    "from sklearn.metrics import roc_auc_score\n",
    "from sklearn.metrics import confusion_matrix\n",
    "from sklearn.metrics import log_loss"
   ]
  },
  {
   "cell_type": "code",
   "execution_count": 18,
   "metadata": {
    "collapsed": true
   },
   "outputs": [],
   "source": [
    "#Read Data\n",
    "train_df=pd.read_json(\"C:/Users/ljohn/Documents/2017/Personal/WWC - Kaggle/Exploring Train.JSON/train.json\")"
   ]
  },
  {
   "cell_type": "code",
   "execution_count": 41,
   "metadata": {
    "collapsed": true
   },
   "outputs": [],
   "source": [
    "train_df['created']=pd.to_datetime(train_df['created'])"
   ]
  },
  {
   "cell_type": "code",
   "execution_count": 42,
   "metadata": {
    "collapsed": false
   },
   "outputs": [],
   "source": [
    "#Exclude price outliers\n",
    "ulimit = np.percentile(train_df.price.values, 99)\n",
    "train_df=train_df[train_df['price']<ulimit]"
   ]
  },
  {
   "cell_type": "code",
   "execution_count": 43,
   "metadata": {
    "collapsed": true
   },
   "outputs": [],
   "source": [
    "#Exclude Latitude longitude outliers\n",
    "outlier_mask = ( (train_df.latitude < 40.6) | (train_df.latitude > 40.9) | \n",
    "                 (train_df.longitude < -74.1) | (train_df.longitude > -73.8) )\n",
    "lat_long_price_train_df = train_df.drop(train_df.index[outlier_mask], axis=0)"
   ]
  },
  {
   "cell_type": "code",
   "execution_count": 44,
   "metadata": {
    "collapsed": true
   },
   "outputs": [],
   "source": [
    "#Define New Features\n",
    "lat_long_price_train_df[\"num_photos\"] = lat_long_price_train_df[\"photos\"].apply(len)\n",
    "lat_long_price_train_df[\"num_features\"] = lat_long_price_train_df[\"features\"].apply(len)"
   ]
  },
  {
   "cell_type": "code",
   "execution_count": 45,
   "metadata": {
    "collapsed": false
   },
   "outputs": [
    {
     "name": "stdout",
     "output_type": "stream",
     "text": [
      "<class 'pandas.core.frame.DataFrame'>\n",
      "Int64Index: 48117 entries, 10 to 99994\n",
      "Data columns (total 17 columns):\n",
      "bathrooms          48117 non-null float64\n",
      "bedrooms           48117 non-null int64\n",
      "building_id        48117 non-null object\n",
      "created            48117 non-null datetime64[ns]\n",
      "description        48117 non-null object\n",
      "display_address    48117 non-null object\n",
      "features           48117 non-null object\n",
      "interest_level     48117 non-null object\n",
      "latitude           48117 non-null float64\n",
      "listing_id         48117 non-null int64\n",
      "longitude          48117 non-null float64\n",
      "manager_id         48117 non-null object\n",
      "photos             48117 non-null object\n",
      "price              48117 non-null float64\n",
      "street_address     48117 non-null object\n",
      "num_photos         48117 non-null int64\n",
      "num_features       48117 non-null int64\n",
      "dtypes: datetime64[ns](1), float64(4), int64(4), object(8)\n",
      "memory usage: 6.6+ MB\n"
     ]
    }
   ],
   "source": [
    "lat_long_price_train_df.info()"
   ]
  },
  {
   "cell_type": "code",
   "execution_count": 46,
   "metadata": {
    "collapsed": false
   },
   "outputs": [
    {
     "data": {
      "text/plain": [
       "{'high': 0, 'low': 1, 'medium': 2}"
      ]
     },
     "execution_count": 46,
     "metadata": {},
     "output_type": "execute_result"
    }
   ],
   "source": [
    "#Encode target variable\n",
    "class_mapping={label:idx for idx,label in enumerate(np.unique(lat_long_price_train_df['interest_level']))}\n",
    "class_mapping"
   ]
  },
  {
   "cell_type": "code",
   "execution_count": 47,
   "metadata": {
    "collapsed": false
   },
   "outputs": [
    {
     "data": {
      "text/plain": [
       "{'high': 2, 'low': 0, 'medium': 1}"
      ]
     },
     "execution_count": 47,
     "metadata": {},
     "output_type": "execute_result"
    }
   ],
   "source": [
    "class_mapping={label:idx for idx,label in enumerate(['low', 'medium','high'])}\n",
    "class_mapping"
   ]
  },
  {
   "cell_type": "code",
   "execution_count": 48,
   "metadata": {
    "collapsed": true
   },
   "outputs": [],
   "source": [
    "lat_long_price_train_df['interest_level']=lat_long_price_train_df['interest_level'].map(class_mapping)"
   ]
  },
  {
   "cell_type": "code",
   "execution_count": 55,
   "metadata": {
    "collapsed": false
   },
   "outputs": [],
   "source": [
    "#Split training dataset into train and test for cross validation\n",
    "from sklearn.cross_validation import train_test_split\n",
    "x=lat_long_price_train_df.drop(['interest_level','created','features','building_id','description',\\\n",
    "                               'display_address','listing_id','manager_id','photos','street_address'],axis=1)\n",
    "y=lat_long_price_train_df['interest_level']"
   ]
  },
  {
   "cell_type": "code",
   "execution_count": 56,
   "metadata": {
    "collapsed": false
   },
   "outputs": [
    {
     "name": "stdout",
     "output_type": "stream",
     "text": [
      "<class 'pandas.core.frame.DataFrame'>\n",
      "Int64Index: 48117 entries, 10 to 99994\n",
      "Data columns (total 7 columns):\n",
      "bathrooms       48117 non-null float64\n",
      "bedrooms        48117 non-null int64\n",
      "latitude        48117 non-null float64\n",
      "longitude       48117 non-null float64\n",
      "price           48117 non-null float64\n",
      "num_photos      48117 non-null int64\n",
      "num_features    48117 non-null int64\n",
      "dtypes: float64(4), int64(3)\n",
      "memory usage: 2.9 MB\n"
     ]
    }
   ],
   "source": [
    "x.info()"
   ]
  },
  {
   "cell_type": "code",
   "execution_count": 71,
   "metadata": {
    "collapsed": false
   },
   "outputs": [
    {
     "name": "stdout",
     "output_type": "stream",
     "text": [
      "(38493, 7) (9624, 7) (38493,) (9624,)\n"
     ]
    }
   ],
   "source": [
    "#Train Test Split\n",
    "X_train,X_test,Y_train,Y_test=train_test_split(x,y,test_size=0.2,random_state=0)\n",
    "print(X_train.shape,X_test.shape,Y_train.shape,Y_test.shape)"
   ]
  },
  {
   "cell_type": "code",
   "execution_count": 86,
   "metadata": {
    "collapsed": false
   },
   "outputs": [],
   "source": [
    "#Logistic Regression\n",
    "lr=LogisticRegression(random_state=0)\n",
    "lr.fit(X_train,Y_train)\n",
    "y_pred=lr.predict(X_test)"
   ]
  },
  {
   "cell_type": "code",
   "execution_count": 87,
   "metadata": {
    "collapsed": false
   },
   "outputs": [
    {
     "name": "stdout",
     "output_type": "stream",
     "text": [
      "LR: Accuracy Score: 0.691604322527\n"
     ]
    }
   ],
   "source": [
    "print(\"LR: Accuracy Score:\",accuracy_score(y_pred,Y_test))\n",
    "#print(\"LR: Log Loss:\", log_loss(Y_test,y_pred))"
   ]
  },
  {
   "cell_type": "code",
   "execution_count": 90,
   "metadata": {
    "collapsed": true
   },
   "outputs": [],
   "source": [
    "#Decision Tree\n",
    "tree=DecisionTreeClassifier(criterion='entropy',max_depth=3,random_state=0)\n",
    "tree.fit(X_train,Y_train)\n",
    "y_pred=tree.predict(X_test)"
   ]
  },
  {
   "cell_type": "code",
   "execution_count": 98,
   "metadata": {
    "collapsed": false
   },
   "outputs": [
    {
     "data": {
      "text/plain": [
       "1"
      ]
     },
     "execution_count": 98,
     "metadata": {},
     "output_type": "execute_result"
    }
   ],
   "source": [
    "#Plot Decision Tree\n",
    "from os import system\n",
    "export_graphviz(tree,out_file='tree.dot',\n",
    "                feature_names=['bathrooms','bedrooms','latitude','longitude','price','num_photos','num_features'])\n",
    "system(\"dot -Tpng tree.dot -o tree.png\")"
   ]
  },
  {
   "cell_type": "code",
   "execution_count": 99,
   "metadata": {
    "collapsed": false
   },
   "outputs": [
    {
     "name": "stdout",
     "output_type": "stream",
     "text": [
      "Tree: Accuracy Score: 0.698462177889\n"
     ]
    }
   ],
   "source": [
    "print(\"Tree: Accuracy Score:\",accuracy_score(y_pred,Y_test))"
   ]
  },
  {
   "cell_type": "code",
   "execution_count": 102,
   "metadata": {
    "collapsed": true
   },
   "outputs": [],
   "source": [
    "#Random Forest\n",
    "forest=RandomForestClassifier(criterion='entropy',n_estimators=10,random_state=0,n_jobs=2)\n",
    "forest.fit(X_train,Y_train)\n",
    "y_pred=forest.predict(X_test)"
   ]
  },
  {
   "cell_type": "code",
   "execution_count": 103,
   "metadata": {
    "collapsed": false
   },
   "outputs": [
    {
     "name": "stdout",
     "output_type": "stream",
     "text": [
      "Forest: Accuracy Score: 0.710099750623\n"
     ]
    }
   ],
   "source": [
    "print(\"Forest: Accuracy Score:\",accuracy_score(y_pred,Y_test))"
   ]
  }
 ],
 "metadata": {
  "kernelspec": {
   "display_name": "Python [Root]",
   "language": "python",
   "name": "Python [Root]"
  },
  "language_info": {
   "codemirror_mode": {
    "name": "ipython",
    "version": 3
   },
   "file_extension": ".py",
   "mimetype": "text/x-python",
   "name": "python",
   "nbconvert_exporter": "python",
   "pygments_lexer": "ipython3",
   "version": "3.5.2"
  }
 },
 "nbformat": 4,
 "nbformat_minor": 0
}
