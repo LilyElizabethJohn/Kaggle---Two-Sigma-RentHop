{
 "cells": [
  {
   "cell_type": "markdown",
   "metadata": {},
   "source": [
    "# RentHop - Model 5\n",
    "\n",
    "\"\"\"\n",
    "Author - Lily Elizabeth John\n",
    "Date - 04/19/2017\n",
    "Project - Kaggle - Renthop - Women Who Code - Workshop\n",
    "Project Description : To predict interest level (Low, Medium, high) for listings. The dataset was provided by Two Sigma and Renthop.\n",
    "Mentor : Saparya Krishnamoorthy\n",
    "\"\"\""
   ]
  },
  {
   "cell_type": "markdown",
   "metadata": {},
   "source": [
    "### Import Libraries"
   ]
  },
  {
   "cell_type": "code",
   "execution_count": 69,
   "metadata": {},
   "outputs": [],
   "source": [
    "#Import libraries\n",
    "import numpy as np\n",
    "import pandas as pd\n",
    "import seaborn as sns\n",
    "import matplotlib.pyplot as plt\n",
    "%matplotlib inline\n",
    "sns.set_style(\"whitegrid\")\n",
    "\n",
    "#Import metrics libraries\n",
    "from sklearn.metrics import accuracy_score\n",
    "from sklearn.cross_validation import cross_val_score\n",
    "from sklearn.metrics import roc_auc_score\n",
    "from sklearn.metrics import confusion_matrix\n",
    "from sklearn.metrics import log_loss\n",
    "from sklearn.metrics import classification_report\n",
    "\n",
    "#Import CV libraries\n",
    "from sklearn.cross_validation import train_test_split\n",
    "from sklearn.cross_validation import KFold\n",
    "from sklearn.preprocessing import Imputer\n",
    "\n",
    "#Import Clustering Libraries\n",
    "from sklearn.cluster import KMeans\n",
    "from sklearn.decomposition import PCA\n",
    "from sklearn.preprocessing import scale\n",
    "\n",
    "#Import model libraries\n",
    "from sklearn.linear_model import LogisticRegressionCV\n",
    "from sklearn.svm import SVC\n",
    "from sklearn.tree import DecisionTreeClassifier\n",
    "from sklearn.tree import export_graphviz\n",
    "from sklearn.ensemble import RandomForestClassifier\n",
    "from sklearn.neighbors import KNeighborsClassifier\n",
    "from sklearn.grid_search import GridSearchCV"
   ]
  },
  {
   "cell_type": "markdown",
   "metadata": {},
   "source": [
    "## Read Data"
   ]
  },
  {
   "cell_type": "code",
   "execution_count": 70,
   "metadata": {
    "collapsed": true
   },
   "outputs": [],
   "source": [
    "#Read Data\n",
    "train_df=pd.read_json(\"C:/Users/ljohn/Documents/2017/Personal/WWC - Kaggle/Exploring Train.JSON/train.json\")\n",
    "test_df=pd.read_json(\"C:/Users/ljohn/Documents/2017/Personal/WWC - Kaggle/Exploring Train.JSON/test.json\")"
   ]
  },
  {
   "cell_type": "code",
   "execution_count": 71,
   "metadata": {},
   "outputs": [
    {
     "data": {
      "text/plain": [
       "(49352, 15)"
      ]
     },
     "execution_count": 71,
     "metadata": {},
     "output_type": "execute_result"
    }
   ],
   "source": [
    "train_df.shape"
   ]
  },
  {
   "cell_type": "code",
   "execution_count": 72,
   "metadata": {},
   "outputs": [
    {
     "data": {
      "text/plain": [
       "low       34284\n",
       "medium    11229\n",
       "high       3839\n",
       "Name: interest_level, dtype: int64"
      ]
     },
     "execution_count": 72,
     "metadata": {},
     "output_type": "execute_result"
    }
   ],
   "source": [
    "train_df['interest_level'].value_counts()"
   ]
  },
  {
   "cell_type": "code",
   "execution_count": 73,
   "metadata": {},
   "outputs": [
    {
     "data": {
      "text/plain": [
       "(74659, 14)"
      ]
     },
     "execution_count": 73,
     "metadata": {},
     "output_type": "execute_result"
    }
   ],
   "source": [
    "test_df.shape"
   ]
  },
  {
   "cell_type": "markdown",
   "metadata": {},
   "source": [
    "## Exclude Price Outliers"
   ]
  },
  {
   "cell_type": "markdown",
   "metadata": {
    "collapsed": true
   },
   "source": [
    "#Exclude price outliers from training data\n",
    "ulimit = np.percentile(train_df.price.values, 99)\n",
    "train_df=train_df[train_df['price']<ulimit]"
   ]
  },
  {
   "cell_type": "code",
   "execution_count": 74,
   "metadata": {},
   "outputs": [],
   "source": [
    "#Convert price to log\n",
    "train_df['log_price']=np.log(train_df['price'])"
   ]
  },
  {
   "cell_type": "code",
   "execution_count": 75,
   "metadata": {
    "collapsed": true
   },
   "outputs": [],
   "source": [
    "#Exclude Latitude longitude outliers from training data\n",
    "outlier_mask = ( (train_df.latitude < 40.6) | (train_df.latitude > 40.9) | \n",
    "                 (train_df.longitude < -74.1) | (train_df.longitude > -73.8) )\n",
    "train_df = train_df.drop(train_df.index[outlier_mask], axis=0)"
   ]
  },
  {
   "cell_type": "markdown",
   "metadata": {},
   "source": [
    "## Combine Train and Test datasets to perform feature engineering"
   ]
  },
  {
   "cell_type": "code",
   "execution_count": 76,
   "metadata": {},
   "outputs": [
    {
     "data": {
      "text/plain": [
       "(123762, 17)"
      ]
     },
     "execution_count": 76,
     "metadata": {},
     "output_type": "execute_result"
    }
   ],
   "source": [
    "#Combine test and train dataset for feature engineering\n",
    "train_df['test']=False\n",
    "test_df['test']=True\n",
    "\n",
    "cdf=train_df.append(test_df).reset_index(drop=True)\n",
    "cdf.shape"
   ]
  },
  {
   "cell_type": "code",
   "execution_count": 77,
   "metadata": {},
   "outputs": [
    {
     "name": "stdout",
     "output_type": "stream",
     "text": [
      "<class 'pandas.core.frame.DataFrame'>\n",
      "RangeIndex: 123762 entries, 0 to 123761\n",
      "Data columns (total 17 columns):\n",
      "bathrooms          123762 non-null float64\n",
      "bedrooms           123762 non-null int64\n",
      "building_id        123762 non-null object\n",
      "created            123762 non-null object\n",
      "description        123762 non-null object\n",
      "display_address    123762 non-null object\n",
      "features           123762 non-null object\n",
      "interest_level     49103 non-null object\n",
      "latitude           123762 non-null float64\n",
      "listing_id         123762 non-null int64\n",
      "log_price          49103 non-null float64\n",
      "longitude          123762 non-null float64\n",
      "manager_id         123762 non-null object\n",
      "photos             123762 non-null object\n",
      "price              123762 non-null int64\n",
      "street_address     123762 non-null object\n",
      "test               123762 non-null bool\n",
      "dtypes: bool(1), float64(4), int64(3), object(9)\n",
      "memory usage: 15.2+ MB\n"
     ]
    }
   ],
   "source": [
    "cdf.info()"
   ]
  },
  {
   "cell_type": "markdown",
   "metadata": {},
   "source": [
    "## Extract lat and long for Unsupervised Learning using clusters"
   ]
  },
  {
   "cell_type": "code",
   "execution_count": 78,
   "metadata": {
    "collapsed": true
   },
   "outputs": [],
   "source": [
    "x=cdf[['latitude','longitude']]"
   ]
  },
  {
   "cell_type": "code",
   "execution_count": 79,
   "metadata": {},
   "outputs": [
    {
     "name": "stdout",
     "output_type": "stream",
     "text": [
      "<class 'pandas.core.frame.DataFrame'>\n",
      "RangeIndex: 123762 entries, 0 to 123761\n",
      "Data columns (total 2 columns):\n",
      "latitude     123762 non-null float64\n",
      "longitude    123762 non-null float64\n",
      "dtypes: float64(2)\n",
      "memory usage: 1.9 MB\n"
     ]
    }
   ],
   "source": [
    "x.info()"
   ]
  },
  {
   "cell_type": "code",
   "execution_count": 80,
   "metadata": {
    "collapsed": true
   },
   "outputs": [],
   "source": [
    "#Identify 100 geographical clusters\n",
    "n_clusters=100"
   ]
  },
  {
   "cell_type": "code",
   "execution_count": 81,
   "metadata": {},
   "outputs": [
    {
     "data": {
      "text/plain": [
       "array([ 4, 84, 59, ..., 68, 77,  4])"
      ]
     },
     "execution_count": 81,
     "metadata": {},
     "output_type": "execute_result"
    }
   ],
   "source": [
    "kmeans = KMeans(n_clusters).fit(x)\n",
    "kmeans.labels_"
   ]
  },
  {
   "cell_type": "code",
   "execution_count": 82,
   "metadata": {},
   "outputs": [
    {
     "data": {
      "text/plain": [
       "(123762,)"
      ]
     },
     "execution_count": 82,
     "metadata": {},
     "output_type": "execute_result"
    }
   ],
   "source": [
    "kmeans.labels_.shape"
   ]
  },
  {
   "cell_type": "code",
   "execution_count": 83,
   "metadata": {},
   "outputs": [
    {
     "data": {
      "text/plain": [
       "(123762, 17)"
      ]
     },
     "execution_count": 83,
     "metadata": {},
     "output_type": "execute_result"
    }
   ],
   "source": [
    "cdf.shape"
   ]
  },
  {
   "cell_type": "code",
   "execution_count": 84,
   "metadata": {
    "collapsed": true
   },
   "outputs": [],
   "source": [
    "cdf['labels']=kmeans.labels_"
   ]
  },
  {
   "cell_type": "code",
   "execution_count": 85,
   "metadata": {},
   "outputs": [
    {
     "name": "stdout",
     "output_type": "stream",
     "text": [
      "<class 'pandas.core.frame.DataFrame'>\n",
      "RangeIndex: 123762 entries, 0 to 123761\n",
      "Data columns (total 18 columns):\n",
      "bathrooms          123762 non-null float64\n",
      "bedrooms           123762 non-null int64\n",
      "building_id        123762 non-null object\n",
      "created            123762 non-null object\n",
      "description        123762 non-null object\n",
      "display_address    123762 non-null object\n",
      "features           123762 non-null object\n",
      "interest_level     49103 non-null object\n",
      "latitude           123762 non-null float64\n",
      "listing_id         123762 non-null int64\n",
      "log_price          49103 non-null float64\n",
      "longitude          123762 non-null float64\n",
      "manager_id         123762 non-null object\n",
      "photos             123762 non-null object\n",
      "price              123762 non-null int64\n",
      "street_address     123762 non-null object\n",
      "test               123762 non-null bool\n",
      "labels             123762 non-null int32\n",
      "dtypes: bool(1), float64(4), int32(1), int64(3), object(9)\n",
      "memory usage: 15.7+ MB\n"
     ]
    }
   ],
   "source": [
    "cdf.info()"
   ]
  },
  {
   "cell_type": "code",
   "execution_count": 86,
   "metadata": {
    "collapsed": true
   },
   "outputs": [],
   "source": [
    "#Exclude lat long outliers from test dataset just to be able to plot clusters,\n",
    "#But retain in combined dataframe since we cannot exclude test data \n",
    "outlier_mask = ( (cdf.latitude < 40.6) | (cdf.latitude > 40.9) | \n",
    "                 (cdf.longitude < -74.1) | (cdf.longitude > -73.8) )\n",
    "cluster_plot_df = cdf.drop(cdf.index[outlier_mask], axis=0)"
   ]
  },
  {
   "cell_type": "code",
   "execution_count": 87,
   "metadata": {},
   "outputs": [
    {
     "name": "stdout",
     "output_type": "stream",
     "text": [
      "<class 'pandas.core.frame.DataFrame'>\n",
      "Int64Index: 123357 entries, 0 to 123761\n",
      "Data columns (total 18 columns):\n",
      "bathrooms          123357 non-null float64\n",
      "bedrooms           123357 non-null int64\n",
      "building_id        123357 non-null object\n",
      "created            123357 non-null object\n",
      "description        123357 non-null object\n",
      "display_address    123357 non-null object\n",
      "features           123357 non-null object\n",
      "interest_level     49103 non-null object\n",
      "latitude           123357 non-null float64\n",
      "listing_id         123357 non-null int64\n",
      "log_price          49103 non-null float64\n",
      "longitude          123357 non-null float64\n",
      "manager_id         123357 non-null object\n",
      "photos             123357 non-null object\n",
      "price              123357 non-null int64\n",
      "street_address     123357 non-null object\n",
      "test               123357 non-null bool\n",
      "labels             123357 non-null int32\n",
      "dtypes: bool(1), float64(4), int32(1), int64(3), object(9)\n",
      "memory usage: 16.6+ MB\n"
     ]
    }
   ],
   "source": [
    "cluster_plot_df.info()"
   ]
  },
  {
   "cell_type": "markdown",
   "metadata": {},
   "source": [
    "## Plot Clusters"
   ]
  },
  {
   "cell_type": "code",
   "execution_count": 88,
   "metadata": {},
   "outputs": [
    {
     "data": {
      "text/plain": [
       "<seaborn.axisgrid.FacetGrid at 0x15ceb198>"
      ]
     },
     "execution_count": 88,
     "metadata": {},
     "output_type": "execute_result"
    },
    {
     "data": {
      "image/png": "[encoded data removed]",
      "text/plain": [
       "<matplotlib.figure.Figure at 0x1c42a978>"
      ]
     },
     "metadata": {},
     "output_type": "display_data"
    }
   ],
   "source": [
    "sns.lmplot(x='longitude', y='latitude', data=cluster_plot_df, hue='labels', fit_reg=False, \n",
    "           scatter_kws={'alpha':0.6, 's':7}, size=10,legend=False)"
   ]
  },
  {
   "cell_type": "markdown",
   "metadata": {},
   "source": [
    "## Calculate avg price per cluster to add to features"
   ]
  },
  {
   "cell_type": "code",
   "execution_count": 89,
   "metadata": {
    "collapsed": true
   },
   "outputs": [],
   "source": [
    "#Aggregate Values by Cluster Label\n",
    "label_avg_df=pd.DataFrame(cdf['price'].groupby(cdf['labels']).mean().reset_index())\n",
    "label_avg_df['avg_bed']=cdf['bedrooms'].groupby(cdf['labels']).mean()\n",
    "label_avg_df['avg_bath']=cdf['bathrooms'].groupby(cdf['labels']).mean()"
   ]
  },
  {
   "cell_type": "code",
   "execution_count": 90,
   "metadata": {},
   "outputs": [
    {
     "data": {
      "text/html": [
       "<div>\n",
       "<table border=\"1\" class=\"dataframe\">\n",
       "  <thead>\n",
       "    <tr style=\"text-align: right;\">\n",
       "      <th></th>\n",
       "      <th>labels</th>\n",
       "      <th>price</th>\n",
       "      <th>avg_bed</th>\n",
       "      <th>avg_bath</th>\n",
       "    </tr>\n",
       "  </thead>\n",
       "  <tbody>\n",
       "    <tr>\n",
       "      <th>0</th>\n",
       "      <td>0</td>\n",
       "      <td>3406.558624</td>\n",
       "      <td>2.130416</td>\n",
       "      <td>1.173534</td>\n",
       "    </tr>\n",
       "    <tr>\n",
       "      <th>1</th>\n",
       "      <td>1</td>\n",
       "      <td>2947.586207</td>\n",
       "      <td>1.689655</td>\n",
       "      <td>1.086207</td>\n",
       "    </tr>\n",
       "    <tr>\n",
       "      <th>2</th>\n",
       "      <td>2</td>\n",
       "      <td>2425.000000</td>\n",
       "      <td>1.000000</td>\n",
       "      <td>1.000000</td>\n",
       "    </tr>\n",
       "    <tr>\n",
       "      <th>3</th>\n",
       "      <td>3</td>\n",
       "      <td>500.000000</td>\n",
       "      <td>3.000000</td>\n",
       "      <td>3.000000</td>\n",
       "    </tr>\n",
       "    <tr>\n",
       "      <th>4</th>\n",
       "      <td>4</td>\n",
       "      <td>2863.663058</td>\n",
       "      <td>1.687415</td>\n",
       "      <td>1.089986</td>\n",
       "    </tr>\n",
       "  </tbody>\n",
       "</table>\n",
       "</div>"
      ],
      "text/plain": [
       "   labels        price   avg_bed  avg_bath\n",
       "0       0  3406.558624  2.130416  1.173534\n",
       "1       1  2947.586207  1.689655  1.086207\n",
       "2       2  2425.000000  1.000000  1.000000\n",
       "3       3   500.000000  3.000000  3.000000\n",
       "4       4  2863.663058  1.687415  1.089986"
      ]
     },
     "execution_count": 90,
     "metadata": {},
     "output_type": "execute_result"
    }
   ],
   "source": [
    "label_avg_df.head()"
   ]
  },
  {
   "cell_type": "code",
   "execution_count": 91,
   "metadata": {
    "collapsed": true
   },
   "outputs": [],
   "source": [
    "label_avg_df.columns=['labels','avg_price','avg_bed','avg_bath']"
   ]
  },
  {
   "cell_type": "code",
   "execution_count": 92,
   "metadata": {
    "collapsed": true
   },
   "outputs": [],
   "source": [
    "cdf = pd.merge(cdf, label_avg_df, on='labels')"
   ]
  },
  {
   "cell_type": "code",
   "execution_count": 93,
   "metadata": {},
   "outputs": [
    {
     "name": "stdout",
     "output_type": "stream",
     "text": [
      "<class 'pandas.core.frame.DataFrame'>\n",
      "Int64Index: 123762 entries, 0 to 123761\n",
      "Data columns (total 21 columns):\n",
      "bathrooms          123762 non-null float64\n",
      "bedrooms           123762 non-null int64\n",
      "building_id        123762 non-null object\n",
      "created            123762 non-null object\n",
      "description        123762 non-null object\n",
      "display_address    123762 non-null object\n",
      "features           123762 non-null object\n",
      "interest_level     49103 non-null object\n",
      "latitude           123762 non-null float64\n",
      "listing_id         123762 non-null int64\n",
      "log_price          49103 non-null float64\n",
      "longitude          123762 non-null float64\n",
      "manager_id         123762 non-null object\n",
      "photos             123762 non-null object\n",
      "price              123762 non-null int64\n",
      "street_address     123762 non-null object\n",
      "test               123762 non-null bool\n",
      "labels             123762 non-null int32\n",
      "avg_price          123762 non-null float64\n",
      "avg_bed            123762 non-null float64\n",
      "avg_bath           123762 non-null float64\n",
      "dtypes: bool(1), float64(7), int32(1), int64(3), object(9)\n",
      "memory usage: 19.5+ MB\n"
     ]
    }
   ],
   "source": [
    "cdf.info()"
   ]
  },
  {
   "cell_type": "code",
   "execution_count": 94,
   "metadata": {},
   "outputs": [
    {
     "data": {
      "text/html": [
       "<div>\n",
       "<table border=\"1\" class=\"dataframe\">\n",
       "  <thead>\n",
       "    <tr style=\"text-align: right;\">\n",
       "      <th></th>\n",
       "      <th>0</th>\n",
       "      <th>1</th>\n",
       "    </tr>\n",
       "  </thead>\n",
       "  <tbody>\n",
       "    <tr>\n",
       "      <th>bathrooms</th>\n",
       "      <td>1.5</td>\n",
       "      <td>1</td>\n",
       "    </tr>\n",
       "    <tr>\n",
       "      <th>bedrooms</th>\n",
       "      <td>3</td>\n",
       "      <td>1</td>\n",
       "    </tr>\n",
       "    <tr>\n",
       "      <th>building_id</th>\n",
       "      <td>53a5b119ba8f7b61d4e010512e0dfc85</td>\n",
       "      <td>0</td>\n",
       "    </tr>\n",
       "    <tr>\n",
       "      <th>created</th>\n",
       "      <td>2016-06-24 07:54:24</td>\n",
       "      <td>2016-04-18 03:31:04</td>\n",
       "    </tr>\n",
       "    <tr>\n",
       "      <th>description</th>\n",
       "      <td>A Brand New 3 Bedroom 1.5 bath ApartmentEnjoy ...</td>\n",
       "      <td>GUT Renovated Greenpoint 1 bedroom with brand ...</td>\n",
       "    </tr>\n",
       "    <tr>\n",
       "      <th>display_address</th>\n",
       "      <td>Metropolitan Avenue</td>\n",
       "      <td>Meeker Avenue</td>\n",
       "    </tr>\n",
       "    <tr>\n",
       "      <th>features</th>\n",
       "      <td>[]</td>\n",
       "      <td>[New Construction]</td>\n",
       "    </tr>\n",
       "    <tr>\n",
       "      <th>interest_level</th>\n",
       "      <td>medium</td>\n",
       "      <td>low</td>\n",
       "    </tr>\n",
       "    <tr>\n",
       "      <th>latitude</th>\n",
       "      <td>40.7145</td>\n",
       "      <td>40.7216</td>\n",
       "    </tr>\n",
       "    <tr>\n",
       "      <th>listing_id</th>\n",
       "      <td>7211212</td>\n",
       "      <td>6890059</td>\n",
       "    </tr>\n",
       "    <tr>\n",
       "      <th>log_price</th>\n",
       "      <td>8.00637</td>\n",
       "      <td>7.71869</td>\n",
       "    </tr>\n",
       "    <tr>\n",
       "      <th>longitude</th>\n",
       "      <td>-73.9425</td>\n",
       "      <td>-73.9423</td>\n",
       "    </tr>\n",
       "    <tr>\n",
       "      <th>manager_id</th>\n",
       "      <td>5ba989232d0489da1b5f2c45f6688adc</td>\n",
       "      <td>5ba989232d0489da1b5f2c45f6688adc</td>\n",
       "    </tr>\n",
       "    <tr>\n",
       "      <th>photos</th>\n",
       "      <td>[https://photos.renthop.com/2/7211212_1ed4542e...</td>\n",
       "      <td>[https://photos.renthop.com/2/6890059_a3109b80...</td>\n",
       "    </tr>\n",
       "    <tr>\n",
       "      <th>price</th>\n",
       "      <td>3000</td>\n",
       "      <td>2250</td>\n",
       "    </tr>\n",
       "    <tr>\n",
       "      <th>street_address</th>\n",
       "      <td>792 Metropolitan Avenue</td>\n",
       "      <td>585 Meeker Avenue</td>\n",
       "    </tr>\n",
       "    <tr>\n",
       "      <th>test</th>\n",
       "      <td>False</td>\n",
       "      <td>False</td>\n",
       "    </tr>\n",
       "    <tr>\n",
       "      <th>labels</th>\n",
       "      <td>4</td>\n",
       "      <td>4</td>\n",
       "    </tr>\n",
       "    <tr>\n",
       "      <th>avg_price</th>\n",
       "      <td>2863.66</td>\n",
       "      <td>2863.66</td>\n",
       "    </tr>\n",
       "    <tr>\n",
       "      <th>avg_bed</th>\n",
       "      <td>1.68742</td>\n",
       "      <td>1.68742</td>\n",
       "    </tr>\n",
       "    <tr>\n",
       "      <th>avg_bath</th>\n",
       "      <td>1.08999</td>\n",
       "      <td>1.08999</td>\n",
       "    </tr>\n",
       "  </tbody>\n",
       "</table>\n",
       "</div>"
      ],
      "text/plain": [
       "                                                                 0  \\\n",
       "bathrooms                                                      1.5   \n",
       "bedrooms                                                         3   \n",
       "building_id                       53a5b119ba8f7b61d4e010512e0dfc85   \n",
       "created                                        2016-06-24 07:54:24   \n",
       "description      A Brand New 3 Bedroom 1.5 bath ApartmentEnjoy ...   \n",
       "display_address                                Metropolitan Avenue   \n",
       "features                                                        []   \n",
       "interest_level                                              medium   \n",
       "latitude                                                   40.7145   \n",
       "listing_id                                                 7211212   \n",
       "log_price                                                  8.00637   \n",
       "longitude                                                 -73.9425   \n",
       "manager_id                        5ba989232d0489da1b5f2c45f6688adc   \n",
       "photos           [https://photos.renthop.com/2/7211212_1ed4542e...   \n",
       "price                                                         3000   \n",
       "street_address                             792 Metropolitan Avenue   \n",
       "test                                                         False   \n",
       "labels                                                           4   \n",
       "avg_price                                                  2863.66   \n",
       "avg_bed                                                    1.68742   \n",
       "avg_bath                                                   1.08999   \n",
       "\n",
       "                                                                 1  \n",
       "bathrooms                                                        1  \n",
       "bedrooms                                                         1  \n",
       "building_id                                                      0  \n",
       "created                                        2016-04-18 03:31:04  \n",
       "description      GUT Renovated Greenpoint 1 bedroom with brand ...  \n",
       "display_address                                      Meeker Avenue  \n",
       "features                                        [New Construction]  \n",
       "interest_level                                                 low  \n",
       "latitude                                                   40.7216  \n",
       "listing_id                                                 6890059  \n",
       "log_price                                                  7.71869  \n",
       "longitude                                                 -73.9423  \n",
       "manager_id                        5ba989232d0489da1b5f2c45f6688adc  \n",
       "photos           [https://photos.renthop.com/2/6890059_a3109b80...  \n",
       "price                                                         2250  \n",
       "street_address                                   585 Meeker Avenue  \n",
       "test                                                         False  \n",
       "labels                                                           4  \n",
       "avg_price                                                  2863.66  \n",
       "avg_bed                                                    1.68742  \n",
       "avg_bath                                                   1.08999  "
      ]
     },
     "execution_count": 94,
     "metadata": {},
     "output_type": "execute_result"
    }
   ],
   "source": [
    "cdf.head(2).T"
   ]
  },
  {
   "cell_type": "markdown",
   "metadata": {},
   "source": [
    "## Add features from Created date, and NLP fields"
   ]
  },
  {
   "cell_type": "code",
   "execution_count": 95,
   "metadata": {
    "collapsed": true
   },
   "outputs": [],
   "source": [
    "#Adding Features\n",
    "cdf['created']=pd.to_datetime(cdf['created'])\n",
    "cdf['month']=cdf['created'].dt.month\n",
    "cdf['weekday']=cdf['created'].dt.weekday\n",
    "cdf[\"num_photos\"] = cdf[\"photos\"].apply(len)\n",
    "cdf[\"num_features\"] = cdf[\"features\"].apply(len)\n",
    "cdf[\"words_in_description\"] = cdf[\"description\"].apply(len)"
   ]
  },
  {
   "cell_type": "code",
   "execution_count": 96,
   "metadata": {},
   "outputs": [
    {
     "data": {
      "text/html": [
       "<div>\n",
       "<table border=\"1\" class=\"dataframe\">\n",
       "  <thead>\n",
       "    <tr style=\"text-align: right;\">\n",
       "      <th></th>\n",
       "      <th>month_4</th>\n",
       "      <th>month_5</th>\n",
       "      <th>month_6</th>\n",
       "      <th>weekday_0</th>\n",
       "      <th>weekday_1</th>\n",
       "      <th>weekday_2</th>\n",
       "      <th>weekday_3</th>\n",
       "      <th>weekday_4</th>\n",
       "      <th>weekday_5</th>\n",
       "      <th>weekday_6</th>\n",
       "    </tr>\n",
       "  </thead>\n",
       "  <tbody>\n",
       "    <tr>\n",
       "      <th>0</th>\n",
       "      <td>0</td>\n",
       "      <td>0</td>\n",
       "      <td>1</td>\n",
       "      <td>0</td>\n",
       "      <td>0</td>\n",
       "      <td>0</td>\n",
       "      <td>0</td>\n",
       "      <td>1</td>\n",
       "      <td>0</td>\n",
       "      <td>0</td>\n",
       "    </tr>\n",
       "    <tr>\n",
       "      <th>1</th>\n",
       "      <td>1</td>\n",
       "      <td>0</td>\n",
       "      <td>0</td>\n",
       "      <td>1</td>\n",
       "      <td>0</td>\n",
       "      <td>0</td>\n",
       "      <td>0</td>\n",
       "      <td>0</td>\n",
       "      <td>0</td>\n",
       "      <td>0</td>\n",
       "    </tr>\n",
       "    <tr>\n",
       "      <th>2</th>\n",
       "      <td>1</td>\n",
       "      <td>0</td>\n",
       "      <td>0</td>\n",
       "      <td>0</td>\n",
       "      <td>0</td>\n",
       "      <td>0</td>\n",
       "      <td>0</td>\n",
       "      <td>1</td>\n",
       "      <td>0</td>\n",
       "      <td>0</td>\n",
       "    </tr>\n",
       "    <tr>\n",
       "      <th>3</th>\n",
       "      <td>0</td>\n",
       "      <td>0</td>\n",
       "      <td>1</td>\n",
       "      <td>0</td>\n",
       "      <td>0</td>\n",
       "      <td>0</td>\n",
       "      <td>1</td>\n",
       "      <td>0</td>\n",
       "      <td>0</td>\n",
       "      <td>0</td>\n",
       "    </tr>\n",
       "    <tr>\n",
       "      <th>4</th>\n",
       "      <td>1</td>\n",
       "      <td>0</td>\n",
       "      <td>0</td>\n",
       "      <td>1</td>\n",
       "      <td>0</td>\n",
       "      <td>0</td>\n",
       "      <td>0</td>\n",
       "      <td>0</td>\n",
       "      <td>0</td>\n",
       "      <td>0</td>\n",
       "    </tr>\n",
       "  </tbody>\n",
       "</table>\n",
       "</div>"
      ],
      "text/plain": [
       "   month_4  month_5  month_6  weekday_0  weekday_1  weekday_2  weekday_3  \\\n",
       "0        0        0        1          0          0          0          0   \n",
       "1        1        0        0          1          0          0          0   \n",
       "2        1        0        0          0          0          0          0   \n",
       "3        0        0        1          0          0          0          1   \n",
       "4        1        0        0          1          0          0          0   \n",
       "\n",
       "   weekday_4  weekday_5  weekday_6  \n",
       "0          1          0          0  \n",
       "1          0          0          0  \n",
       "2          1          0          0  \n",
       "3          0          0          0  \n",
       "4          0          0          0  "
      ]
     },
     "execution_count": 96,
     "metadata": {},
     "output_type": "execute_result"
    }
   ],
   "source": [
    "#Recode variables Month, Weekday\n",
    "cdf['month']=cdf['month'].astype('str')\n",
    "cdf['weekday']=cdf['weekday'].astype('str')\n",
    "df=pd.get_dummies(cdf[['month','weekday']])\n",
    "df.head()"
   ]
  },
  {
   "cell_type": "code",
   "execution_count": 97,
   "metadata": {
    "collapsed": true
   },
   "outputs": [],
   "source": [
    "cdf = cdf.merge(df,left_index=True, right_index=True)"
   ]
  },
  {
   "cell_type": "code",
   "execution_count": 98,
   "metadata": {},
   "outputs": [
    {
     "name": "stdout",
     "output_type": "stream",
     "text": [
      "<class 'pandas.core.frame.DataFrame'>\n",
      "Int64Index: 123762 entries, 0 to 123761\n",
      "Data columns (total 36 columns):\n",
      "bathrooms               123762 non-null float64\n",
      "bedrooms                123762 non-null int64\n",
      "building_id             123762 non-null object\n",
      "created                 123762 non-null datetime64[ns]\n",
      "description             123762 non-null object\n",
      "display_address         123762 non-null object\n",
      "features                123762 non-null object\n",
      "interest_level          49103 non-null object\n",
      "latitude                123762 non-null float64\n",
      "listing_id              123762 non-null int64\n",
      "log_price               49103 non-null float64\n",
      "longitude               123762 non-null float64\n",
      "manager_id              123762 non-null object\n",
      "photos                  123762 non-null object\n",
      "price                   123762 non-null int64\n",
      "street_address          123762 non-null object\n",
      "test                    123762 non-null bool\n",
      "labels                  123762 non-null int32\n",
      "avg_price               123762 non-null float64\n",
      "avg_bed                 123762 non-null float64\n",
      "avg_bath                123762 non-null float64\n",
      "month                   123762 non-null object\n",
      "weekday                 123762 non-null object\n",
      "num_photos              123762 non-null int64\n",
      "num_features            123762 non-null int64\n",
      "words_in_description    123762 non-null int64\n",
      "month_4                 123762 non-null uint8\n",
      "month_5                 123762 non-null uint8\n",
      "month_6                 123762 non-null uint8\n",
      "weekday_0               123762 non-null uint8\n",
      "weekday_1               123762 non-null uint8\n",
      "weekday_2               123762 non-null uint8\n",
      "weekday_3               123762 non-null uint8\n",
      "weekday_4               123762 non-null uint8\n",
      "weekday_5               123762 non-null uint8\n",
      "weekday_6               123762 non-null uint8\n",
      "dtypes: bool(1), datetime64[ns](1), float64(7), int32(1), int64(6), object(10), uint8(10)\n",
      "memory usage: 25.4+ MB\n"
     ]
    }
   ],
   "source": [
    "cdf.info()"
   ]
  },
  {
   "cell_type": "markdown",
   "metadata": {},
   "source": [
    "## Derive features from numerical fields like Price per room and deviation of price from average price in cluster"
   ]
  },
  {
   "cell_type": "code",
   "execution_count": 99,
   "metadata": {
    "collapsed": true
   },
   "outputs": [],
   "source": [
    "#More Features\n",
    "cdf['price_per_bed']=cdf['price']/cdf['bedrooms']\n",
    "cdf['price_per_bath']=cdf['price']/cdf['bathrooms']\n",
    "cdf['total_rooms']=cdf['bedrooms']+cdf['bathrooms']\n",
    "cdf['price_per_room']=cdf['price']/cdf['total_rooms']\n",
    "cdf['price_in_cluster']=cdf['price']-cdf['avg_price']\n",
    "cdf['bed_in_cluster']=cdf['bedrooms']-cdf['avg_bed']\n",
    "cdf['bath_in_cluster']=cdf['bathrooms']-cdf['avg_bath']"
   ]
  },
  {
   "cell_type": "markdown",
   "metadata": {},
   "source": [
    "## Identify multi unit buildings by listing count per building"
   ]
  },
  {
   "cell_type": "code",
   "execution_count": 100,
   "metadata": {
    "collapsed": true
   },
   "outputs": [],
   "source": [
    "#Is it a building with multiple units\n",
    "building_count_df=pd.DataFrame(cdf.groupby(cdf['building_id']).size().reset_index())"
   ]
  },
  {
   "cell_type": "code",
   "execution_count": 101,
   "metadata": {},
   "outputs": [
    {
     "data": {
      "text/html": [
       "<div>\n",
       "<table border=\"1\" class=\"dataframe\">\n",
       "  <thead>\n",
       "    <tr style=\"text-align: right;\">\n",
       "      <th></th>\n",
       "      <th>building_id</th>\n",
       "      <th>0</th>\n",
       "    </tr>\n",
       "  </thead>\n",
       "  <tbody>\n",
       "    <tr>\n",
       "      <th>0</th>\n",
       "      <td>0</td>\n",
       "      <td>20625</td>\n",
       "    </tr>\n",
       "    <tr>\n",
       "      <th>1</th>\n",
       "      <td>00005cb939f9986300d987652c933e15</td>\n",
       "      <td>1</td>\n",
       "    </tr>\n",
       "    <tr>\n",
       "      <th>2</th>\n",
       "      <td>00024d77a43f0606f926e2312513845c</td>\n",
       "      <td>7</td>\n",
       "    </tr>\n",
       "    <tr>\n",
       "      <th>3</th>\n",
       "      <td>000ae4b7db298401cdae2b0ba1ea8146</td>\n",
       "      <td>2</td>\n",
       "    </tr>\n",
       "    <tr>\n",
       "      <th>4</th>\n",
       "      <td>0012f1955391bca600ec301035b97b65</td>\n",
       "      <td>1</td>\n",
       "    </tr>\n",
       "  </tbody>\n",
       "</table>\n",
       "</div>"
      ],
      "text/plain": [
       "                        building_id      0\n",
       "0                                 0  20625\n",
       "1  00005cb939f9986300d987652c933e15      1\n",
       "2  00024d77a43f0606f926e2312513845c      7\n",
       "3  000ae4b7db298401cdae2b0ba1ea8146      2\n",
       "4  0012f1955391bca600ec301035b97b65      1"
      ]
     },
     "execution_count": 101,
     "metadata": {},
     "output_type": "execute_result"
    }
   ],
   "source": [
    "building_count_df.head()"
   ]
  },
  {
   "cell_type": "code",
   "execution_count": 102,
   "metadata": {},
   "outputs": [
    {
     "data": {
      "text/html": [
       "<div>\n",
       "<table border=\"1\" class=\"dataframe\">\n",
       "  <thead>\n",
       "    <tr style=\"text-align: right;\">\n",
       "      <th></th>\n",
       "      <th>building_id</th>\n",
       "      <th>unit_count</th>\n",
       "    </tr>\n",
       "  </thead>\n",
       "  <tbody>\n",
       "    <tr>\n",
       "      <th>0</th>\n",
       "      <td>0</td>\n",
       "      <td>20625</td>\n",
       "    </tr>\n",
       "    <tr>\n",
       "      <th>1</th>\n",
       "      <td>00005cb939f9986300d987652c933e15</td>\n",
       "      <td>1</td>\n",
       "    </tr>\n",
       "    <tr>\n",
       "      <th>2</th>\n",
       "      <td>00024d77a43f0606f926e2312513845c</td>\n",
       "      <td>7</td>\n",
       "    </tr>\n",
       "    <tr>\n",
       "      <th>3</th>\n",
       "      <td>000ae4b7db298401cdae2b0ba1ea8146</td>\n",
       "      <td>2</td>\n",
       "    </tr>\n",
       "    <tr>\n",
       "      <th>4</th>\n",
       "      <td>0012f1955391bca600ec301035b97b65</td>\n",
       "      <td>1</td>\n",
       "    </tr>\n",
       "  </tbody>\n",
       "</table>\n",
       "</div>"
      ],
      "text/plain": [
       "                        building_id  unit_count\n",
       "0                                 0       20625\n",
       "1  00005cb939f9986300d987652c933e15           1\n",
       "2  00024d77a43f0606f926e2312513845c           7\n",
       "3  000ae4b7db298401cdae2b0ba1ea8146           2\n",
       "4  0012f1955391bca600ec301035b97b65           1"
      ]
     },
     "execution_count": 102,
     "metadata": {},
     "output_type": "execute_result"
    }
   ],
   "source": [
    "building_count_df.columns=['building_id','unit_count']\n",
    "building_count_df.head()"
   ]
  },
  {
   "cell_type": "code",
   "execution_count": 103,
   "metadata": {
    "collapsed": true
   },
   "outputs": [],
   "source": [
    "cdf = pd.merge(cdf, building_count_df, on='building_id')"
   ]
  },
  {
   "cell_type": "code",
   "execution_count": 104,
   "metadata": {},
   "outputs": [
    {
     "name": "stdout",
     "output_type": "stream",
     "text": [
      "<class 'pandas.core.frame.DataFrame'>\n",
      "Int64Index: 123762 entries, 0 to 123761\n",
      "Data columns (total 44 columns):\n",
      "bathrooms               123762 non-null float64\n",
      "bedrooms                123762 non-null int64\n",
      "building_id             123762 non-null object\n",
      "created                 123762 non-null datetime64[ns]\n",
      "description             123762 non-null object\n",
      "display_address         123762 non-null object\n",
      "features                123762 non-null object\n",
      "interest_level          49103 non-null object\n",
      "latitude                123762 non-null float64\n",
      "listing_id              123762 non-null int64\n",
      "log_price               49103 non-null float64\n",
      "longitude               123762 non-null float64\n",
      "manager_id              123762 non-null object\n",
      "photos                  123762 non-null object\n",
      "price                   123762 non-null int64\n",
      "street_address          123762 non-null object\n",
      "test                    123762 non-null bool\n",
      "labels                  123762 non-null int32\n",
      "avg_price               123762 non-null float64\n",
      "avg_bed                 123762 non-null float64\n",
      "avg_bath                123762 non-null float64\n",
      "month                   123762 non-null object\n",
      "weekday                 123762 non-null object\n",
      "num_photos              123762 non-null int64\n",
      "num_features            123762 non-null int64\n",
      "words_in_description    123762 non-null int64\n",
      "month_4                 123762 non-null uint8\n",
      "month_5                 123762 non-null uint8\n",
      "month_6                 123762 non-null uint8\n",
      "weekday_0               123762 non-null uint8\n",
      "weekday_1               123762 non-null uint8\n",
      "weekday_2               123762 non-null uint8\n",
      "weekday_3               123762 non-null uint8\n",
      "weekday_4               123762 non-null uint8\n",
      "weekday_5               123762 non-null uint8\n",
      "weekday_6               123762 non-null uint8\n",
      "price_per_bed           123762 non-null float64\n",
      "price_per_bath          123762 non-null float64\n",
      "total_rooms             123762 non-null float64\n",
      "price_per_room          123762 non-null float64\n",
      "price_in_cluster        123762 non-null float64\n",
      "bed_in_cluster          123762 non-null float64\n",
      "bath_in_cluster         123762 non-null float64\n",
      "unit_count              123762 non-null int64\n",
      "dtypes: bool(1), datetime64[ns](1), float64(14), int32(1), int64(7), object(10), uint8(10)\n",
      "memory usage: 32.9+ MB\n"
     ]
    }
   ],
   "source": [
    "cdf.info()"
   ]
  },
  {
   "cell_type": "markdown",
   "metadata": {},
   "source": [
    "## Identify properties represented by high profile managers"
   ]
  },
  {
   "cell_type": "code",
   "execution_count": 105,
   "metadata": {
    "collapsed": true
   },
   "outputs": [],
   "source": [
    "#Does the manager have multiple listings\n",
    "manager_count_df=pd.DataFrame(cdf.groupby(cdf['manager_id']).size().reset_index())"
   ]
  },
  {
   "cell_type": "code",
   "execution_count": 106,
   "metadata": {},
   "outputs": [
    {
     "data": {
      "text/html": [
       "<div>\n",
       "<table border=\"1\" class=\"dataframe\">\n",
       "  <thead>\n",
       "    <tr style=\"text-align: right;\">\n",
       "      <th></th>\n",
       "      <th>manager_id</th>\n",
       "      <th>manager_popularity</th>\n",
       "    </tr>\n",
       "  </thead>\n",
       "  <tbody>\n",
       "    <tr>\n",
       "      <th>0</th>\n",
       "      <td>0000abd7518b94c35a90d64b56fbf3e6</td>\n",
       "      <td>35</td>\n",
       "    </tr>\n",
       "    <tr>\n",
       "      <th>1</th>\n",
       "      <td>001ce808ce1720e24a9510e014c69707</td>\n",
       "      <td>28</td>\n",
       "    </tr>\n",
       "    <tr>\n",
       "      <th>2</th>\n",
       "      <td>003fc4e9a70053082f131b1054966aaf</td>\n",
       "      <td>4</td>\n",
       "    </tr>\n",
       "    <tr>\n",
       "      <th>3</th>\n",
       "      <td>00607a02f6efd9c6c7c588826e471ee9</td>\n",
       "      <td>11</td>\n",
       "    </tr>\n",
       "    <tr>\n",
       "      <th>4</th>\n",
       "      <td>00995ff28d79127ed2dca8320e9e7d09</td>\n",
       "      <td>9</td>\n",
       "    </tr>\n",
       "  </tbody>\n",
       "</table>\n",
       "</div>"
      ],
      "text/plain": [
       "                         manager_id  manager_popularity\n",
       "0  0000abd7518b94c35a90d64b56fbf3e6                  35\n",
       "1  001ce808ce1720e24a9510e014c69707                  28\n",
       "2  003fc4e9a70053082f131b1054966aaf                   4\n",
       "3  00607a02f6efd9c6c7c588826e471ee9                  11\n",
       "4  00995ff28d79127ed2dca8320e9e7d09                   9"
      ]
     },
     "execution_count": 106,
     "metadata": {},
     "output_type": "execute_result"
    }
   ],
   "source": [
    "manager_count_df.columns=['manager_id','manager_popularity']\n",
    "manager_count_df.head()"
   ]
  },
  {
   "cell_type": "code",
   "execution_count": 107,
   "metadata": {
    "collapsed": true
   },
   "outputs": [],
   "source": [
    "cdf = pd.merge(cdf, manager_count_df, on='manager_id')"
   ]
  },
  {
   "cell_type": "code",
   "execution_count": 108,
   "metadata": {
    "scrolled": true
   },
   "outputs": [
    {
     "name": "stdout",
     "output_type": "stream",
     "text": [
      "<class 'pandas.core.frame.DataFrame'>\n",
      "Int64Index: 123762 entries, 0 to 123761\n",
      "Data columns (total 45 columns):\n",
      "bathrooms               123762 non-null float64\n",
      "bedrooms                123762 non-null int64\n",
      "building_id             123762 non-null object\n",
      "created                 123762 non-null datetime64[ns]\n",
      "description             123762 non-null object\n",
      "display_address         123762 non-null object\n",
      "features                123762 non-null object\n",
      "interest_level          49103 non-null object\n",
      "latitude                123762 non-null float64\n",
      "listing_id              123762 non-null int64\n",
      "log_price               49103 non-null float64\n",
      "longitude               123762 non-null float64\n",
      "manager_id              123762 non-null object\n",
      "photos                  123762 non-null object\n",
      "price                   123762 non-null int64\n",
      "street_address          123762 non-null object\n",
      "test                    123762 non-null bool\n",
      "labels                  123762 non-null int32\n",
      "avg_price               123762 non-null float64\n",
      "avg_bed                 123762 non-null float64\n",
      "avg_bath                123762 non-null float64\n",
      "month                   123762 non-null object\n",
      "weekday                 123762 non-null object\n",
      "num_photos              123762 non-null int64\n",
      "num_features            123762 non-null int64\n",
      "words_in_description    123762 non-null int64\n",
      "month_4                 123762 non-null uint8\n",
      "month_5                 123762 non-null uint8\n",
      "month_6                 123762 non-null uint8\n",
      "weekday_0               123762 non-null uint8\n",
      "weekday_1               123762 non-null uint8\n",
      "weekday_2               123762 non-null uint8\n",
      "weekday_3               123762 non-null uint8\n",
      "weekday_4               123762 non-null uint8\n",
      "weekday_5               123762 non-null uint8\n",
      "weekday_6               123762 non-null uint8\n",
      "price_per_bed           123762 non-null float64\n",
      "price_per_bath          123762 non-null float64\n",
      "total_rooms             123762 non-null float64\n",
      "price_per_room          123762 non-null float64\n",
      "price_in_cluster        123762 non-null float64\n",
      "bed_in_cluster          123762 non-null float64\n",
      "bath_in_cluster         123762 non-null float64\n",
      "unit_count              123762 non-null int64\n",
      "manager_popularity      123762 non-null int64\n",
      "dtypes: bool(1), datetime64[ns](1), float64(14), int32(1), int64(8), object(10), uint8(10)\n",
      "memory usage: 33.9+ MB\n"
     ]
    }
   ],
   "source": [
    "cdf.info()"
   ]
  },
  {
   "cell_type": "markdown",
   "metadata": {},
   "source": [
    "## Extract features from Features field"
   ]
  },
  {
   "cell_type": "markdown",
   "metadata": {
    "collapsed": true
   },
   "source": [
    "def feat(name, df, series):\n",
    "    feature = pd.Series(0, df.index, name=name)\n",
    "    for row, word in enumerate(series):\n",
    "        if name in word:\n",
    "            feature.iloc[row] = 1\n",
    "    df[name] = feature\n",
    "    return(df)"
   ]
  },
  {
   "cell_type": "markdown",
   "metadata": {
    "collapsed": true
   },
   "source": [
    "cdf = feat('Elevator', cdf, cdf.features)\n",
    "cdf = feat('Dogs Allowed', cdf, cdf.features)\n",
    "cdf = feat('Cats Allowed', cdf, cdf.features)\n",
    "cdf = feat('laundry', cdf, cdf.features)\n",
    "cdf = feat('stainless', cdf, cdf.features)\n",
    "cdf = feat('hardwood', cdf, cdf.features)\n",
    "cdf = feat('new', cdf, cdf.features)\n",
    "cdf = feat('appliances', cdf, cdf.features)\n",
    "cdf = feat('renovated', cdf, cdf.features)"
   ]
  },
  {
   "cell_type": "markdown",
   "metadata": {},
   "source": [
    "cdf.info()"
   ]
  },
  {
   "cell_type": "markdown",
   "metadata": {},
   "source": [
    "cdf.head().T"
   ]
  },
  {
   "cell_type": "markdown",
   "metadata": {},
   "source": [
    "## Recode clusters into categorical variables"
   ]
  },
  {
   "cell_type": "markdown",
   "metadata": {},
   "source": [
    "#Recode variables labels\n",
    "cdf['labels']=cdf['labels'].astype('str')\n",
    "ldf=pd.get_dummies(cdf[['labels']])\n",
    "ldf.head()"
   ]
  },
  {
   "cell_type": "markdown",
   "metadata": {},
   "source": [
    "cdf = cdf.merge(ldf,left_index=True, right_index=True)\n",
    "cdf.head()"
   ]
  },
  {
   "cell_type": "markdown",
   "metadata": {},
   "source": [
    "## Drop unwanted features"
   ]
  },
  {
   "cell_type": "code",
   "execution_count": 109,
   "metadata": {},
   "outputs": [],
   "source": [
    "cdf=cdf.drop(['building_id','created','description','display_address','features','manager_id','photos','street_address','labels','month','weekday','month_4','weekday_0'],axis=1)"
   ]
  },
  {
   "cell_type": "code",
   "execution_count": 110,
   "metadata": {},
   "outputs": [
    {
     "data": {
      "text/html": [
       "<div>\n",
       "<table border=\"1\" class=\"dataframe\">\n",
       "  <thead>\n",
       "    <tr style=\"text-align: right;\">\n",
       "      <th></th>\n",
       "      <th>0</th>\n",
       "      <th>1</th>\n",
       "      <th>2</th>\n",
       "      <th>3</th>\n",
       "      <th>4</th>\n",
       "    </tr>\n",
       "  </thead>\n",
       "  <tbody>\n",
       "    <tr>\n",
       "      <th>bathrooms</th>\n",
       "      <td>1.5</td>\n",
       "      <td>1</td>\n",
       "      <td>1</td>\n",
       "      <td>1.5</td>\n",
       "      <td>1</td>\n",
       "    </tr>\n",
       "    <tr>\n",
       "      <th>bedrooms</th>\n",
       "      <td>3</td>\n",
       "      <td>1</td>\n",
       "      <td>1</td>\n",
       "      <td>3</td>\n",
       "      <td>1</td>\n",
       "    </tr>\n",
       "    <tr>\n",
       "      <th>interest_level</th>\n",
       "      <td>medium</td>\n",
       "      <td>low</td>\n",
       "      <td>low</td>\n",
       "      <td>NaN</td>\n",
       "      <td>NaN</td>\n",
       "    </tr>\n",
       "    <tr>\n",
       "      <th>latitude</th>\n",
       "      <td>40.7145</td>\n",
       "      <td>40.7145</td>\n",
       "      <td>40.7145</td>\n",
       "      <td>40.7145</td>\n",
       "      <td>40.7145</td>\n",
       "    </tr>\n",
       "    <tr>\n",
       "      <th>listing_id</th>\n",
       "      <td>7211212</td>\n",
       "      <td>7159209</td>\n",
       "      <td>7209396</td>\n",
       "      <td>7171949</td>\n",
       "      <td>7185456</td>\n",
       "    </tr>\n",
       "    <tr>\n",
       "      <th>log_price</th>\n",
       "      <td>8.00637</td>\n",
       "      <td>7.82405</td>\n",
       "      <td>7.82405</td>\n",
       "      <td>NaN</td>\n",
       "      <td>NaN</td>\n",
       "    </tr>\n",
       "    <tr>\n",
       "      <th>longitude</th>\n",
       "      <td>-73.9425</td>\n",
       "      <td>-73.9425</td>\n",
       "      <td>-73.9425</td>\n",
       "      <td>-73.9425</td>\n",
       "      <td>-73.9425</td>\n",
       "    </tr>\n",
       "    <tr>\n",
       "      <th>price</th>\n",
       "      <td>3000</td>\n",
       "      <td>2500</td>\n",
       "      <td>2500</td>\n",
       "      <td>3000</td>\n",
       "      <td>2500</td>\n",
       "    </tr>\n",
       "    <tr>\n",
       "      <th>test</th>\n",
       "      <td>False</td>\n",
       "      <td>False</td>\n",
       "      <td>False</td>\n",
       "      <td>True</td>\n",
       "      <td>True</td>\n",
       "    </tr>\n",
       "    <tr>\n",
       "      <th>avg_price</th>\n",
       "      <td>2863.66</td>\n",
       "      <td>2863.66</td>\n",
       "      <td>2863.66</td>\n",
       "      <td>2863.66</td>\n",
       "      <td>2863.66</td>\n",
       "    </tr>\n",
       "    <tr>\n",
       "      <th>avg_bed</th>\n",
       "      <td>1.68742</td>\n",
       "      <td>1.68742</td>\n",
       "      <td>1.68742</td>\n",
       "      <td>1.68742</td>\n",
       "      <td>1.68742</td>\n",
       "    </tr>\n",
       "    <tr>\n",
       "      <th>avg_bath</th>\n",
       "      <td>1.08999</td>\n",
       "      <td>1.08999</td>\n",
       "      <td>1.08999</td>\n",
       "      <td>1.08999</td>\n",
       "      <td>1.08999</td>\n",
       "    </tr>\n",
       "    <tr>\n",
       "      <th>num_photos</th>\n",
       "      <td>5</td>\n",
       "      <td>5</td>\n",
       "      <td>5</td>\n",
       "      <td>5</td>\n",
       "      <td>5</td>\n",
       "    </tr>\n",
       "    <tr>\n",
       "      <th>num_features</th>\n",
       "      <td>0</td>\n",
       "      <td>0</td>\n",
       "      <td>0</td>\n",
       "      <td>0</td>\n",
       "      <td>0</td>\n",
       "    </tr>\n",
       "    <tr>\n",
       "      <th>words_in_description</th>\n",
       "      <td>588</td>\n",
       "      <td>548</td>\n",
       "      <td>548</td>\n",
       "      <td>588</td>\n",
       "      <td>548</td>\n",
       "    </tr>\n",
       "    <tr>\n",
       "      <th>month_5</th>\n",
       "      <td>0</td>\n",
       "      <td>0</td>\n",
       "      <td>0</td>\n",
       "      <td>0</td>\n",
       "      <td>0</td>\n",
       "    </tr>\n",
       "    <tr>\n",
       "      <th>month_6</th>\n",
       "      <td>1</td>\n",
       "      <td>1</td>\n",
       "      <td>1</td>\n",
       "      <td>1</td>\n",
       "      <td>1</td>\n",
       "    </tr>\n",
       "    <tr>\n",
       "      <th>weekday_1</th>\n",
       "      <td>0</td>\n",
       "      <td>1</td>\n",
       "      <td>0</td>\n",
       "      <td>0</td>\n",
       "      <td>0</td>\n",
       "    </tr>\n",
       "    <tr>\n",
       "      <th>weekday_2</th>\n",
       "      <td>0</td>\n",
       "      <td>0</td>\n",
       "      <td>0</td>\n",
       "      <td>0</td>\n",
       "      <td>0</td>\n",
       "    </tr>\n",
       "    <tr>\n",
       "      <th>weekday_3</th>\n",
       "      <td>0</td>\n",
       "      <td>0</td>\n",
       "      <td>0</td>\n",
       "      <td>1</td>\n",
       "      <td>0</td>\n",
       "    </tr>\n",
       "    <tr>\n",
       "      <th>weekday_4</th>\n",
       "      <td>1</td>\n",
       "      <td>0</td>\n",
       "      <td>1</td>\n",
       "      <td>0</td>\n",
       "      <td>0</td>\n",
       "    </tr>\n",
       "    <tr>\n",
       "      <th>weekday_5</th>\n",
       "      <td>0</td>\n",
       "      <td>0</td>\n",
       "      <td>0</td>\n",
       "      <td>0</td>\n",
       "      <td>0</td>\n",
       "    </tr>\n",
       "    <tr>\n",
       "      <th>weekday_6</th>\n",
       "      <td>0</td>\n",
       "      <td>0</td>\n",
       "      <td>0</td>\n",
       "      <td>0</td>\n",
       "      <td>0</td>\n",
       "    </tr>\n",
       "    <tr>\n",
       "      <th>price_per_bed</th>\n",
       "      <td>1000</td>\n",
       "      <td>2500</td>\n",
       "      <td>2500</td>\n",
       "      <td>1000</td>\n",
       "      <td>2500</td>\n",
       "    </tr>\n",
       "    <tr>\n",
       "      <th>price_per_bath</th>\n",
       "      <td>2000</td>\n",
       "      <td>2500</td>\n",
       "      <td>2500</td>\n",
       "      <td>2000</td>\n",
       "      <td>2500</td>\n",
       "    </tr>\n",
       "    <tr>\n",
       "      <th>total_rooms</th>\n",
       "      <td>4.5</td>\n",
       "      <td>2</td>\n",
       "      <td>2</td>\n",
       "      <td>4.5</td>\n",
       "      <td>2</td>\n",
       "    </tr>\n",
       "    <tr>\n",
       "      <th>price_per_room</th>\n",
       "      <td>666.667</td>\n",
       "      <td>1250</td>\n",
       "      <td>1250</td>\n",
       "      <td>666.667</td>\n",
       "      <td>1250</td>\n",
       "    </tr>\n",
       "    <tr>\n",
       "      <th>price_in_cluster</th>\n",
       "      <td>136.337</td>\n",
       "      <td>-363.663</td>\n",
       "      <td>-363.663</td>\n",
       "      <td>136.337</td>\n",
       "      <td>-363.663</td>\n",
       "    </tr>\n",
       "    <tr>\n",
       "      <th>bed_in_cluster</th>\n",
       "      <td>1.31258</td>\n",
       "      <td>-0.687415</td>\n",
       "      <td>-0.687415</td>\n",
       "      <td>1.31258</td>\n",
       "      <td>-0.687415</td>\n",
       "    </tr>\n",
       "    <tr>\n",
       "      <th>bath_in_cluster</th>\n",
       "      <td>0.410014</td>\n",
       "      <td>-0.0899865</td>\n",
       "      <td>-0.0899865</td>\n",
       "      <td>0.410014</td>\n",
       "      <td>-0.0899865</td>\n",
       "    </tr>\n",
       "    <tr>\n",
       "      <th>unit_count</th>\n",
       "      <td>5</td>\n",
       "      <td>5</td>\n",
       "      <td>5</td>\n",
       "      <td>5</td>\n",
       "      <td>5</td>\n",
       "    </tr>\n",
       "    <tr>\n",
       "      <th>manager_popularity</th>\n",
       "      <td>235</td>\n",
       "      <td>235</td>\n",
       "      <td>235</td>\n",
       "      <td>235</td>\n",
       "      <td>235</td>\n",
       "    </tr>\n",
       "  </tbody>\n",
       "</table>\n",
       "</div>"
      ],
      "text/plain": [
       "                             0          1          2         3          4\n",
       "bathrooms                  1.5          1          1       1.5          1\n",
       "bedrooms                     3          1          1         3          1\n",
       "interest_level          medium        low        low       NaN        NaN\n",
       "latitude               40.7145    40.7145    40.7145   40.7145    40.7145\n",
       "listing_id             7211212    7159209    7209396   7171949    7185456\n",
       "log_price              8.00637    7.82405    7.82405       NaN        NaN\n",
       "longitude             -73.9425   -73.9425   -73.9425  -73.9425   -73.9425\n",
       "price                     3000       2500       2500      3000       2500\n",
       "test                     False      False      False      True       True\n",
       "avg_price              2863.66    2863.66    2863.66   2863.66    2863.66\n",
       "avg_bed                1.68742    1.68742    1.68742   1.68742    1.68742\n",
       "avg_bath               1.08999    1.08999    1.08999   1.08999    1.08999\n",
       "num_photos                   5          5          5         5          5\n",
       "num_features                 0          0          0         0          0\n",
       "words_in_description       588        548        548       588        548\n",
       "month_5                      0          0          0         0          0\n",
       "month_6                      1          1          1         1          1\n",
       "weekday_1                    0          1          0         0          0\n",
       "weekday_2                    0          0          0         0          0\n",
       "weekday_3                    0          0          0         1          0\n",
       "weekday_4                    1          0          1         0          0\n",
       "weekday_5                    0          0          0         0          0\n",
       "weekday_6                    0          0          0         0          0\n",
       "price_per_bed             1000       2500       2500      1000       2500\n",
       "price_per_bath            2000       2500       2500      2000       2500\n",
       "total_rooms                4.5          2          2       4.5          2\n",
       "price_per_room         666.667       1250       1250   666.667       1250\n",
       "price_in_cluster       136.337   -363.663   -363.663   136.337   -363.663\n",
       "bed_in_cluster         1.31258  -0.687415  -0.687415   1.31258  -0.687415\n",
       "bath_in_cluster       0.410014 -0.0899865 -0.0899865  0.410014 -0.0899865\n",
       "unit_count                   5          5          5         5          5\n",
       "manager_popularity         235        235        235       235        235"
      ]
     },
     "execution_count": 110,
     "metadata": {},
     "output_type": "execute_result"
    }
   ],
   "source": [
    "cdf.head(5).T"
   ]
  },
  {
   "cell_type": "markdown",
   "metadata": {},
   "source": [
    "## Setup train test dataframes for model"
   ]
  },
  {
   "cell_type": "code",
   "execution_count": 151,
   "metadata": {},
   "outputs": [
    {
     "name": "stdout",
     "output_type": "stream",
     "text": [
      "(49103, 31) (74659, 31)\n"
     ]
    }
   ],
   "source": [
    "train_cdf=cdf[cdf['test']==False]\n",
    "test_cdf=cdf[cdf['test']==True]\n",
    "train_cdf=train_cdf.drop('test',axis=1)\n",
    "test_cdf=test_cdf.drop('test',axis=1)\n",
    "print(train_cdf.shape,test_cdf.shape)"
   ]
  },
  {
   "cell_type": "code",
   "execution_count": 152,
   "metadata": {},
   "outputs": [
    {
     "data": {
      "text/plain": [
       "(49103, 29)"
      ]
     },
     "execution_count": 152,
     "metadata": {},
     "output_type": "execute_result"
    }
   ],
   "source": [
    "train_cdf_index=train_cdf['listing_id']\n",
    "train_cdf_target=train_cdf['interest_level']\n",
    "train_cdf_inputs=train_cdf.drop(['listing_id','interest_level'],axis=1)\n",
    "train_cdf_inputs = train_cdf_inputs.fillna(method='ffill')\n",
    "train_cdf_inputs.shape"
   ]
  },
  {
   "cell_type": "markdown",
   "metadata": {
    "collapsed": true
   },
   "source": [
    "train_cdf_inputs = Imputer().fit_transform(train_cdf_inputs)\n",
    "train_cdf_inputs.shape"
   ]
  },
  {
   "cell_type": "code",
   "execution_count": 153,
   "metadata": {},
   "outputs": [
    {
     "data": {
      "text/plain": [
       "(74659, 29)"
      ]
     },
     "execution_count": 153,
     "metadata": {},
     "output_type": "execute_result"
    }
   ],
   "source": [
    "test_cdf_index=test_cdf['listing_id'].values\n",
    "test_cdf_inputs=test_cdf.drop(['listing_id','interest_level'],axis=1)\n",
    "test_cdf_inputs = test_cdf_inputs.fillna(method='ffill')\n",
    "test_cdf_inputs.shape"
   ]
  },
  {
   "cell_type": "code",
   "execution_count": 154,
   "metadata": {},
   "outputs": [
    {
     "data": {
      "text/plain": [
       "array([7171949, 7185456, 6855487, ..., 7143646, 7152293, 7028987], dtype=int64)"
      ]
     },
     "execution_count": 154,
     "metadata": {},
     "output_type": "execute_result"
    }
   ],
   "source": [
    "test_cdf_index"
   ]
  },
  {
   "cell_type": "markdown",
   "metadata": {},
   "source": [
    "train_cdf_inputs = Imputer().fit_transform(train_cdf_inputs) \n",
    "train_cdf_inputs.shape"
   ]
  },
  {
   "cell_type": "markdown",
   "metadata": {},
   "source": [
    "test_cdf_inputs = Imputer().fit_transform(test_cdf_inputs) \n",
    "test_cdf_inputs.shape"
   ]
  },
  {
   "cell_type": "code",
   "execution_count": 155,
   "metadata": {},
   "outputs": [
    {
     "name": "stdout",
     "output_type": "stream",
     "text": [
      "(39282, 29) (9821, 29) (39282,) (9821,)\n"
     ]
    }
   ],
   "source": [
    "#Train Test Split\n",
    "X_train,X_val,Y_train,Y_val=train_test_split(train_cdf_inputs,train_cdf_target,test_size=0.2,random_state=0)\n",
    "print(X_train.shape,X_val.shape,Y_train.shape,Y_val.shape)"
   ]
  },
  {
   "cell_type": "markdown",
   "metadata": {},
   "source": [
    "## Setup target variable for log loss calculation"
   ]
  },
  {
   "cell_type": "code",
   "execution_count": 156,
   "metadata": {},
   "outputs": [
    {
     "data": {
      "text/html": [
       "<div>\n",
       "<table border=\"1\" class=\"dataframe\">\n",
       "  <thead>\n",
       "    <tr style=\"text-align: right;\">\n",
       "      <th></th>\n",
       "      <th>high</th>\n",
       "      <th>low</th>\n",
       "      <th>medium</th>\n",
       "    </tr>\n",
       "  </thead>\n",
       "  <tbody>\n",
       "    <tr>\n",
       "      <th>3890</th>\n",
       "      <td>0</td>\n",
       "      <td>1</td>\n",
       "      <td>0</td>\n",
       "    </tr>\n",
       "    <tr>\n",
       "      <th>64835</th>\n",
       "      <td>0</td>\n",
       "      <td>1</td>\n",
       "      <td>0</td>\n",
       "    </tr>\n",
       "    <tr>\n",
       "      <th>76499</th>\n",
       "      <td>0</td>\n",
       "      <td>1</td>\n",
       "      <td>0</td>\n",
       "    </tr>\n",
       "    <tr>\n",
       "      <th>18982</th>\n",
       "      <td>0</td>\n",
       "      <td>1</td>\n",
       "      <td>0</td>\n",
       "    </tr>\n",
       "    <tr>\n",
       "      <th>98681</th>\n",
       "      <td>0</td>\n",
       "      <td>1</td>\n",
       "      <td>0</td>\n",
       "    </tr>\n",
       "  </tbody>\n",
       "</table>\n",
       "</div>"
      ],
      "text/plain": [
       "       high  low  medium\n",
       "3890      0    1       0\n",
       "64835     0    1       0\n",
       "76499     0    1       0\n",
       "18982     0    1       0\n",
       "98681     0    1       0"
      ]
     },
     "execution_count": 156,
     "metadata": {},
     "output_type": "execute_result"
    }
   ],
   "source": [
    "#Setup Y_test for Log Loss scoring\n",
    "Y_val_onehot = pd.get_dummies(Y_val)\n",
    "Y_val_onehot.head()"
   ]
  },
  {
   "cell_type": "markdown",
   "metadata": {},
   "source": [
    "## Spot check possible models with K Fold CV"
   ]
  },
  {
   "cell_type": "markdown",
   "metadata": {
    "collapsed": true
   },
   "source": [
    "num_folds=10\n",
    "num_instances=len(X_train)\n",
    "seed=7\n",
    "scoring='accuracy'"
   ]
  },
  {
   "cell_type": "markdown",
   "metadata": {
    "collapsed": true
   },
   "source": [
    "#Spot Check Algorithms\n",
    "models=[]\n",
    "models.append(('LR',LogisticRegressionCV(multi_class='multinomial')))\n",
    "models.append(('RF',RandomForestClassifier(criterion='entropy',n_estimators=500,verbose=False,max_depth=18)))"
   ]
  },
  {
   "cell_type": "markdown",
   "metadata": {},
   "source": [
    "results=[]\n",
    "names=[]\n",
    "for name, model in models:\n",
    "    kfold=KFold(n=num_instances,n_folds=num_folds,random_state=seed)\n",
    "    cv_results=cross_val_score(model,X_train,Y_train, cv=kfold, scoring=scoring)\n",
    "    results.append(cv_results)\n",
    "    names.append(name)\n",
    "    msg=\"%s: %f (%f)\" %(name, cv_results.mean(),cv_results.std())\n",
    "    print(msg)"
   ]
  },
  {
   "cell_type": "markdown",
   "metadata": {},
   "source": [
    "## Logistic Regression"
   ]
  },
  {
   "cell_type": "markdown",
   "metadata": {},
   "source": [
    "#Logistic Regression\n",
    "lr=LogisticRegressionCV(cv=3, multi_class='multinomial', verbose=2, scoring='accuracy', max_iter=5000)\n",
    "lr.fit(X_train,Y_train)\n",
    "y_pred=lr.predict_proba(X_val)"
   ]
  },
  {
   "cell_type": "markdown",
   "metadata": {},
   "source": [
    "y_pred.shape"
   ]
  },
  {
   "cell_type": "markdown",
   "metadata": {},
   "source": [
    "#print(\"LR: Accuracy Score:\",accuracy_score(y_pred,Y_test))\n",
    "print(\"LR: Log Loss:\", log_loss(Y_val_onehot,y_pred))"
   ]
  },
  {
   "cell_type": "markdown",
   "metadata": {},
   "source": [
    "## Decision Tree"
   ]
  },
  {
   "cell_type": "markdown",
   "metadata": {
    "collapsed": true
   },
   "source": [
    "## Decision Tree\n",
    "tree=DecisionTreeClassifier(criterion='entropy',max_depth=5,random_state=0)\n",
    "tree.fit(X_train,Y_train)\n",
    "y_pred=tree.predict_proba(X_val)"
   ]
  },
  {
   "cell_type": "markdown",
   "metadata": {},
   "source": [
    "print(\"Tree: Log Loss:\", log_loss(Y_val_onehot,y_pred))"
   ]
  },
  {
   "cell_type": "code",
   "execution_count": 157,
   "metadata": {},
   "outputs": [
    {
     "data": {
      "text/plain": [
       "Index(['bathrooms', 'bedrooms', 'latitude', 'log_price', 'longitude', 'price',\n",
       "       'avg_price', 'avg_bed', 'avg_bath', 'num_photos', 'num_features',\n",
       "       'words_in_description', 'month_5', 'month_6', 'weekday_1', 'weekday_2',\n",
       "       'weekday_3', 'weekday_4', 'weekday_5', 'weekday_6', 'price_per_bed',\n",
       "       'price_per_bath', 'total_rooms', 'price_per_room', 'price_in_cluster',\n",
       "       'bed_in_cluster', 'bath_in_cluster', 'unit_count',\n",
       "       'manager_popularity'],\n",
       "      dtype='object')"
      ]
     },
     "execution_count": 157,
     "metadata": {},
     "output_type": "execute_result"
    }
   ],
   "source": [
    "#Feature Names\n",
    "feature_names=train_cdf_inputs.columns\n",
    "feature_names"
   ]
  },
  {
   "cell_type": "markdown",
   "metadata": {},
   "source": [
    "#Plot Decision Tree\n",
    "from os import system\n",
    "export_graphviz(tree,out_file='tree.dot',\n",
    "                feature_names=feature_names)\n",
    "system(\"dot -Tpng tree.dot -o tree.png\")"
   ]
  },
  {
   "cell_type": "markdown",
   "metadata": {},
   "source": [
    "## Random Forest"
   ]
  },
  {
   "cell_type": "code",
   "execution_count": 158,
   "metadata": {},
   "outputs": [
    {
     "ename": "ValueError",
     "evalue": "Input contains NaN, infinity or a value too large for dtype('float32').",
     "output_type": "error",
     "traceback": [
      "\u001b[1;31m---------------------------------------------------------------------------\u001b[0m",
      "\u001b[1;31mValueError\u001b[0m                                Traceback (most recent call last)",
      "\u001b[1;32m<ipython-input-158-465bd720af1e>\u001b[0m in \u001b[0;36m<module>\u001b[1;34m()\u001b[0m\n\u001b[0;32m      1\u001b[0m \u001b[1;31m#Random Forest\u001b[0m\u001b[1;33m\u001b[0m\u001b[1;33m\u001b[0m\u001b[0m\n\u001b[0;32m      2\u001b[0m \u001b[0mforest\u001b[0m\u001b[1;33m=\u001b[0m\u001b[0mRandomForestClassifier\u001b[0m\u001b[1;33m(\u001b[0m\u001b[0mcriterion\u001b[0m\u001b[1;33m=\u001b[0m\u001b[1;34m'entropy'\u001b[0m\u001b[1;33m,\u001b[0m\u001b[0mn_estimators\u001b[0m\u001b[1;33m=\u001b[0m\u001b[1;36m500\u001b[0m\u001b[1;33m,\u001b[0m\u001b[0mverbose\u001b[0m\u001b[1;33m=\u001b[0m\u001b[1;32mFalse\u001b[0m\u001b[1;33m,\u001b[0m\u001b[0mmax_depth\u001b[0m\u001b[1;33m=\u001b[0m\u001b[1;36m18\u001b[0m\u001b[1;33m)\u001b[0m\u001b[1;33m\u001b[0m\u001b[0m\n\u001b[1;32m----> 3\u001b[1;33m \u001b[0mforest\u001b[0m\u001b[1;33m.\u001b[0m\u001b[0mfit\u001b[0m\u001b[1;33m(\u001b[0m\u001b[0mX_train\u001b[0m\u001b[1;33m,\u001b[0m\u001b[0mY_train\u001b[0m\u001b[1;33m)\u001b[0m\u001b[1;33m\u001b[0m\u001b[0m\n\u001b[0m\u001b[0;32m      4\u001b[0m \u001b[0my_pred\u001b[0m\u001b[1;33m=\u001b[0m\u001b[0mforest\u001b[0m\u001b[1;33m.\u001b[0m\u001b[0mpredict_proba\u001b[0m\u001b[1;33m(\u001b[0m\u001b[0mX_val\u001b[0m\u001b[1;33m)\u001b[0m\u001b[1;33m\u001b[0m\u001b[0m\n",
      "\u001b[1;32mC:\\ProgramData\\Anaconda3\\lib\\site-packages\\sklearn\\ensemble\\forest.py\u001b[0m in \u001b[0;36mfit\u001b[1;34m(self, X, y, sample_weight)\u001b[0m\n\u001b[0;32m    245\u001b[0m         \"\"\"\n\u001b[0;32m    246\u001b[0m         \u001b[1;31m# Validate or convert input data\u001b[0m\u001b[1;33m\u001b[0m\u001b[1;33m\u001b[0m\u001b[0m\n\u001b[1;32m--> 247\u001b[1;33m         \u001b[0mX\u001b[0m \u001b[1;33m=\u001b[0m \u001b[0mcheck_array\u001b[0m\u001b[1;33m(\u001b[0m\u001b[0mX\u001b[0m\u001b[1;33m,\u001b[0m \u001b[0maccept_sparse\u001b[0m\u001b[1;33m=\u001b[0m\u001b[1;34m\"csc\"\u001b[0m\u001b[1;33m,\u001b[0m \u001b[0mdtype\u001b[0m\u001b[1;33m=\u001b[0m\u001b[0mDTYPE\u001b[0m\u001b[1;33m)\u001b[0m\u001b[1;33m\u001b[0m\u001b[0m\n\u001b[0m\u001b[0;32m    248\u001b[0m         \u001b[0my\u001b[0m \u001b[1;33m=\u001b[0m \u001b[0mcheck_array\u001b[0m\u001b[1;33m(\u001b[0m\u001b[0my\u001b[0m\u001b[1;33m,\u001b[0m \u001b[0maccept_sparse\u001b[0m\u001b[1;33m=\u001b[0m\u001b[1;34m'csc'\u001b[0m\u001b[1;33m,\u001b[0m \u001b[0mensure_2d\u001b[0m\u001b[1;33m=\u001b[0m\u001b[1;32mFalse\u001b[0m\u001b[1;33m,\u001b[0m \u001b[0mdtype\u001b[0m\u001b[1;33m=\u001b[0m\u001b[1;32mNone\u001b[0m\u001b[1;33m)\u001b[0m\u001b[1;33m\u001b[0m\u001b[0m\n\u001b[0;32m    249\u001b[0m         \u001b[1;32mif\u001b[0m \u001b[0missparse\u001b[0m\u001b[1;33m(\u001b[0m\u001b[0mX\u001b[0m\u001b[1;33m)\u001b[0m\u001b[1;33m:\u001b[0m\u001b[1;33m\u001b[0m\u001b[0m\n",
      "\u001b[1;32mC:\\ProgramData\\Anaconda3\\lib\\site-packages\\sklearn\\utils\\validation.py\u001b[0m in \u001b[0;36mcheck_array\u001b[1;34m(array, accept_sparse, dtype, order, copy, force_all_finite, ensure_2d, allow_nd, ensure_min_samples, ensure_min_features, warn_on_dtype, estimator)\u001b[0m\n\u001b[0;32m    405\u001b[0m                              % (array.ndim, estimator_name))\n\u001b[0;32m    406\u001b[0m         \u001b[1;32mif\u001b[0m \u001b[0mforce_all_finite\u001b[0m\u001b[1;33m:\u001b[0m\u001b[1;33m\u001b[0m\u001b[0m\n\u001b[1;32m--> 407\u001b[1;33m             \u001b[0m_assert_all_finite\u001b[0m\u001b[1;33m(\u001b[0m\u001b[0marray\u001b[0m\u001b[1;33m)\u001b[0m\u001b[1;33m\u001b[0m\u001b[0m\n\u001b[0m\u001b[0;32m    408\u001b[0m \u001b[1;33m\u001b[0m\u001b[0m\n\u001b[0;32m    409\u001b[0m     \u001b[0mshape_repr\u001b[0m \u001b[1;33m=\u001b[0m \u001b[0m_shape_repr\u001b[0m\u001b[1;33m(\u001b[0m\u001b[0marray\u001b[0m\u001b[1;33m.\u001b[0m\u001b[0mshape\u001b[0m\u001b[1;33m)\u001b[0m\u001b[1;33m\u001b[0m\u001b[0m\n",
      "\u001b[1;32mC:\\ProgramData\\Anaconda3\\lib\\site-packages\\sklearn\\utils\\validation.py\u001b[0m in \u001b[0;36m_assert_all_finite\u001b[1;34m(X)\u001b[0m\n\u001b[0;32m     56\u001b[0m             and not np.isfinite(X).all()):\n\u001b[0;32m     57\u001b[0m         raise ValueError(\"Input contains NaN, infinity\"\n\u001b[1;32m---> 58\u001b[1;33m                          \" or a value too large for %r.\" % X.dtype)\n\u001b[0m\u001b[0;32m     59\u001b[0m \u001b[1;33m\u001b[0m\u001b[0m\n\u001b[0;32m     60\u001b[0m \u001b[1;33m\u001b[0m\u001b[0m\n",
      "\u001b[1;31mValueError\u001b[0m: Input contains NaN, infinity or a value too large for dtype('float32')."
     ]
    }
   ],
   "source": [
    "#Random Forest\n",
    "forest=RandomForestClassifier(criterion='entropy',n_estimators=500,verbose=False,max_depth=18)\n",
    "forest.fit(X_train,Y_train)\n",
    "y_pred=forest.predict_proba(X_val)"
   ]
  },
  {
   "cell_type": "code",
   "execution_count": 120,
   "metadata": {},
   "outputs": [
    {
     "name": "stdout",
     "output_type": "stream",
     "text": [
      "Forest: Log Loss: 0.58221341501\n"
     ]
    }
   ],
   "source": [
    "print(\"Forest: Log Loss:\", log_loss(Y_val_onehot,y_pred))"
   ]
  },
  {
   "cell_type": "markdown",
   "metadata": {},
   "source": [
    "## Feature Importances"
   ]
  },
  {
   "cell_type": "code",
   "execution_count": 121,
   "metadata": {
    "collapsed": true
   },
   "outputs": [],
   "source": [
    "importances=forest.feature_importances_\n",
    "std = np.std([tree.feature_importances_ for tree in forest.estimators_],\n",
    "             axis=0)\n",
    "indices = np.argsort(importances)[::-1]"
   ]
  },
  {
   "cell_type": "code",
   "execution_count": 122,
   "metadata": {},
   "outputs": [
    {
     "data": {
      "text/plain": [
       "array([24,  5,  3, 21, 11, 25,  2,  4,  9, 10, 22,  6, 23,  8,  7,  1, 20,\n",
       "       13, 12, 15, 16, 14, 17, 18, 19,  0], dtype=int64)"
      ]
     },
     "execution_count": 122,
     "metadata": {},
     "output_type": "execute_result"
    }
   ],
   "source": [
    "indices"
   ]
  },
  {
   "cell_type": "code",
   "execution_count": 123,
   "metadata": {},
   "outputs": [
    {
     "data": {
      "text/plain": [
       "Index(['bathrooms', 'bedrooms', 'latitude', 'log_price', 'longitude', 'price',\n",
       "       'avg_price', 'avg_bed', 'avg_bath', 'num_photos', 'num_features',\n",
       "       'words_in_description', 'month_5', 'month_6', 'weekday_1', 'weekday_2',\n",
       "       'weekday_3', 'weekday_4', 'weekday_5', 'weekday_6', 'price_per_bed',\n",
       "       'price_per_bath', 'total_rooms', 'price_per_room', 'price_in_cluster',\n",
       "       'bed_in_cluster', 'bath_in_cluster', 'unit_count',\n",
       "       'manager_popularity'],\n",
       "      dtype='object')"
      ]
     },
     "execution_count": 123,
     "metadata": {},
     "output_type": "execute_result"
    }
   ],
   "source": [
    "feature_names"
   ]
  },
  {
   "cell_type": "code",
   "execution_count": 124,
   "metadata": {},
   "outputs": [
    {
     "name": "stdout",
     "output_type": "stream",
     "text": [
      "Feature ranking:\n",
      "1. feature 24 (0.096089)\n",
      "2. feature 5 (0.089698)\n",
      "3. feature 3 (0.089193)\n",
      "4. feature 21 (0.079925)\n",
      "5. feature 11 (0.076958)\n",
      "6. feature 25 (0.064300)\n",
      "7. feature 2 (0.061034)\n",
      "8. feature 4 (0.060915)\n",
      "9. feature 9 (0.055093)\n",
      "10. feature 10 (0.053788)\n",
      "11. feature 22 (0.049023)\n",
      "12. feature 6 (0.029907)\n",
      "13. feature 23 (0.028732)\n",
      "14. feature 8 (0.024666)\n",
      "15. feature 7 (0.023759)\n",
      "16. feature 1 (0.020685)\n",
      "17. feature 20 (0.019791)\n",
      "18. feature 13 (0.011270)\n",
      "19. feature 12 (0.011190)\n",
      "20. feature 15 (0.009082)\n",
      "21. feature 16 (0.008750)\n",
      "22. feature 14 (0.008688)\n",
      "23. feature 17 (0.008414)\n",
      "24. feature 18 (0.007748)\n",
      "25. feature 19 (0.005805)\n",
      "26. feature 0 (0.005496)\n"
     ]
    },
    {
     "data": {
      "image/png": "[encoded data removed]",
      "text/plain": [
       "<matplotlib.figure.Figure at 0x15a82ba8>"
      ]
     },
     "metadata": {},
     "output_type": "display_data"
    }
   ],
   "source": [
    "# Print the feature ranking\n",
    "print(\"Feature ranking:\")\n",
    "\n",
    "for f in range(X_train.shape[1]):\n",
    "    print(\"%d. feature %d (%f)\" % (f + 1, indices[f], importances[indices[f]]))\n",
    "\n",
    "# Plot the feature importances of the forest\n",
    "plt.figure()\n",
    "plt.title(\"Feature importances\")\n",
    "plt.bar(range(X_train.shape[1]), importances[indices],\n",
    "       color=\"r\", yerr=std[indices], align=\"center\")\n",
    "plt.xticks(range(X_train.shape[1]), indices)\n",
    "plt.xlim([-1, X_train.shape[1]])\n",
    "plt.show()"
   ]
  },
  {
   "cell_type": "markdown",
   "metadata": {},
   "source": [
    "## Grid Search"
   ]
  },
  {
   "cell_type": "code",
   "execution_count": 125,
   "metadata": {},
   "outputs": [
    {
     "name": "stdout",
     "output_type": "stream",
     "text": [
      "Fitting 3 folds for each of 1 candidates, totalling 3 fits\n"
     ]
    },
    {
     "name": "stderr",
     "output_type": "stream",
     "text": [
      "[Parallel(n_jobs=3)]: Done   3 out of   3 | elapsed:  1.3min remaining:    0.0s\n",
      "[Parallel(n_jobs=3)]: Done   3 out of   3 | elapsed:  1.3min finished\n"
     ]
    },
    {
     "data": {
      "text/plain": [
       "GridSearchCV(cv=None, error_score='raise',\n",
       "       estimator=RandomForestClassifier(bootstrap=True, class_weight=None, criterion='gini',\n",
       "            max_depth=None, max_features='auto', max_leaf_nodes=None,\n",
       "            min_impurity_split=1e-07, min_samples_leaf=1,\n",
       "            min_samples_split=2, min_weight_fraction_leaf=0.0,\n",
       "            n_estimators=10, n_jobs=1, oob_score=False, random_state=None,\n",
       "            verbose=0, warm_start=False),\n",
       "       fit_params={}, iid=True, n_jobs=3,\n",
       "       param_grid={'max_depth': [20], 'class_weight': [None], 'n_estimators': [800]},\n",
       "       pre_dispatch='2*n_jobs', refit=True, scoring=None, verbose=10)"
      ]
     },
     "execution_count": 125,
     "metadata": {},
     "output_type": "execute_result"
    }
   ],
   "source": [
    "grid_search_params = dict(n_estimators=[800], \n",
    "                          max_depth=[20], \n",
    "                          class_weight=[None])\n",
    "rfc = RandomForestClassifier()\n",
    "gs = GridSearchCV(estimator=rfc, param_grid=grid_search_params, n_jobs=3, verbose=10)\n",
    "\n",
    "gs.fit(X_train, Y_train)"
   ]
  },
  {
   "cell_type": "code",
   "execution_count": 126,
   "metadata": {},
   "outputs": [
    {
     "name": "stdout",
     "output_type": "stream",
     "text": [
      "Best params:  {'max_depth': 20, 'n_estimators': 800, 'class_weight': None}\n",
      "Best score:  0.7337202790081971\n"
     ]
    }
   ],
   "source": [
    "print(\"Best params: \", gs.best_params_)\n",
    "print(\"Best score: \", gs.best_score_)"
   ]
  },
  {
   "cell_type": "code",
   "execution_count": 127,
   "metadata": {},
   "outputs": [
    {
     "data": {
      "text/plain": [
       "array(['low', 'low', 'low', ..., 'medium', 'low', 'low'], dtype=object)"
      ]
     },
     "execution_count": 127,
     "metadata": {},
     "output_type": "execute_result"
    }
   ],
   "source": [
    "y_pred = gs.predict(X_val)\n",
    "y_pred"
   ]
  },
  {
   "cell_type": "code",
   "execution_count": 128,
   "metadata": {},
   "outputs": [
    {
     "data": {
      "text/plain": [
       "array(['high', 'low', 'medium'], dtype=object)"
      ]
     },
     "execution_count": 128,
     "metadata": {},
     "output_type": "execute_result"
    }
   ],
   "source": [
    "classes = gs.best_estimator_.classes_\n",
    "classes"
   ]
  },
  {
   "cell_type": "markdown",
   "metadata": {},
   "source": [
    "## Classification Matrix"
   ]
  },
  {
   "cell_type": "code",
   "execution_count": 129,
   "metadata": {},
   "outputs": [
    {
     "name": "stdout",
     "output_type": "stream",
     "text": [
      "             precision    recall  f1-score   support\n",
      "\n",
      "       high       0.52      0.26      0.35       737\n",
      "        low       0.80      0.93      0.86      6852\n",
      "     medium       0.50      0.32      0.39      2232\n",
      "\n",
      "avg / total       0.71      0.74      0.71      9821\n",
      "\n"
     ]
    }
   ],
   "source": [
    "print(classification_report(Y_val, y_pred))"
   ]
  },
  {
   "cell_type": "code",
   "execution_count": 130,
   "metadata": {},
   "outputs": [
    {
     "name": "stdout",
     "output_type": "stream",
     "text": [
      "0.742185113532\n"
     ]
    }
   ],
   "source": [
    "print(accuracy_score(Y_val, y_pred))"
   ]
  },
  {
   "cell_type": "markdown",
   "metadata": {},
   "source": [
    "## Run model on test dataset and prep for submission to Kaggle"
   ]
  },
  {
   "cell_type": "code",
   "execution_count": 131,
   "metadata": {
    "collapsed": true
   },
   "outputs": [],
   "source": [
    "test_cdf_inputs = Imputer().fit_transform(test_cdf_inputs)"
   ]
  },
  {
   "cell_type": "code",
   "execution_count": 132,
   "metadata": {},
   "outputs": [
    {
     "ename": "ValueError",
     "evalue": "Number of features of the model must match the input. Model n_features is 26 and input n_features is 25 ",
     "output_type": "error",
     "traceback": [
      "\u001b[1;31m---------------------------------------------------------------------------\u001b[0m",
      "\u001b[1;31mValueError\u001b[0m                                Traceback (most recent call last)",
      "\u001b[1;32m<ipython-input-132-689810011fcb>\u001b[0m in \u001b[0;36m<module>\u001b[1;34m()\u001b[0m\n\u001b[1;32m----> 1\u001b[1;33m \u001b[0mtarget_prob\u001b[0m \u001b[1;33m=\u001b[0m \u001b[0mpd\u001b[0m\u001b[1;33m.\u001b[0m\u001b[0mDataFrame\u001b[0m\u001b[1;33m(\u001b[0m\u001b[0mdata\u001b[0m\u001b[1;33m=\u001b[0m\u001b[0mgs\u001b[0m\u001b[1;33m.\u001b[0m\u001b[0mpredict_proba\u001b[0m\u001b[1;33m(\u001b[0m\u001b[0mtest_cdf_inputs\u001b[0m\u001b[1;33m)\u001b[0m\u001b[1;33m,\u001b[0m \u001b[0mcolumns\u001b[0m\u001b[1;33m=\u001b[0m\u001b[0mgs\u001b[0m\u001b[1;33m.\u001b[0m\u001b[0mbest_estimator_\u001b[0m\u001b[1;33m.\u001b[0m\u001b[0mclasses_\u001b[0m\u001b[1;33m)\u001b[0m\u001b[1;33m\u001b[0m\u001b[0m\n\u001b[0m",
      "\u001b[1;32mC:\\ProgramData\\Anaconda3\\lib\\site-packages\\sklearn\\utils\\metaestimators.py\u001b[0m in \u001b[0;36m<lambda>\u001b[1;34m(*args, **kwargs)\u001b[0m\n\u001b[0;32m     52\u001b[0m \u001b[1;33m\u001b[0m\u001b[0m\n\u001b[0;32m     53\u001b[0m         \u001b[1;31m# lambda, but not partial, allows help() to work with update_wrapper\u001b[0m\u001b[1;33m\u001b[0m\u001b[1;33m\u001b[0m\u001b[0m\n\u001b[1;32m---> 54\u001b[1;33m         \u001b[0mout\u001b[0m \u001b[1;33m=\u001b[0m \u001b[1;32mlambda\u001b[0m \u001b[1;33m*\u001b[0m\u001b[0margs\u001b[0m\u001b[1;33m,\u001b[0m \u001b[1;33m**\u001b[0m\u001b[0mkwargs\u001b[0m\u001b[1;33m:\u001b[0m \u001b[0mself\u001b[0m\u001b[1;33m.\u001b[0m\u001b[0mfn\u001b[0m\u001b[1;33m(\u001b[0m\u001b[0mobj\u001b[0m\u001b[1;33m,\u001b[0m \u001b[1;33m*\u001b[0m\u001b[0margs\u001b[0m\u001b[1;33m,\u001b[0m \u001b[1;33m**\u001b[0m\u001b[0mkwargs\u001b[0m\u001b[1;33m)\u001b[0m\u001b[1;33m\u001b[0m\u001b[0m\n\u001b[0m\u001b[0;32m     55\u001b[0m         \u001b[1;31m# update the docstring of the returned function\u001b[0m\u001b[1;33m\u001b[0m\u001b[1;33m\u001b[0m\u001b[0m\n\u001b[0;32m     56\u001b[0m         \u001b[0mupdate_wrapper\u001b[0m\u001b[1;33m(\u001b[0m\u001b[0mout\u001b[0m\u001b[1;33m,\u001b[0m \u001b[0mself\u001b[0m\u001b[1;33m.\u001b[0m\u001b[0mfn\u001b[0m\u001b[1;33m)\u001b[0m\u001b[1;33m\u001b[0m\u001b[0m\n",
      "\u001b[1;32mC:\\ProgramData\\Anaconda3\\lib\\site-packages\\sklearn\\grid_search.py\u001b[0m in \u001b[0;36mpredict_proba\u001b[1;34m(self, X)\u001b[0m\n\u001b[0;32m    469\u001b[0m \u001b[1;33m\u001b[0m\u001b[0m\n\u001b[0;32m    470\u001b[0m         \"\"\"\n\u001b[1;32m--> 471\u001b[1;33m         \u001b[1;32mreturn\u001b[0m \u001b[0mself\u001b[0m\u001b[1;33m.\u001b[0m\u001b[0mbest_estimator_\u001b[0m\u001b[1;33m.\u001b[0m\u001b[0mpredict_proba\u001b[0m\u001b[1;33m(\u001b[0m\u001b[0mX\u001b[0m\u001b[1;33m)\u001b[0m\u001b[1;33m\u001b[0m\u001b[0m\n\u001b[0m\u001b[0;32m    472\u001b[0m \u001b[1;33m\u001b[0m\u001b[0m\n\u001b[0;32m    473\u001b[0m     \u001b[1;33m@\u001b[0m\u001b[0mif_delegate_has_method\u001b[0m\u001b[1;33m(\u001b[0m\u001b[0mdelegate\u001b[0m\u001b[1;33m=\u001b[0m\u001b[1;33m(\u001b[0m\u001b[1;34m'best_estimator_'\u001b[0m\u001b[1;33m,\u001b[0m \u001b[1;34m'estimator'\u001b[0m\u001b[1;33m)\u001b[0m\u001b[1;33m)\u001b[0m\u001b[1;33m\u001b[0m\u001b[0m\n",
      "\u001b[1;32mC:\\ProgramData\\Anaconda3\\lib\\site-packages\\sklearn\\ensemble\\forest.py\u001b[0m in \u001b[0;36mpredict_proba\u001b[1;34m(self, X)\u001b[0m\n\u001b[0;32m    571\u001b[0m         \"\"\"\n\u001b[0;32m    572\u001b[0m         \u001b[1;31m# Check data\u001b[0m\u001b[1;33m\u001b[0m\u001b[1;33m\u001b[0m\u001b[0m\n\u001b[1;32m--> 573\u001b[1;33m         \u001b[0mX\u001b[0m \u001b[1;33m=\u001b[0m \u001b[0mself\u001b[0m\u001b[1;33m.\u001b[0m\u001b[0m_validate_X_predict\u001b[0m\u001b[1;33m(\u001b[0m\u001b[0mX\u001b[0m\u001b[1;33m)\u001b[0m\u001b[1;33m\u001b[0m\u001b[0m\n\u001b[0m\u001b[0;32m    574\u001b[0m \u001b[1;33m\u001b[0m\u001b[0m\n\u001b[0;32m    575\u001b[0m         \u001b[1;31m# Assign chunk of trees to jobs\u001b[0m\u001b[1;33m\u001b[0m\u001b[1;33m\u001b[0m\u001b[0m\n",
      "\u001b[1;32mC:\\ProgramData\\Anaconda3\\lib\\site-packages\\sklearn\\ensemble\\forest.py\u001b[0m in \u001b[0;36m_validate_X_predict\u001b[1;34m(self, X)\u001b[0m\n\u001b[0;32m    353\u001b[0m                                  \"call `fit` before exploiting the model.\")\n\u001b[0;32m    354\u001b[0m \u001b[1;33m\u001b[0m\u001b[0m\n\u001b[1;32m--> 355\u001b[1;33m         \u001b[1;32mreturn\u001b[0m \u001b[0mself\u001b[0m\u001b[1;33m.\u001b[0m\u001b[0mestimators_\u001b[0m\u001b[1;33m[\u001b[0m\u001b[1;36m0\u001b[0m\u001b[1;33m]\u001b[0m\u001b[1;33m.\u001b[0m\u001b[0m_validate_X_predict\u001b[0m\u001b[1;33m(\u001b[0m\u001b[0mX\u001b[0m\u001b[1;33m,\u001b[0m \u001b[0mcheck_input\u001b[0m\u001b[1;33m=\u001b[0m\u001b[1;32mTrue\u001b[0m\u001b[1;33m)\u001b[0m\u001b[1;33m\u001b[0m\u001b[0m\n\u001b[0m\u001b[0;32m    356\u001b[0m \u001b[1;33m\u001b[0m\u001b[0m\n\u001b[0;32m    357\u001b[0m     \u001b[1;33m@\u001b[0m\u001b[0mproperty\u001b[0m\u001b[1;33m\u001b[0m\u001b[0m\n",
      "\u001b[1;32mC:\\ProgramData\\Anaconda3\\lib\\site-packages\\sklearn\\tree\\tree.py\u001b[0m in \u001b[0;36m_validate_X_predict\u001b[1;34m(self, X, check_input)\u001b[0m\n\u001b[0;32m    374\u001b[0m                              \u001b[1;34m\"match the input. Model n_features is %s and \"\u001b[0m\u001b[1;33m\u001b[0m\u001b[0m\n\u001b[0;32m    375\u001b[0m                              \u001b[1;34m\"input n_features is %s \"\u001b[0m\u001b[1;33m\u001b[0m\u001b[0m\n\u001b[1;32m--> 376\u001b[1;33m                              % (self.n_features_, n_features))\n\u001b[0m\u001b[0;32m    377\u001b[0m \u001b[1;33m\u001b[0m\u001b[0m\n\u001b[0;32m    378\u001b[0m         \u001b[1;32mreturn\u001b[0m \u001b[0mX\u001b[0m\u001b[1;33m\u001b[0m\u001b[0m\n",
      "\u001b[1;31mValueError\u001b[0m: Number of features of the model must match the input. Model n_features is 26 and input n_features is 25 "
     ]
    }
   ],
   "source": [
    "target_prob = pd.DataFrame(data=gs.predict_proba(test_cdf_inputs), columns=gs.best_estimator_.classes_)"
   ]
  },
  {
   "cell_type": "code",
   "execution_count": 65,
   "metadata": {},
   "outputs": [
    {
     "data": {
      "text/html": [
       "<div>\n",
       "<table border=\"1\" class=\"dataframe\">\n",
       "  <thead>\n",
       "    <tr style=\"text-align: right;\">\n",
       "      <th></th>\n",
       "      <th>high</th>\n",
       "      <th>low</th>\n",
       "      <th>medium</th>\n",
       "      <th>listing_id</th>\n",
       "    </tr>\n",
       "  </thead>\n",
       "  <tbody>\n",
       "    <tr>\n",
       "      <th>0</th>\n",
       "      <td>0.043350</td>\n",
       "      <td>0.422241</td>\n",
       "      <td>0.534409</td>\n",
       "      <td>7171949</td>\n",
       "    </tr>\n",
       "    <tr>\n",
       "      <th>1</th>\n",
       "      <td>0.017502</td>\n",
       "      <td>0.892655</td>\n",
       "      <td>0.089844</td>\n",
       "      <td>7185456</td>\n",
       "    </tr>\n",
       "    <tr>\n",
       "      <th>2</th>\n",
       "      <td>0.024361</td>\n",
       "      <td>0.772178</td>\n",
       "      <td>0.203461</td>\n",
       "      <td>7061356</td>\n",
       "    </tr>\n",
       "    <tr>\n",
       "      <th>3</th>\n",
       "      <td>0.022126</td>\n",
       "      <td>0.779102</td>\n",
       "      <td>0.198772</td>\n",
       "      <td>6969589</td>\n",
       "    </tr>\n",
       "    <tr>\n",
       "      <th>4</th>\n",
       "      <td>0.030622</td>\n",
       "      <td>0.873940</td>\n",
       "      <td>0.095438</td>\n",
       "      <td>6902233</td>\n",
       "    </tr>\n",
       "    <tr>\n",
       "      <th>5</th>\n",
       "      <td>0.012751</td>\n",
       "      <td>0.913522</td>\n",
       "      <td>0.073727</td>\n",
       "      <td>6873033</td>\n",
       "    </tr>\n",
       "    <tr>\n",
       "      <th>6</th>\n",
       "      <td>0.088392</td>\n",
       "      <td>0.724261</td>\n",
       "      <td>0.187347</td>\n",
       "      <td>6937777</td>\n",
       "    </tr>\n",
       "    <tr>\n",
       "      <th>7</th>\n",
       "      <td>0.057613</td>\n",
       "      <td>0.755600</td>\n",
       "      <td>0.186787</td>\n",
       "      <td>6910064</td>\n",
       "    </tr>\n",
       "    <tr>\n",
       "      <th>8</th>\n",
       "      <td>0.045426</td>\n",
       "      <td>0.397725</td>\n",
       "      <td>0.556849</td>\n",
       "      <td>6910712</td>\n",
       "    </tr>\n",
       "    <tr>\n",
       "      <th>9</th>\n",
       "      <td>0.042796</td>\n",
       "      <td>0.392122</td>\n",
       "      <td>0.565082</td>\n",
       "      <td>6855602</td>\n",
       "    </tr>\n",
       "  </tbody>\n",
       "</table>\n",
       "</div>"
      ],
      "text/plain": [
       "       high       low    medium  listing_id\n",
       "0  0.043350  0.422241  0.534409     7171949\n",
       "1  0.017502  0.892655  0.089844     7185456\n",
       "2  0.024361  0.772178  0.203461     7061356\n",
       "3  0.022126  0.779102  0.198772     6969589\n",
       "4  0.030622  0.873940  0.095438     6902233\n",
       "5  0.012751  0.913522  0.073727     6873033\n",
       "6  0.088392  0.724261  0.187347     6937777\n",
       "7  0.057613  0.755600  0.186787     6910064\n",
       "8  0.045426  0.397725  0.556849     6910712\n",
       "9  0.042796  0.392122  0.565082     6855602"
      ]
     },
     "execution_count": 65,
     "metadata": {},
     "output_type": "execute_result"
    }
   ],
   "source": [
    "target_prob['listing_id'] = test_cdf_index\n",
    "target_prob.head(10)"
   ]
  },
  {
   "cell_type": "code",
   "execution_count": 66,
   "metadata": {
    "collapsed": true
   },
   "outputs": [],
   "source": [
    "target_prob.to_csv(\"rf5.csv\", index=False)"
   ]
  },
  {
   "cell_type": "markdown",
   "metadata": {},
   "source": [
    "### Kaggle Score 0.59901"
   ]
  },
  {
   "cell_type": "code",
   "execution_count": null,
   "metadata": {
    "collapsed": true
   },
   "outputs": [],
   "source": []
  }
 ],
 "metadata": {
  "anaconda-cloud": {},
  "kernelspec": {
   "display_name": "Python 3",
   "language": "python",
   "name": "python3"
  },
  "language_info": {
   "codemirror_mode": {
    "name": "ipython",
    "version": 3
   },
   "file_extension": ".py",
   "mimetype": "text/x-python",
   "name": "python",
   "nbconvert_exporter": "python",
   "pygments_lexer": "ipython3",
   "version": "3.5.2"
  }
 },
 "nbformat": 4,
 "nbformat_minor": 1
}
